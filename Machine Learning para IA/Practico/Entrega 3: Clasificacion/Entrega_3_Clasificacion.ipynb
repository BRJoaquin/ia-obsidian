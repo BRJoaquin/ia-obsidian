{
 "cells": [
  {
   "cell_type": "markdown",
   "metadata": {
    "id": "9aA5RfAWzYcS"
   },
   "source": [
    "# Entrega 3: Clasificación"
   ]
  },
  {
   "cell_type": "markdown",
   "metadata": {
    "id": "QU4PLZGrzhHX"
   },
   "source": [
    "## Imports"
   ]
  },
  {
   "cell_type": "code",
   "execution_count": null,
   "metadata": {
    "id": "RJC534VzzDYN"
   },
   "outputs": [],
   "source": [
    "#Datos\n",
    "from sklearn.datasets import fetch_openml\n",
    "\n",
    "#Tratamiento de datos\n",
    "import numpy as np\n",
    "import pandas as pd\n",
    "\n",
    "#Visuazacion\n",
    "import matplotlib.pyplot as plt\n",
    "import seaborn as sns\n",
    "\n",
    "#Algorimtos de clasificacion\n",
    "from sklearn.neighbors import KNeighborsClassifier\n",
    "from sklearn.linear_model import LogisticRegression\n",
    "from sklearn.tree import DecisionTreeClassifier\n",
    "\n",
    "#Visaulizacion decision tree\n",
    "from sklearn.tree import plot_tree\n",
    "\n",
    "\n",
    "#Reduccion de dimensionalidad\n",
    "from sklearn.decomposition import PCA\n",
    "\n",
    "#Medir el progreso de ejecucion en loops\n",
    "from tqdm import tqdm\n",
    "\n",
    "#Metricas de performance\n",
    "from sklearn.metrics import accuracy_score ,classification_report , confusion_matrix, ConfusionMatrixDisplay"
   ]
  },
  {
   "cell_type": "markdown",
   "metadata": {
    "id": "JxLB0qp8zkzy"
   },
   "source": [
    "## MNIST dataset"
   ]
  },
  {
   "cell_type": "markdown",
   "metadata": {
    "id": "lLoAfynQYIIj"
   },
   "source": [
    "El conjunto de datos mnist_784 proviene de la base de datos MNIST (Modified National Institute of Standards and Technology), que es un conjunto de datos ampliamente utilizado en reconocimiento de imágenes y aprendizaje automático. MNIST es una colección de 70,000 imágenes de dígitos escritos a mano.\n",
    "\n",
    "Cada imagen en el conjunto de datos MNIST es una imagen en escala de grises de 28x28 píxeles. En la versión mnist_784 de este conjunto de datos, cada imagen se ha \"aplanado\" en un vector de 1D de 784 características (es decir, 28x28 = 784), donde cada característica representa la intensidad de un píxel en la imagen. Por lo tanto, cada fila en el conjunto de datos mnist_784 representa una imagen.\n",
    "\n",
    "El objetivo de este conjunto de datos es clasificar correctamente cada imagen en términos del dígito que representa (de 0 a 9). Las etiquetas correctas para cada imagen se proporcionan en el conjunto de datos."
   ]
  },
  {
   "cell_type": "code",
   "execution_count": null,
   "metadata": {
    "colab": {
     "base_uri": "https://localhost:8080/"
    },
    "id": "6SJNgEOKzrji",
    "outputId": "d8e861e7-3fae-46a4-c6a6-b7063e4d9667"
   },
   "outputs": [
    {
     "name": "stderr",
     "output_type": "stream",
     "text": [
      "/usr/local/lib/python3.10/dist-packages/sklearn/datasets/_openml.py:968: FutureWarning: The default value of `parser` will change from `'liac-arff'` to `'auto'` in 1.4. You can set `parser='auto'` to silence this warning. Therefore, an `ImportError` will be raised from 1.4 if the dataset is dense and pandas is not installed. Note that the pandas parser may return different data types. See the Notes Section in fetch_openml's API doc for details.\n",
      "  warn(\n"
     ]
    }
   ],
   "source": [
    "mnist = fetch_openml('mnist_784')"
   ]
  },
  {
   "cell_type": "code",
   "execution_count": null,
   "metadata": {
    "colab": {
     "base_uri": "https://localhost:8080/"
    },
    "id": "_QLO2qgiztlz",
    "outputId": "aec236b0-e8b3-4a46-893d-f471436db095"
   },
   "outputs": [
    {
     "data": {
      "text/plain": [
       "dict_keys(['data', 'target', 'frame', 'categories', 'feature_names', 'target_names', 'DESCR', 'details', 'url'])"
      ]
     },
     "execution_count": 3,
     "metadata": {},
     "output_type": "execute_result"
    }
   ],
   "source": [
    "mnist.keys()"
   ]
  },
  {
   "cell_type": "code",
   "execution_count": null,
   "metadata": {
    "colab": {
     "base_uri": "https://localhost:8080/"
    },
    "id": "GrooHFD41haF",
    "outputId": "0b64caed-7db0-4901-c73e-6c01e9cd7529"
   },
   "outputs": [
    {
     "data": {
      "text/plain": [
       "(70000, 784)"
      ]
     },
     "execution_count": 3,
     "metadata": {},
     "output_type": "execute_result"
    }
   ],
   "source": [
    "mnist.data.shape"
   ]
  },
  {
   "cell_type": "code",
   "execution_count": null,
   "metadata": {
    "colab": {
     "base_uri": "https://localhost:8080/",
     "height": 105
    },
    "id": "hMMNMvLa2SZY",
    "outputId": "4459a77a-bb58-4681-c534-fb7e06a4871c"
   },
   "outputs": [
    {
     "data": {
      "application/vnd.google.colaboratory.intrinsic+json": {
       "type": "string"
      },
      "text/plain": [
       "\"**Author**: Yann LeCun, Corinna Cortes, Christopher J.C. Burges  \\n**Source**: [MNIST Website](http://yann.lecun.com/exdb/mnist/) - Date unknown  \\n**Please cite**:  \\n\\nThe MNIST database of handwritten digits with 784 features, raw data available at: http://yann.lecun.com/exdb/mnist/. It can be split in a training set of the first 60,000 examples, and a test set of 10,000 examples  \\n\\nIt is a subset of a larger set available from NIST. The digits have been size-normalized and centered in a fixed-size image. It is a good database for people who want to try learning techniques and pattern recognition methods on real-world data while spending minimal efforts on preprocessing and formatting. The original black and white (bilevel) images from NIST were size normalized to fit in a 20x20 pixel box while preserving their aspect ratio. The resulting images contain grey levels as a result of the anti-aliasing technique used by the normalization algorithm. the images were centered in a 28x28 image by computing the center of mass of the pixels, and translating the image so as to position this point at the center of the 28x28 field.  \\n\\nWith some classification methods (particularly template-based methods, such as SVM and K-nearest neighbors), the error rate improves when the digits are centered by bounding box rather than center of mass. If you do this kind of pre-processing, you should report it in your publications. The MNIST database was constructed from NIST's NIST originally designated SD-3 as their training set and SD-1 as their test set. However, SD-3 is much cleaner and easier to recognize than SD-1. The reason for this can be found on the fact that SD-3 was collected among Census Bureau employees, while SD-1 was collected among high-school students. Drawing sensible conclusions from learning experiments requires that the result be independent of the choice of training set and test among the complete set of samples. Therefore it was necessary to build a new database by mixing NIST's datasets.  \\n\\nThe MNIST training set is composed of 30,000 patterns from SD-3 and 30,000 patterns from SD-1. Our test set was composed of 5,000 patterns from SD-3 and 5,000 patterns from SD-1. The 60,000 pattern training set contained examples from approximately 250 writers. We made sure that the sets of writers of the training set and test set were disjoint. SD-1 contains 58,527 digit images written by 500 different writers. In contrast to SD-3, where blocks of data from each writer appeared in sequence, the data in SD-1 is scrambled. Writer identities for SD-1 is available and we used this information to unscramble the writers. We then split SD-1 in two: characters written by the first 250 writers went into our new training set. The remaining 250 writers were placed in our test set. Thus we had two sets with nearly 30,000 examples each. The new training set was completed with enough examples from SD-3, starting at pattern # 0, to make a full set of 60,000 training patterns. Similarly, the new test set was completed with SD-3 examples starting at pattern # 35,000 to make a full set with 60,000 test patterns. Only a subset of 10,000 test images (5,000 from SD-1 and 5,000 from SD-3) is available on this site. The full 60,000 sample training set is available.\\n\\nDownloaded from openml.org.\""
      ]
     },
     "execution_count": 23,
     "metadata": {},
     "output_type": "execute_result"
    }
   ],
   "source": [
    "mnist.DESCR"
   ]
  },
  {
   "cell_type": "markdown",
   "metadata": {
    "id": "lTz1r_OHcf1C"
   },
   "source": [
    "## EDA"
   ]
  },
  {
   "cell_type": "code",
   "execution_count": null,
   "metadata": {
    "colab": {
     "base_uri": "https://localhost:8080/",
     "height": 216
    },
    "id": "PoEiLTSu51e_",
    "outputId": "0d273bd8-9ec6-4137-f194-aad5068e44d3"
   },
   "outputs": [
    {
     "data": {
      "image/png": "[encoded data removed]",
      "text/plain": [
       "<Figure size 1000x200 with 5 Axes>"
      ]
     },
     "metadata": {},
     "output_type": "display_data"
    }
   ],
   "source": [
    "#Imprimimos las primeras 5 imagenes\n",
    "plt.figure(figsize=(10,2))\n",
    "for index, (image, label) in enumerate(zip(mnist.data.to_numpy()[0:5], mnist.target[0:5])):\n",
    "  plt.subplot(1, 5, index + 1)\n",
    "  plt.imshow(np.reshape(image, (28,28)), cmap=plt.cm.gray,interpolation='nearest')\n",
    "  plt.title(f\"Label: {label}\")"
   ]
  },
  {
   "cell_type": "code",
   "execution_count": null,
   "metadata": {
    "id": "tKAE-Zdo9s3B"
   },
   "outputs": [],
   "source": [
    "#Definimos X (las variables/features) e y (target)\n",
    "X, y = mnist[\"data\"], mnist[\"target\"]"
   ]
  },
  {
   "cell_type": "code",
   "execution_count": null,
   "metadata": {
    "colab": {
     "base_uri": "https://localhost:8080/",
     "height": 467
    },
    "id": "z-mm8a5uZymy",
    "outputId": "c7ef1074-7457-4271-c6d8-8489428dcb4a"
   },
   "outputs": [
    {
     "data": {
      "image/png": "[encoded data removed]",
      "text/plain": [
       "<Figure size 640x480 with 1 Axes>"
      ]
     },
     "metadata": {},
     "output_type": "display_data"
    }
   ],
   "source": [
    "y.value_counts().plot(kind='bar')\n",
    "plt.title('Distribución de las clases en el conjunto de datos MNIST')\n",
    "plt.xlabel('Clase/Digito')\n",
    "plt.ylabel('Cantidad')\n",
    "plt.show()"
   ]
  },
  {
   "cell_type": "code",
   "execution_count": null,
   "metadata": {
    "id": "p0OfuRQibFVh"
   },
   "outputs": [],
   "source": [
    "#Convertimos cada imagen a matriz 28x28 y las clases a enteros solo a los efectos de un analisis exploratorio\n",
    "X_image = X.to_numpy().reshape(-1, 28, 28)\n",
    "y_image = y.astype(int)"
   ]
  },
  {
   "cell_type": "code",
   "execution_count": null,
   "metadata": {
    "colab": {
     "base_uri": "https://localhost:8080/",
     "height": 400
    },
    "id": "UZNT9DXdZP22",
    "outputId": "45ff6b3e-09e3-471d-eb43-108d9d3a8b44"
   },
   "outputs": [
    {
     "data": {
      "image/png": "[encoded data removed]",
      "text/plain": [
       "<Figure size 2000x500 with 20 Axes>"
      ]
     },
     "metadata": {},
     "output_type": "display_data"
    }
   ],
   "source": [
    "\n",
    "# Calculamos la imagen promedio y la desviación estándar para cada dígito\n",
    "mean_images = []\n",
    "std_images = []\n",
    "for i in range(10):\n",
    "    mean_images.append(np.mean(X_image[y_image==i], axis=0))\n",
    "    std_images.append(np.std(X_image[y_image==i], axis=0))\n",
    "\n",
    "# Visualizamos las imágenes promedio y las desviaciones estándar\n",
    "fig, axs = plt.subplots(2, 10, figsize=(20, 5))\n",
    "\n",
    "for i, (mean_img, std_img) in enumerate(zip(mean_images, std_images)):\n",
    "    axs[0, i].imshow(mean_img, cmap=plt.cm.gray,interpolation='nearest')\n",
    "    axs[0, i].set_title(f\"Mean of {i}\")\n",
    "    axs[0, i].axis('off')\n",
    "    \n",
    "    axs[1, i].imshow(std_img, cmap=plt.cm.gray,interpolation='nearest')\n",
    "    axs[1, i].set_title(f\"Std. Dev. of {i}\")\n",
    "    axs[1, i].axis('off')\n",
    "\n",
    "plt.show()"
   ]
  },
  {
   "cell_type": "markdown",
   "metadata": {
    "id": "i4mcE-buWu5e"
   },
   "source": [
    "## PCA"
   ]
  },
  {
   "cell_type": "markdown",
   "metadata": {
    "id": "5Efm0AILWwIv"
   },
   "source": [
    "El Análisis de Componentes Principales (PCA, por sus siglas en inglés) es un método estadístico que se utiliza para reducir la dimensionalidad de un conjunto de datos, mientras se conserva la mayor cantidad posible de la variación en los datos.\n",
    "\n",
    "PCA transforma el conjunto de datos original a un nuevo sistema de coordenadas en el que la base está formada por los vectores propios. Los nuevos ejes (o componentes principales) son ortogonales entre sí y capturan la mayor variación en los datos.\n",
    "\n",
    "Una de las ventajas de PCA es que al reducir la dimensionalidad del conjunto de datos, también puede ayudar a aliviar problemas de tiempos de ejecución que pueden surgir al trabajar con conjuntos de datos de alta dimensión. También se utiliza frecuentemente para la visualización de datos de alta dimensión."
   ]
  },
  {
   "cell_type": "code",
   "execution_count": null,
   "metadata": {
    "id": "7PlLX51vQ9UK"
   },
   "outputs": [],
   "source": [
    "n_components = 50  # Nueva cantidad de features\n",
    "pca = PCA(n_components=n_components)\n",
    "X_pca = pca.fit_transform(X)"
   ]
  },
  {
   "cell_type": "code",
   "execution_count": null,
   "metadata": {
    "colab": {
     "base_uri": "https://localhost:8080/"
    },
    "id": "H5a6Bn1hRDUR",
    "outputId": "e0f74f03-e24b-4d08-867c-e3ae93975d9a"
   },
   "outputs": [
    {
     "data": {
      "text/plain": [
       "(70000, 50)"
      ]
     },
     "execution_count": 21,
     "metadata": {},
     "output_type": "execute_result"
    }
   ],
   "source": [
    "pd.DataFrame(X_pca).shape"
   ]
  },
  {
   "cell_type": "code",
   "execution_count": null,
   "metadata": {
    "id": "uAz-rTx0-8Wx"
   },
   "outputs": [],
   "source": [
    "# Vamos a seleccionar 30k imagenes para realizar el entrenamiento y las predicciones (por un tema de tiempos de ejecucion)\n",
    "# Seteamos ademas una semilla para tener reproducibilidad\n",
    "np.random.seed(42)\n",
    "random_indices = np.random.choice(\n",
    "    X_pca.shape[0], \n",
    "    size = 30000, \n",
    "    replace=False\n",
    "    )\n",
    "\n",
    "# Seleccionamos las imagenes y su target\n",
    "X_train = X_pca[random_indices]\n",
    "y_train = y.iloc[random_indices]"
   ]
  },
  {
   "cell_type": "markdown",
   "metadata": {
    "id": "a6hb8e5uk9Q5"
   },
   "source": [
    "# Ejercicios"
   ]
  },
  {
   "cell_type": "markdown",
   "metadata": {
    "id": "KYV8HmU9jgK9"
   },
   "source": [
    "Problema 1:\n",
    "\n",
    "Realizar tres clasificaciones: KNN, regresión logistica y árboles de decisión."
   ]
  },
  {
   "cell_type": "code",
   "execution_count": null,
   "metadata": {
    "id": "qXAtuOSI-8Zv"
   },
   "outputs": [],
   "source": [
    "# Su codigo"
   ]
  },
  {
   "cell_type": "code",
   "execution_count": null,
   "metadata": {
    "id": "mskvsOHmj8XF"
   },
   "outputs": [],
   "source": []
  },
  {
   "cell_type": "code",
   "execution_count": null,
   "metadata": {
    "id": "bGqrBLaMj8aD"
   },
   "outputs": [],
   "source": []
  },
  {
   "cell_type": "markdown",
   "metadata": {
    "id": "XajTtUx2kqUC"
   },
   "source": [
    "Ejercicio 2a:\n",
    "\n",
    "Graficar el error en función del parametro K para KNN\n",
    "\n",
    "Ejercicio 2b:\n",
    "\n",
    "Graficar el error en función del parametro depth para el Árbol de Decisión\n"
   ]
  },
  {
   "cell_type": "code",
   "execution_count": null,
   "metadata": {
    "id": "wvu66wSrkzLi"
   },
   "outputs": [],
   "source": [
    "# Su codigo"
   ]
  },
  {
   "cell_type": "code",
   "execution_count": null,
   "metadata": {
    "id": "qBJ3sm8KkzOF"
   },
   "outputs": [],
   "source": []
  },
  {
   "cell_type": "code",
   "execution_count": null,
   "metadata": {
    "id": "wxd4KsVjkzRO"
   },
   "outputs": [],
   "source": []
  },
  {
   "cell_type": "markdown",
   "metadata": {
    "id": "EiY7bY6_kEEt"
   },
   "source": [
    "Ejercicio 3:\n",
    "\n",
    "Comparar los tres modelos contstruidos utilizando matriz de confusion y alguna metrica de error que considere conveniente"
   ]
  },
  {
   "cell_type": "code",
   "execution_count": null,
   "metadata": {
    "id": "pO3ZS3IdkOyk"
   },
   "outputs": [],
   "source": [
    "# Su codigo"
   ]
  },
  {
   "cell_type": "code",
   "execution_count": null,
   "metadata": {
    "id": "sdGzxcS9kO1Z"
   },
   "outputs": [],
   "source": []
  },
  {
   "cell_type": "code",
   "execution_count": null,
   "metadata": {
    "id": "OZ1o08VMkO4K"
   },
   "outputs": [],
   "source": []
  },
  {
   "cell_type": "markdown",
   "metadata": {
    "id": "GWTk7Q0kkOE8"
   },
   "source": [
    "Ejercicio 4:\n",
    "\n",
    "Seleccionar el modelo que entiende tiene una mejor rendimeinto y justificar"
   ]
  },
  {
   "cell_type": "code",
   "execution_count": null,
   "metadata": {
    "id": "0Z-AZZRjkjuW"
   },
   "outputs": [],
   "source": [
    "# Su respuesta"
   ]
  }
 ],
 "metadata": {
  "colab": {
   "provenance": [],
   "toc_visible": true
  },
  "kernelspec": {
   "display_name": "Python 3 (ipykernel)",
   "language": "python",
   "name": "python3"
  },
  "language_info": {
   "codemirror_mode": {
    "name": "ipython",
    "version": 3
   },
   "file_extension": ".py",
   "mimetype": "text/x-python",
   "name": "python",
   "nbconvert_exporter": "python",
   "pygments_lexer": "ipython3",
   "version": "3.8.15"
  }
 },
 "nbformat": 4,
 "nbformat_minor": 4
}
