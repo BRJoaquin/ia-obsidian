{
 "cells": [
  {
   "cell_type": "markdown",
   "id": "75a19b71-7409-4d17-936a-a6a3272137cf",
   "metadata": {
    "id": "bc2bffe4-f4d2-4338-a238-3abb47bce20a"
   },
   "source": [
    "# Entrega 2: Regresión"
   ]
  },
  {
   "cell_type": "markdown",
   "id": "85d904e8-7364-4ec4-b0c1-0455caa93a57",
   "metadata": {
    "id": "c8a7270a-3d3b-45c3-9ee7-1d9cbf617aa5"
   },
   "source": [
    "## Imports"
   ]
  },
  {
   "cell_type": "code",
   "execution_count": 14,
   "id": "ecd47cc7-ee48-4318-9498-186c798ee424",
   "metadata": {
    "id": "369750e2-6be6-4b42-914d-ba5334034e02",
    "ExecuteTime": {
     "start_time": "2023-05-07T11:36:26.601441Z",
     "end_time": "2023-05-07T11:36:26.642991Z"
    }
   },
   "outputs": [],
   "source": [
    "# Scientific computing\n",
    "import numpy as np\n",
    "np.set_printoptions(formatter={'float': lambda x: \"{0:0.3f}\".format(x)})\n",
    "\n",
    "# Visualizations\n",
    "import matplotlib.pyplot as plt\n",
    "import seaborn as sns\n",
    "\n",
    "# Data analysis and manipulation\n",
    "import pandas as pd\n",
    "\n",
    "# Mapas\n",
    "#!pip install folium\n",
    "import folium\n",
    "from folium.plugins import HeatMap\n",
    "\n",
    "# Colormap\n",
    "import branca.colormap as cm"
   ]
  },
  {
   "cell_type": "markdown",
   "id": "d6a5ebed-d21a-4ca0-a99e-0d6c62310c81",
   "metadata": {},
   "source": [
    "## Penguins dataset"
   ]
  },
  {
   "cell_type": "markdown",
   "id": "c226824b-c4a7-4b54-a679-c1acbf445439",
   "metadata": {},
   "source": [
    "### Cargamos del dataset"
   ]
  },
  {
   "cell_type": "code",
   "execution_count": 3,
   "id": "7faf5c8a-397a-48aa-886e-c2717f2100ab",
   "metadata": {
    "ExecuteTime": {
     "start_time": "2023-05-07T11:30:58.528262Z",
     "end_time": "2023-05-07T11:30:58.548271Z"
    }
   },
   "outputs": [],
   "source": [
    "penguins = pd.read_csv('penguins.csv', dtype={'species':'category', 'island': 'category', 'sex':'category'})"
   ]
  },
  {
   "cell_type": "code",
   "execution_count": 4,
   "id": "dca83803-4a1b-4d66-9eee-209c1a856cf1",
   "metadata": {
    "ExecuteTime": {
     "start_time": "2023-05-07T11:30:59.110089Z",
     "end_time": "2023-05-07T11:30:59.113440Z"
    }
   },
   "outputs": [
    {
     "name": "stdout",
     "output_type": "stream",
     "text": [
      "<class 'pandas.core.frame.DataFrame'>\n",
      "RangeIndex: 344 entries, 0 to 343\n",
      "Data columns (total 7 columns):\n",
      " #   Column             Non-Null Count  Dtype   \n",
      "---  ------             --------------  -----   \n",
      " 0   species            344 non-null    category\n",
      " 1   island             344 non-null    category\n",
      " 2   culmen_length_mm   342 non-null    float64 \n",
      " 3   culmen_depth_mm    342 non-null    float64 \n",
      " 4   flipper_length_mm  342 non-null    float64 \n",
      " 5   body_mass_g        342 non-null    float64 \n",
      " 6   sex                333 non-null    category\n",
      "dtypes: category(3), float64(4)\n",
      "memory usage: 12.2 KB\n"
     ]
    }
   ],
   "source": [
    "penguins.info()"
   ]
  },
  {
   "cell_type": "code",
   "execution_count": 5,
   "id": "697e9c64-aa1a-4bd4-b2d8-ad3f6d67db43",
   "metadata": {
    "ExecuteTime": {
     "start_time": "2023-05-07T11:31:10.966402Z",
     "end_time": "2023-05-07T11:31:10.968519Z"
    }
   },
   "outputs": [
    {
     "name": "stdout",
     "output_type": "stream",
     "text": [
      "['species', 'island', 'sex']\n"
     ]
    }
   ],
   "source": [
    "atributos_categoricos = list(penguins.select_dtypes(include='category').columns)\n",
    "print(atributos_categoricos)"
   ]
  },
  {
   "cell_type": "code",
   "execution_count": 6,
   "id": "771c0802-88e6-4dfb-b3a0-4827b4f3691f",
   "metadata": {
    "ExecuteTime": {
     "start_time": "2023-05-07T11:31:18.390286Z",
     "end_time": "2023-05-07T11:31:18.433161Z"
    }
   },
   "outputs": [
    {
     "name": "stdout",
     "output_type": "stream",
     "text": [
      "['culmen_length_mm', 'culmen_depth_mm', 'flipper_length_mm', 'body_mass_g']\n"
     ]
    }
   ],
   "source": [
    "atributos_continuos = list(penguins.select_dtypes(include='float').columns)\n",
    "print(atributos_continuos)"
   ]
  },
  {
   "cell_type": "markdown",
   "id": "07df7b01-87e8-4cdb-a95a-3e68ef0dde33",
   "metadata": {
    "id": "bf9acb1f-367c-446b-8f49-7a200ab8ade1"
   },
   "source": [
    "### Análisis exploratorio"
   ]
  },
  {
   "cell_type": "code",
   "execution_count": 7,
   "id": "dbeb08e2-ce4f-4eae-9cc2-d96a02ee634e",
   "metadata": {
    "ExecuteTime": {
     "start_time": "2023-05-07T11:31:22.395876Z",
     "end_time": "2023-05-07T11:31:22.414014Z"
    }
   },
   "outputs": [
    {
     "data": {
      "text/plain": "  species     island  culmen_length_mm  culmen_depth_mm  flipper_length_mm  \\\n0  Adelie  Torgersen              39.1             18.7              181.0   \n1  Adelie  Torgersen              39.5             17.4              186.0   \n2  Adelie  Torgersen              40.3             18.0              195.0   \n3  Adelie  Torgersen               NaN              NaN                NaN   \n4  Adelie  Torgersen              36.7             19.3              193.0   \n\n   body_mass_g     sex  \n0       3750.0    MALE  \n1       3800.0  FEMALE  \n2       3250.0  FEMALE  \n3          NaN     NaN  \n4       3450.0  FEMALE  ",
      "text/html": "<div>\n<style scoped>\n    .dataframe tbody tr th:only-of-type {\n        vertical-align: middle;\n    }\n\n    .dataframe tbody tr th {\n        vertical-align: top;\n    }\n\n    .dataframe thead th {\n        text-align: right;\n    }\n</style>\n<table border=\"1\" class=\"dataframe\">\n  <thead>\n    <tr style=\"text-align: right;\">\n      <th></th>\n      <th>species</th>\n      <th>island</th>\n      <th>culmen_length_mm</th>\n      <th>culmen_depth_mm</th>\n      <th>flipper_length_mm</th>\n      <th>body_mass_g</th>\n      <th>sex</th>\n    </tr>\n  </thead>\n  <tbody>\n    <tr>\n      <th>0</th>\n      <td>Adelie</td>\n      <td>Torgersen</td>\n      <td>39.1</td>\n      <td>18.7</td>\n      <td>181.0</td>\n      <td>3750.0</td>\n      <td>MALE</td>\n    </tr>\n    <tr>\n      <th>1</th>\n      <td>Adelie</td>\n      <td>Torgersen</td>\n      <td>39.5</td>\n      <td>17.4</td>\n      <td>186.0</td>\n      <td>3800.0</td>\n      <td>FEMALE</td>\n    </tr>\n    <tr>\n      <th>2</th>\n      <td>Adelie</td>\n      <td>Torgersen</td>\n      <td>40.3</td>\n      <td>18.0</td>\n      <td>195.0</td>\n      <td>3250.0</td>\n      <td>FEMALE</td>\n    </tr>\n    <tr>\n      <th>3</th>\n      <td>Adelie</td>\n      <td>Torgersen</td>\n      <td>NaN</td>\n      <td>NaN</td>\n      <td>NaN</td>\n      <td>NaN</td>\n      <td>NaN</td>\n    </tr>\n    <tr>\n      <th>4</th>\n      <td>Adelie</td>\n      <td>Torgersen</td>\n      <td>36.7</td>\n      <td>19.3</td>\n      <td>193.0</td>\n      <td>3450.0</td>\n      <td>FEMALE</td>\n    </tr>\n  </tbody>\n</table>\n</div>"
     },
     "execution_count": 7,
     "metadata": {},
     "output_type": "execute_result"
    }
   ],
   "source": [
    "penguins.head()"
   ]
  },
  {
   "cell_type": "markdown",
   "id": "af024bfd-297e-4323-a599-bb0261e94bfe",
   "metadata": {},
   "source": [
    "#### Análisis univariado"
   ]
  },
  {
   "cell_type": "code",
   "execution_count": 8,
   "id": "2fefec4c-a13d-42dd-a06e-7ad0f79f0a32",
   "metadata": {
    "ExecuteTime": {
     "start_time": "2023-05-07T11:31:45.412975Z",
     "end_time": "2023-05-07T11:31:45.419249Z"
    }
   },
   "outputs": [
    {
     "data": {
      "text/plain": "       culmen_length_mm  culmen_depth_mm  flipper_length_mm  body_mass_g\ncount        342.000000       342.000000         342.000000   342.000000\nmean          43.921930        17.151170         200.915205  4201.754386\nstd            5.459584         1.974793          14.061714   801.954536\nmin           32.100000        13.100000         172.000000  2700.000000\n25%           39.225000        15.600000         190.000000  3550.000000\n50%           44.450000        17.300000         197.000000  4050.000000\n75%           48.500000        18.700000         213.000000  4750.000000\nmax           59.600000        21.500000         231.000000  6300.000000",
      "text/html": "<div>\n<style scoped>\n    .dataframe tbody tr th:only-of-type {\n        vertical-align: middle;\n    }\n\n    .dataframe tbody tr th {\n        vertical-align: top;\n    }\n\n    .dataframe thead th {\n        text-align: right;\n    }\n</style>\n<table border=\"1\" class=\"dataframe\">\n  <thead>\n    <tr style=\"text-align: right;\">\n      <th></th>\n      <th>culmen_length_mm</th>\n      <th>culmen_depth_mm</th>\n      <th>flipper_length_mm</th>\n      <th>body_mass_g</th>\n    </tr>\n  </thead>\n  <tbody>\n    <tr>\n      <th>count</th>\n      <td>342.000000</td>\n      <td>342.000000</td>\n      <td>342.000000</td>\n      <td>342.000000</td>\n    </tr>\n    <tr>\n      <th>mean</th>\n      <td>43.921930</td>\n      <td>17.151170</td>\n      <td>200.915205</td>\n      <td>4201.754386</td>\n    </tr>\n    <tr>\n      <th>std</th>\n      <td>5.459584</td>\n      <td>1.974793</td>\n      <td>14.061714</td>\n      <td>801.954536</td>\n    </tr>\n    <tr>\n      <th>min</th>\n      <td>32.100000</td>\n      <td>13.100000</td>\n      <td>172.000000</td>\n      <td>2700.000000</td>\n    </tr>\n    <tr>\n      <th>25%</th>\n      <td>39.225000</td>\n      <td>15.600000</td>\n      <td>190.000000</td>\n      <td>3550.000000</td>\n    </tr>\n    <tr>\n      <th>50%</th>\n      <td>44.450000</td>\n      <td>17.300000</td>\n      <td>197.000000</td>\n      <td>4050.000000</td>\n    </tr>\n    <tr>\n      <th>75%</th>\n      <td>48.500000</td>\n      <td>18.700000</td>\n      <td>213.000000</td>\n      <td>4750.000000</td>\n    </tr>\n    <tr>\n      <th>max</th>\n      <td>59.600000</td>\n      <td>21.500000</td>\n      <td>231.000000</td>\n      <td>6300.000000</td>\n    </tr>\n  </tbody>\n</table>\n</div>"
     },
     "execution_count": 8,
     "metadata": {},
     "output_type": "execute_result"
    }
   ],
   "source": [
    "penguins.describe()"
   ]
  },
  {
   "cell_type": "code",
   "execution_count": 9,
   "id": "dc22723b-cd04-4a90-9ac0-0edcb4c577fb",
   "metadata": {
    "ExecuteTime": {
     "start_time": "2023-05-07T11:32:02.066003Z",
     "end_time": "2023-05-07T11:32:02.069754Z"
    }
   },
   "outputs": [
    {
     "name": "stdout",
     "output_type": "stream",
     "text": [
      "species\n",
      "----------\n",
      "Adelie       152\n",
      "Gentoo       124\n",
      "Chinstrap     68\n",
      "Name: species, dtype: int64\n",
      "----------\n",
      "island\n",
      "----------\n",
      "Biscoe       168\n",
      "Dream        124\n",
      "Torgersen     52\n",
      "Name: island, dtype: int64\n",
      "----------\n",
      "sex\n",
      "----------\n",
      "MALE      168\n",
      "FEMALE    165\n",
      "Name: sex, dtype: int64\n",
      "----------\n"
     ]
    }
   ],
   "source": [
    "for col in penguins.select_dtypes(include='category').columns:\n",
    "    print(col)\n",
    "    print('----------')\n",
    "    print(penguins[col].value_counts())\n",
    "    print('----------')"
   ]
  },
  {
   "cell_type": "code",
   "execution_count": 10,
   "id": "a492e47b-b603-4804-8059-0b862dfcbc8c",
   "metadata": {
    "ExecuteTime": {
     "start_time": "2023-05-07T11:32:31.528400Z",
     "end_time": "2023-05-07T11:32:31.795219Z"
    }
   },
   "outputs": [
    {
     "data": {
      "text/plain": "<Figure size 1000x500 with 3 Axes>",
      "image/png": "[encoded data removed]"
     },
     "metadata": {},
     "output_type": "display_data"
    }
   ],
   "source": [
    "fig, axes = plt.subplots(1,len(atributos_categoricos),figsize=(10,5))\n",
    "\n",
    "for i, atributo in enumerate(atributos_categoricos):\n",
    "    penguins[atributo].value_counts().plot(kind='bar', ax=axes[i])"
   ]
  },
  {
   "cell_type": "code",
   "execution_count": 11,
   "id": "e5b0fd20-6034-4087-b653-e34de9e56999",
   "metadata": {
    "ExecuteTime": {
     "start_time": "2023-05-07T11:32:37.820641Z",
     "end_time": "2023-05-07T11:32:37.936584Z"
    }
   },
   "outputs": [
    {
     "data": {
      "text/plain": "<Figure size 500x600 with 4 Axes>",
      "image/png": "[encoded data removed]"
     },
     "metadata": {},
     "output_type": "display_data"
    }
   ],
   "source": [
    "#Boxplots\n",
    "fig, axes = plt.subplots(len(atributos_continuos),1,figsize=(5,6))\n",
    "\n",
    "for i, atributo in enumerate(atributos_continuos):\n",
    "    ax = sns.boxplot(x=atributo, ax=axes[i], data=penguins)\n",
    "    ax.set_xlabel(atributo)\n",
    "    \n",
    "plt.tight_layout()\n",
    "plt.show()"
   ]
  },
  {
   "cell_type": "code",
   "execution_count": 12,
   "id": "0356974f-8fed-42c1-ae2e-af5fc2608c7a",
   "metadata": {
    "ExecuteTime": {
     "start_time": "2023-05-07T11:32:45.057709Z",
     "end_time": "2023-05-07T11:32:45.281052Z"
    }
   },
   "outputs": [
    {
     "data": {
      "text/plain": "<Figure size 500x1000 with 4 Axes>",
      "image/png": "[encoded data removed]"
     },
     "metadata": {},
     "output_type": "display_data"
    }
   ],
   "source": [
    "# Densidades\n",
    "fig, axes = plt.subplots(len(atributos_continuos),1,figsize=(5,10))\n",
    "\n",
    "for i, atributo in enumerate(atributos_continuos):\n",
    "    ax = sns.kdeplot(x=atributo, ax=axes[i], data=penguins, fill=True)\n",
    "    ax.set_xlabel(atributo)\n",
    "    ax.axvline(x=penguins[atributo].mean(), linestyle='dashed',label='Media')\n",
    "    ax.axvline(x=penguins[atributo].median(), linestyle='dashed', color='red',label='Mediana')\n",
    "    ax.legend()\n",
    "    \n",
    "plt.tight_layout()\n",
    "plt.show()"
   ]
  },
  {
   "cell_type": "markdown",
   "id": "eb0e5402-e6bc-453b-8800-e5217fc209cd",
   "metadata": {},
   "source": [
    "#### Análisis multivariado"
   ]
  },
  {
   "cell_type": "code",
   "execution_count": 15,
   "id": "f8dc3cf3-4ea4-40d5-b02d-22e1303010a2",
   "metadata": {},
   "outputs": [
    {
     "ename": "TypeError",
     "evalue": "corr() got an unexpected keyword argument 'numeric_only'",
     "output_type": "error",
     "traceback": [
      "\u001B[0;31m---------------------------------------------------------------------------\u001B[0m",
      "\u001B[0;31mTypeError\u001B[0m                                 Traceback (most recent call last)",
      "Input \u001B[0;32mIn [15]\u001B[0m, in \u001B[0;36m<cell line: 1>\u001B[0;34m()\u001B[0m\n\u001B[0;32m----> 1\u001B[0m corr \u001B[38;5;241m=\u001B[39m \u001B[43mpenguins\u001B[49m\u001B[38;5;241;43m.\u001B[39;49m\u001B[43mcorr\u001B[49m\u001B[43m(\u001B[49m\u001B[43mnumeric_only\u001B[49m\u001B[38;5;241;43m=\u001B[39;49m\u001B[38;5;28;43;01mTrue\u001B[39;49;00m\u001B[43m)\u001B[49m\n\u001B[1;32m      2\u001B[0m sns\u001B[38;5;241m.\u001B[39mheatmap(corr, cmap\u001B[38;5;241m=\u001B[39m\u001B[38;5;124m\"\u001B[39m\u001B[38;5;124mBlues\u001B[39m\u001B[38;5;124m\"\u001B[39m, annot\u001B[38;5;241m=\u001B[39m\u001B[38;5;28;01mTrue\u001B[39;00m, fmt\u001B[38;5;241m=\u001B[39m\u001B[38;5;124m'\u001B[39m\u001B[38;5;124m.2f\u001B[39m\u001B[38;5;124m'\u001B[39m)\n\u001B[1;32m      3\u001B[0m plt\u001B[38;5;241m.\u001B[39mshow()\n",
      "\u001B[0;31mTypeError\u001B[0m: corr() got an unexpected keyword argument 'numeric_only'"
     ]
    }
   ],
   "source": [
    "corr = penguins.corr(numeric_only=True)\n",
    "sns.heatmap(corr, cmap=\"Blues\", annot=True, fmt='.2f')\n",
    "plt.show()"
   ]
  },
  {
   "cell_type": "code",
   "execution_count": null,
   "id": "c7ffd5da-2987-44d2-b3c5-050444cccd57",
   "metadata": {
    "id": "d81692da-c544-4d81-899b-a0e53bd3ca23",
    "outputId": "da35ce22-9990-4d14-97fe-346da1c7a55a"
   },
   "outputs": [],
   "source": [
    "g = sns.jointplot(\n",
    "    data=penguins,\n",
    "    x=atributos_continuos[0],\n",
    "    y=atributos_continuos[1],\n",
    "    kind=\"kde\",\n",
    "    fill=True,\n",
    "    alpha=0.4\n",
    ")\n",
    "g.plot_joint(plt.scatter, c=\"w\", s=30, linewidth=1, marker=\"+\")\n",
    "plt.show()"
   ]
  },
  {
   "cell_type": "code",
   "execution_count": null,
   "id": "de965d28-47c9-401a-844b-271832bf42d8",
   "metadata": {
    "id": "dc09eed6-9aef-43ce-833f-fd39a9d9cc71",
    "outputId": "e8df96ab-40d2-44a2-94bd-71876a96f709"
   },
   "outputs": [],
   "source": [
    "sns.jointplot(\n",
    "    data=penguins,\n",
    "    x=atributos_continuos[0],\n",
    "    y=atributos_continuos[1],\n",
    "    hue=\"sex\",\n",
    "    kind=\"kde\",\n",
    "    fill=True,\n",
    "    alpha=0.4\n",
    ")\n",
    "plt.show()"
   ]
  },
  {
   "cell_type": "code",
   "execution_count": null,
   "id": "01a260ad-b272-4d08-b4bf-7df28f881669",
   "metadata": {},
   "outputs": [],
   "source": [
    "sns.jointplot(\n",
    "    data=penguins,\n",
    "    x=atributos_continuos[0],\n",
    "    y=atributos_continuos[1],\n",
    "    hue=\"species\",\n",
    "    kind=\"kde\",\n",
    "    fill=True,\n",
    "    alpha=0.4\n",
    ")\n",
    "plt.show()"
   ]
  },
  {
   "cell_type": "code",
   "execution_count": null,
   "id": "81c96718-9dee-4226-a6e1-e87aa4aacccb",
   "metadata": {},
   "outputs": [],
   "source": [
    "sns.jointplot(\n",
    "    data=penguins,\n",
    "    x=atributos_continuos[0],\n",
    "    y=atributos_continuos[1],\n",
    "    hue=\"island\",\n",
    "    kind=\"kde\",\n",
    "    fill=True,\n",
    "    alpha=0.4\n",
    ")\n",
    "plt.show()"
   ]
  },
  {
   "cell_type": "code",
   "execution_count": null,
   "id": "9bada131-bdaa-49c8-8d0f-adb710b0bb24",
   "metadata": {
    "id": "945f7a6a-a50a-42cb-aef8-d2c502310e20",
    "outputId": "5d0bc4ad-0cec-4beb-bbba-d96d20c5ca78"
   },
   "outputs": [],
   "source": [
    "sns.pairplot(penguins, hue=\"sex\")\n",
    "plt.show()"
   ]
  },
  {
   "cell_type": "code",
   "execution_count": null,
   "id": "60cde370-fd52-4024-9358-5ba47ea24162",
   "metadata": {},
   "outputs": [],
   "source": [
    "sns.pairplot(penguins, hue=\"species\")\n",
    "plt.show()"
   ]
  },
  {
   "cell_type": "code",
   "execution_count": null,
   "id": "a69cbbfe-b96b-41e7-9851-4fcac29b2f62",
   "metadata": {},
   "outputs": [],
   "source": [
    "sns.pairplot(penguins, hue=\"island\")\n",
    "plt.show()"
   ]
  },
  {
   "cell_type": "code",
   "execution_count": null,
   "id": "0533712d-55ca-4204-a257-7590879ebddc",
   "metadata": {},
   "outputs": [],
   "source": [
    "penguins_nan = penguins.dropna().copy()\n",
    "colors = penguins_na[['species', 'sex', 'island']].apply(tuple, axis=1)\n",
    "penguins_na['colors'] = colors\n",
    "penguins_na.head()"
   ]
  },
  {
   "cell_type": "code",
   "execution_count": null,
   "id": "ac63a7dd-dc17-42e2-ac4d-4a5fb56a9ddd",
   "metadata": {},
   "outputs": [],
   "source": [
    "sns.pairplot(penguins_na, hue='colors')\n",
    "plt.show()"
   ]
  },
  {
   "cell_type": "markdown",
   "id": "e756de7a-68a4-49e4-a098-aabe7ae0dc85",
   "metadata": {},
   "source": [
    "## California dataset"
   ]
  },
  {
   "cell_type": "markdown",
   "id": "cc3d5dab-e969-4f6c-876f-b9bd050127d7",
   "metadata": {},
   "source": [
    "### Cargamos del dataset"
   ]
  },
  {
   "cell_type": "code",
   "execution_count": null,
   "id": "dbe4d3c8-d08d-495b-85ea-4f5cf8f56525",
   "metadata": {},
   "outputs": [],
   "source": [
    "# Cargamos el dataset\n",
    "california_housing = fetch_california_housing()"
   ]
  },
  {
   "cell_type": "code",
   "execution_count": null,
   "id": "925e695c-4b21-4e18-8007-a6df26888d7c",
   "metadata": {
    "id": "b3aa5676-048e-4e58-8558-fbe43ce5a708",
    "outputId": "869a43bc-c76b-4e3b-8e9b-e44f2cee99aa"
   },
   "outputs": [],
   "source": [
    "# diabetes es un objeto tipo diccionario\n",
    "california_housing.keys()"
   ]
  },
  {
   "cell_type": "code",
   "execution_count": null,
   "id": "522f1e65-cae8-4901-9de9-2f7b8c6d017f",
   "metadata": {
    "id": "f2ce3952-8d22-4d7d-9e5c-cbdb03e584a2",
    "outputId": "8ba1a0c8-4632-458b-8c91-b66b7761c20a"
   },
   "outputs": [],
   "source": [
    "# Item de descripción\n",
    "print(california_housing.DESCR)"
   ]
  },
  {
   "cell_type": "code",
   "execution_count": null,
   "id": "b4742788-3e3c-4b11-8850-879bcebe036c",
   "metadata": {
    "id": "b2ff8b00-d468-4b62-a27c-8d4e20ea5044",
    "outputId": "95cf4ff1-9ed5-4494-f984-adfe7b5b2c4a"
   },
   "outputs": [],
   "source": [
    "# Nombres de las features o variables predictoras\n",
    "atributos = california_housing.feature_names\n",
    "print(atributos)"
   ]
  },
  {
   "cell_type": "code",
   "execution_count": null,
   "id": "62ac1b47-b588-432f-ac48-fe7934f5251b",
   "metadata": {
    "id": "debdd7e8-786f-40a1-9907-a124dc7b5f3a"
   },
   "outputs": [],
   "source": [
    "# Extraemos los numpy arrays\n",
    "X = california_housing.data \n",
    "y = california_housing.target"
   ]
  },
  {
   "cell_type": "markdown",
   "id": "2f190a11-623a-4958-96aa-8988eddbb206",
   "metadata": {
    "id": "bf9acb1f-367c-446b-8f49-7a200ab8ade1"
   },
   "source": [
    "### Análisis exploratorio"
   ]
  },
  {
   "cell_type": "code",
   "execution_count": null,
   "id": "00473674-decf-41a3-8d96-38da23a15f35",
   "metadata": {
    "id": "cc06911d-d678-4c02-8e43-632299758101"
   },
   "outputs": [],
   "source": [
    "# Convertimos a pandas dataframe \n",
    "california = pd.DataFrame(data=X, columns=california_housing.feature_names)\n",
    "california['target'] = pd.Series(y, dtype='float')"
   ]
  },
  {
   "cell_type": "code",
   "execution_count": null,
   "id": "fe9efe4d-e0bf-4c0b-9da1-02d30dd1bb59",
   "metadata": {
    "colab": {
     "base_uri": "https://localhost:8080/"
    },
    "id": "5ad4a77d-1d5c-4a0c-8e3a-2c6f4e5386f8",
    "outputId": "eb8e707c-770b-4807-cab3-3f092db487dd"
   },
   "outputs": [],
   "source": [
    "# Número de filas y columnas en el data frame\n",
    "california.shape"
   ]
  },
  {
   "cell_type": "code",
   "execution_count": null,
   "id": "1779a61c-4b66-4f66-8b94-12f92fd4443f",
   "metadata": {
    "colab": {
     "base_uri": "https://localhost:8080/",
     "height": 572
    },
    "id": "0c22e0da-ef6b-4739-927f-98214b961e6e",
    "outputId": "723b475a-68cb-49be-bd8c-5f768f800fa6"
   },
   "outputs": [],
   "source": [
    "# Visualización\n",
    "california.head()"
   ]
  },
  {
   "cell_type": "code",
   "execution_count": null,
   "id": "367dcd7f-ea6b-4005-b245-3b193dbbd542",
   "metadata": {},
   "outputs": [],
   "source": [
    "california.info()"
   ]
  },
  {
   "cell_type": "code",
   "execution_count": null,
   "id": "ed7c1c8e-14cf-4917-a8c2-e59ebdbdfe14",
   "metadata": {},
   "outputs": [],
   "source": [
    "california.describe()"
   ]
  },
  {
   "cell_type": "markdown",
   "id": "b235442a-4088-4052-af27-d53d8688d43f",
   "metadata": {},
   "source": [
    "#### Dependencia espacial"
   ]
  },
  {
   "cell_type": "code",
   "execution_count": null,
   "id": "dcd8741b-7e4f-4afa-b7b6-9c09dec0c70b",
   "metadata": {},
   "outputs": [],
   "source": [
    "sns.scatterplot(data=california,\n",
    "                x=\"Longitude\",\n",
    "                y=\"Latitude\",\n",
    "                size=\"target\",\n",
    "                hue=\"target\",\n",
    "                palette=\"viridis\",\n",
    "                alpha=0.5)\n",
    "plt.legend(title=\"MedHouseVal\",\n",
    "           bbox_to_anchor=(1.05, 0.95),\n",
    "           loc=\"upper left\")\n",
    "plt.title(\"Median house value en función de\\n la ubicación espacial\")\n",
    "plt.show()"
   ]
  },
  {
   "cell_type": "markdown",
   "id": "9b0f1387-c226-4457-8139-a035708ce80b",
   "metadata": {},
   "source": [
    "#### (Opcional) Scatterplot sobre mapa geográfico"
   ]
  },
  {
   "cell_type": "code",
   "execution_count": null,
   "id": "0a91997c-19c9-41fc-9c2c-e875b01f4a24",
   "metadata": {},
   "outputs": [],
   "source": [
    "# Obtenemos el centro del mapa\n",
    "centerlat = (california['Latitude'].max() + california['Latitude'].min()) / 2\n",
    "centerlong = (california['Longitude'].max() + california['Longitude'].min()) / 2\n",
    "\n",
    "center = centerlat, centerlong\n",
    "\n",
    "# Creamos el mapa\n",
    "m = folium.Map(location=center, zoom_start=5)\n",
    "\n",
    "# agregamos punto para cada observación\n",
    "for i in range(len(california)):\n",
    "    folium.Circle(\n",
    "        location=[california.iloc[i]['Latitude'], california.iloc[i]['Longitude']],\n",
    "        radius=10,\n",
    "    ).add_to(m)\n",
    "\n",
    "# Mostramos el mapa en consola\n",
    "m"
   ]
  },
  {
   "cell_type": "code",
   "execution_count": null,
   "id": "448055c2-4611-4e71-921e-6a83d3e28f49",
   "metadata": {},
   "outputs": [],
   "source": [
    "# Creamos un LinearColorMap\n",
    "# El colormap es verde para 0 y rojo para 5\n",
    "colormap = cm.LinearColormap(colors=['green', 'yellow', 'red'], vmin=0, vmax=5)\n",
    "\n",
    "# Creamos un mapa, esta vez con un tile style\n",
    "m = folium.Map(location=center, zoom_start=5, tiles='Stamen Toner')\n",
    "\n",
    "# Agregamos las observaciones\n",
    "# Esta vez con color según el valor\n",
    "for i in range(len(california)):\n",
    "    folium.Circle(\n",
    "        location=[california.iloc[i]['Latitude'], california.iloc[i]['Longitude']],\n",
    "        radius=10,\n",
    "        fill=True,\n",
    "        color=colormap(california.iloc[i]['target']),\n",
    "        fill_opacity=0.2\n",
    "    ).add_to(m)\n",
    "\n",
    "# agregamos la escala de colores\n",
    "m.add_child(colormap)\n",
    "\n",
    "# Mostramos el mapa\n",
    "m"
   ]
  },
  {
   "cell_type": "code",
   "execution_count": null,
   "id": "c544afd6-8bc7-41b2-b4de-f58cb49f10b0",
   "metadata": {},
   "outputs": [],
   "source": [
    "# creamos el mapa\n",
    "m = folium.Map(location=center, zoom_start=5)\n",
    "\n",
    "# ploteamos el heatmap\n",
    "HeatMap(data=california[['Latitude',\n",
    "                         'Longitude',\n",
    "                         'target']].groupby(['Latitude',\n",
    "                                             'Longitude']).sum().reset_index().values.tolist(),\n",
    "        radius=8,\n",
    "        max_zoom=13).add_to(m)\n",
    "\n",
    "# mostramos el mapa\n",
    "m"
   ]
  },
  {
   "cell_type": "markdown",
   "id": "c6d11f73-62d5-457a-8233-c0e715ae9db4",
   "metadata": {},
   "source": [
    "#### Análisis univariado"
   ]
  },
  {
   "cell_type": "code",
   "execution_count": null,
   "id": "3ef6975d-9eff-4c9c-8b73-1cbb761cfe23",
   "metadata": {},
   "outputs": [],
   "source": [
    "plt.figure(figsize=(5,1))\n",
    "sns.boxplot(x='target', data=california)\n",
    "plt.show()"
   ]
  },
  {
   "cell_type": "code",
   "execution_count": null,
   "id": "a33f45d0-5480-40f7-b4a8-9abef57ff5e5",
   "metadata": {},
   "outputs": [],
   "source": [
    "sns.kdeplot(x='target', data=california, fill=True)\n",
    "plt.axvline(x=california['target'].mean(), linestyle='dashed',label='Media')\n",
    "plt.axvline(x=california['target'].median(), linestyle='dashed', color='red',label='Mediana')\n",
    "plt.legend()\n",
    "plt.show()"
   ]
  },
  {
   "cell_type": "code",
   "execution_count": null,
   "id": "5f93e48e-f701-46b2-bf77-0097a9e00cfd",
   "metadata": {},
   "outputs": [],
   "source": [
    "#Boxplots\n",
    "fig, axes = plt.subplots(len(atributos),1,figsize=(5,10))\n",
    "\n",
    "for i, atributo in enumerate(atributos):\n",
    "    ax = sns.boxplot(x=atributo, ax=axes[i], data=california)\n",
    "    ax.set_xlabel(atributo)\n",
    "    \n",
    "plt.tight_layout()\n",
    "plt.show()"
   ]
  },
  {
   "cell_type": "code",
   "execution_count": null,
   "id": "bf32ca4f-5f86-44c0-b354-3618a8d1bcff",
   "metadata": {},
   "outputs": [],
   "source": [
    "# Outliers\n",
    "Q1 = california.quantile(0.25)\n",
    "Q3 = california.quantile(0.75)\n",
    "IQR = Q3 - Q1\n",
    "\n",
    "((california < (Q1 - 1.5 * IQR)) | (california > (Q3 + 1.5 * IQR))).sum()*100/len(california)"
   ]
  },
  {
   "cell_type": "code",
   "execution_count": null,
   "id": "23634160-b31f-4680-affb-4d160709fc65",
   "metadata": {},
   "outputs": [],
   "source": [
    "# Densidades\n",
    "fig, axes = plt.subplots(len(atributos),1,figsize=(5,20))\n",
    "\n",
    "for i, atributo in enumerate(atributos):\n",
    "    ax = sns.kdeplot(x=atributo, ax=axes[i], data=california, fill=True)\n",
    "    ax.set_xlim((Q1 - 1.5 * IQR)[atributo],(Q3 + 1.5 * IQR)[atributo])\n",
    "    ax.set_xlabel(atributo)\n",
    "    ax.axvline(x=california[atributo].mean(), linestyle='dashed',label='Media')\n",
    "    ax.axvline(x=california[atributo].median(), linestyle='dashed', color='red',label='Mediana')\n",
    "    ax.legend()\n",
    "    \n",
    "plt.tight_layout()\n",
    "plt.show()"
   ]
  },
  {
   "cell_type": "markdown",
   "id": "a17ec409-22da-448b-87bf-2b69d7d888b5",
   "metadata": {},
   "source": [
    "#### Análisis multivariado"
   ]
  },
  {
   "cell_type": "code",
   "execution_count": null,
   "id": "168a8e6a-26f5-4e97-a6fb-9ae121409129",
   "metadata": {},
   "outputs": [],
   "source": [
    "corr = california.corr()\n",
    "sns.heatmap(corr, cmap=\"Blues\", annot=True, fmt='.2f')\n",
    "plt.show()"
   ]
  },
  {
   "cell_type": "code",
   "execution_count": null,
   "id": "6982dc39-fcfc-4473-9c28-d2988d5908cc",
   "metadata": {},
   "outputs": [],
   "source": [
    "sns.scatterplot(data=california,\n",
    "              x='MedInc',\n",
    "              y='target'\n",
    "             )\n",
    "plt.show()"
   ]
  },
  {
   "cell_type": "code",
   "execution_count": null,
   "id": "a939b8d7-72d4-4b09-9c25-ffba80994086",
   "metadata": {},
   "outputs": [],
   "source": [
    "sns.jointplot(data=california,\n",
    "              x='MedInc',\n",
    "              y='target',\n",
    "              kind=\"kde\",\n",
    "              fill=True\n",
    "             )\n",
    "plt.show()"
   ]
  }
 ],
 "metadata": {
  "kernelspec": {
   "display_name": "Python 3 (ipykernel)",
   "language": "python",
   "name": "python3"
  },
  "language_info": {
   "codemirror_mode": {
    "name": "ipython",
    "version": 3
   },
   "file_extension": ".py",
   "mimetype": "text/x-python",
   "name": "python",
   "nbconvert_exporter": "python",
   "pygments_lexer": "ipython3",
   "version": "3.8.15"
  }
 },
 "nbformat": 4,
 "nbformat_minor": 5
}
