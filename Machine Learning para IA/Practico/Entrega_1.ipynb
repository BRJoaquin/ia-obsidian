{
 "cells": [
  {
   "cell_type": "code",
   "execution_count": 27,
   "outputs": [
    {
     "name": "stdout",
     "output_type": "stream",
     "text": [
      "[65]\n"
     ]
    }
   ],
   "source": [
    "import numpy as np\n",
    "\n",
    "\n",
    "def is_valid(data, target_mean, target_median, target_std, epsilon=0.1):\n",
    "    mean = np.mean(data)\n",
    "    median = np.median(data)\n",
    "    std = np.std(data)\n",
    "    if abs(mean - target_mean) > epsilon:\n",
    "        return False\n",
    "    if abs(median - target_median) > epsilon:\n",
    "        return False\n",
    "    if abs(std - target_std) > epsilon:\n",
    "        return False\n",
    "\n",
    "    return True\n",
    "\n",
    "\n",
    "def generate_data(target_mean, target_median, target_std, epsilon=0.1, min_value=0, max_value=100):\n",
    "    data = [target_median]\n",
    "\n",
    "    while is_valid(data, target_mean, target_median, target_std, epsilon):\n",
    "        current_mean = np.mean(data)\n",
    "        current_std = np.std(data)\n",
    "        current_median = np.median(data)\n",
    "        # generate a random number\n",
    "        random_number = np.random.randint(max(min_value, target_mean - 2 * target_std),\n",
    "                                          min(max_value, (target_mean + 2 * target_std)))\n",
    "        # check if the new number let us closer to the target mean, median and std\n",
    "        if abs(current_mean - target_mean) > abs((current_mean + random_number) / (len(data) + 1) - target_mean) and \\\n",
    "                abs(current_median - target_median) > abs(np.median(data + [random_number]) - target_median) and \\\n",
    "                abs(current_std - target_std) > abs(np.std(data + [random_number]) - target_std):\n",
    "            data.append(random_number)\n",
    "\n",
    "    return data\n",
    "\n",
    "target_mean = 78\n",
    "target_median = 65\n",
    "target_std = 16\n",
    "\n",
    "data = generate_data(target_mean, target_median, target_std)\n",
    "print(data)\n"
   ],
   "metadata": {
    "collapsed": false,
    "ExecuteTime": {
     "start_time": "2023-04-15T15:11:11.161828Z",
     "end_time": "2023-04-15T15:11:11.254789Z"
    }
   }
  },
  {
   "cell_type": "code",
   "execution_count": 25,
   "outputs": [
    {
     "name": "stdout",
     "output_type": "stream",
     "text": [
      "mean: 65.0\n",
      "median: 65.0\n",
      "std: 0.0\n"
     ]
    }
   ],
   "source": [
    "mean = np.mean(data)\n",
    "median = np.median(data)\n",
    "std = np.std(data)\n",
    "\n",
    "print(f\"mean: {mean}\")\n",
    "print(f\"median: {median}\")\n",
    "print(f\"std: {std}\")"
   ],
   "metadata": {
    "collapsed": false,
    "ExecuteTime": {
     "start_time": "2023-04-15T15:09:24.794548Z",
     "end_time": "2023-04-15T15:09:24.805019Z"
    }
   }
  },
  {
   "cell_type": "code",
   "execution_count": 8,
   "outputs": [
    {
     "data": {
      "text/plain": "<Figure size 640x480 with 1 Axes>",
      "image/png": "[encoded data removed]"
     },
     "metadata": {},
     "output_type": "display_data"
    }
   ],
   "source": [
    "import matplotlib.pyplot as plt\n",
    "\n",
    "plt.hist(data, bins=20, edgecolor='black')\n",
    "plt.show()\n"
   ],
   "metadata": {
    "collapsed": false,
    "ExecuteTime": {
     "start_time": "2023-04-15T14:32:58.219167Z",
     "end_time": "2023-04-15T14:32:58.275853Z"
    }
   }
  },
  {
   "cell_type": "code",
   "execution_count": null,
   "outputs": [],
   "source": [],
   "metadata": {
    "collapsed": false
   }
  }
 ],
 "metadata": {
  "kernelspec": {
   "display_name": "Python 3",
   "language": "python",
   "name": "python3"
  },
  "language_info": {
   "codemirror_mode": {
    "name": "ipython",
    "version": 2
   },
   "file_extension": ".py",
   "mimetype": "text/x-python",
   "name": "python",
   "nbconvert_exporter": "python",
   "pygments_lexer": "ipython2",
   "version": "2.7.6"
  }
 },
 "nbformat": 4,
 "nbformat_minor": 0
}
