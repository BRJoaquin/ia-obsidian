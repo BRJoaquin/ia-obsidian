{
 "cells": [
  {
   "cell_type": "markdown",
   "source": [
    "# Ejercicio 1 Conclusiones a partir de un resumen numérico\n",
    "Abajo se muestran indicadores que caracterizan la distribución de notas de dos clases paralelas\n",
    "de un curso de Inglés. El puntaje máximo es 100\n",
    "\n",
    "<br>\n",
    "\n",
    "| Class | Mean | Median | Standard Deviation |\n",
    "|-------|------|--------|--------------------|\n",
    "| 1     | 78   | 65     | 16                 |\n",
    "| 2     | 72   | 73     | 6                  |\n"
   ],
   "metadata": {
    "collapsed": false
   }
  },
  {
   "cell_type": "markdown",
   "source": [
    "## 1.1 Bosquejar el histograma (o la densidad) de la distribución de notas de cada clase"
   ],
   "metadata": {
    "collapsed": false
   }
  },
  {
   "cell_type": "markdown",
   "source": [
    "Como no es posible determinar la distribución de las notas con esta información, se generan datos de prueba que cumplan con las condiciones dadas."
   ],
   "metadata": {
    "collapsed": false
   }
  },
  {
   "cell_type": "code",
   "execution_count": 8,
   "outputs": [
    {
     "name": "stdout",
     "output_type": "stream",
     "text": [
      "Clase 1: [65 63 61 ... 92 93 92]\n",
      "mean: 77.5062493750625\n",
      "median: 65.0\n",
      "std: 16.02020353332881\n",
      "Clase 2: [81 68 68 ... 65 71 63]\n",
      "mean: 71.5586\n",
      "median: 72.0\n",
      "std: 5.994077580412186\n"
     ]
    }
   ],
   "source": [
    "import numpy as np\n",
    "\n",
    "# Clase 1: partimos de la media (65) y fuimos agregando datos en ambos \"lados\" (mayor y menor a 65). Jugando con los datos se puede ver que la distribución similar a binomial\n",
    "class_1_data = [65]\n",
    "np.random.seed(1)\n",
    "class_1_data = np.append(class_1_data, np.random.normal(62, 1, 5000).astype(int))\n",
    "class_1_data = np.append(class_1_data, np.random.normal(94, 1, 5000).astype(int))\n",
    "class_1_mean = np.mean(class_1_data)\n",
    "class_1_median = np.median(class_1_data)\n",
    "class_1_std = np.std(class_1_data)\n",
    "\n",
    "# Clase 2: en este cado como la media y mediana parece en estar cerca y la desviación estándar es baja, podemos jugar a crear una distribucion normal\n",
    "np.random.seed(1)\n",
    "class_2_data = np.random.normal(72, 6, 10000).astype(int)\n",
    "class_2_mean = np.mean(class_2_data)\n",
    "class_2_median = np.median(class_2_data)\n",
    "class_2_std = np.std(class_2_data)\n",
    "\n",
    "\n",
    "print(f\"Clase 1: {class_1_data}\")\n",
    "print(f\"mean: {class_1_mean}\")\n",
    "print(f\"median: {class_1_median}\")\n",
    "print(f\"std: {class_1_std}\")\n",
    "\n",
    "print(f\"Clase 2: {class_2_data}\")\n",
    "print(f\"mean: {class_2_mean}\")\n",
    "print(f\"median: {class_2_median}\")\n",
    "print(f\"std: {class_2_std}\")\n"
   ],
   "metadata": {
    "collapsed": false,
    "ExecuteTime": {
     "start_time": "2023-04-15T16:52:29.905286Z",
     "end_time": "2023-04-15T16:52:29.959375Z"
    }
   }
  },
  {
   "cell_type": "markdown",
   "source": [
    "> Podemos apreciar que no se llega exactamente a los valores de la tabla, pero se acercan bastante."
   ],
   "metadata": {
    "collapsed": false
   }
  },
  {
   "cell_type": "markdown",
   "source": [
    "Vamos a realizar un histograma para cada clase"
   ],
   "metadata": {
    "collapsed": false
   }
  },
  {
   "cell_type": "code",
   "execution_count": 9,
   "outputs": [
    {
     "data": {
      "text/plain": "<Figure size 640x480 with 1 Axes>",
      "image/png": "[encoded data removed]"
     },
     "metadata": {},
     "output_type": "display_data"
    },
    {
     "data": {
      "text/plain": "<Figure size 640x480 with 1 Axes>",
      "image/png": "[encoded data removed]"
     },
     "metadata": {},
     "output_type": "display_data"
    }
   ],
   "source": [
    "import matplotlib.pyplot as plt\n",
    "#  histograma de la clase 1\n",
    "plt.hist(class_1_data, bins=100)\n",
    "plt.title(\"Clase 1\")\n",
    "plt.show()\n",
    "\n",
    "#  histograma de la clase 2\n",
    "plt.hist(class_2_data, bins=100)\n",
    "plt.title(\"Clase 2\")\n",
    "plt.show()"
   ],
   "metadata": {
    "collapsed": false,
    "ExecuteTime": {
     "start_time": "2023-04-15T16:52:31.988110Z",
     "end_time": "2023-04-15T16:52:32.152718Z"
    }
   }
  },
  {
   "cell_type": "markdown",
   "source": [
    " > Esta no es la única combinación de datos que se puede dar para generar estos histogramas."
   ],
   "metadata": {
    "collapsed": false
   }
  },
  {
   "cell_type": "code",
   "execution_count": 10,
   "outputs": [],
   "source": [
    "## 1.2 ¿En cuál de las dos clases es más probable encontrar un estudiante con nota alta?"
   ],
   "metadata": {
    "collapsed": false,
    "ExecuteTime": {
     "start_time": "2023-04-15T16:52:33.855137Z",
     "end_time": "2023-04-15T16:52:33.864228Z"
    }
   }
  },
  {
   "cell_type": "markdown",
   "source": [
    "Depende como definamos \"alta\". Si tomamos como alta una nota mayor a 90, la clase 1 tiene más probabilidades de tener un estudiante con una nota alta, ya que cerca de la mitad de los estudiantes tienen esta nota.\n",
    "Si tomamos como alta una nota mayor a 70, la clase 2 tiene más probabilidades de tener un estudiante con una nota alta ya que más de un 50% de los estudiantes tienen esta nota."
   ],
   "metadata": {
    "collapsed": false
   }
  },
  {
   "cell_type": "code",
   "execution_count": 22,
   "outputs": [
    {
     "name": "stdout",
     "output_type": "stream",
     "text": [
      "Clase 1 (90pts): 0.5%, Clase 2 (>90pts): 0.001%\n"
     ]
    }
   ],
   "source": [
    "# contamos la cantidad de notas mayores a 90 en la clase 1 y clase 2\n",
    "class_1_total = np.count_nonzero(class_1_data)\n",
    "class_2_total = np.count_nonzero(class_2_data)\n",
    "class_1_high = np.count_nonzero(class_1_data > 90)\n",
    "class_2_high = np.count_nonzero(class_2_data > 90)\n",
    "print(f\"Clase 1 (90pts): {round(class_1_high/class_1_total,2)}%, Clase 2 (>90pts): {round(class_2_high/class_2_total,3)}%\")\n"
   ],
   "metadata": {
    "collapsed": false,
    "ExecuteTime": {
     "start_time": "2023-04-15T16:57:26.644097Z",
     "end_time": "2023-04-15T16:57:26.647353Z"
    }
   }
  },
  {
   "cell_type": "code",
   "execution_count": 23,
   "outputs": [
    {
     "name": "stdout",
     "output_type": "stream",
     "text": [
      "Clase 1 (>70pts): 0.5%, Clase 2 (>70pts): 0.57%\n"
     ]
    }
   ],
   "source": [
    "# contamos la cantidad de notas mayores a 70 en la clase 1 y clase 2\n",
    "class_1_high = np.count_nonzero(class_1_data > 70)\n",
    "class_2_high = np.count_nonzero(class_2_data > 70)\n",
    "print(f\"Clase 1 (>70pts): {round(class_1_high/class_1_total,2)}%, Clase 2 (>70pts): {round(class_2_high/class_2_total,2)}%\")"
   ],
   "metadata": {
    "collapsed": false,
    "ExecuteTime": {
     "start_time": "2023-04-15T16:57:27.038349Z",
     "end_time": "2023-04-15T16:57:27.043584Z"
    }
   }
  },
  {
   "cell_type": "markdown",
   "source": [
    "# 2 Estimación por máxima verosimilitud\n",
    "Se tiene un muestreo aleatorio de una variable X discreta con recorrido {0, 1, 2, 3}. Supongamos\n",
    "que la distribución de X depende de un parámetro θ que solo puede tomar los valores θ = 0 y\n",
    "θ = 1. La función de probabilidad puntual es:\n",
    "\n",
    "<br>\n",
    "\n",
    "| X / θ | θ = 0 | θ = 1 |\n",
    "|-------|-------|-------|\n",
    "| X = 0 | 0.1   | 0.2   |\n",
    "| X = 1 | 0.3   | 0.4   |\n",
    "| X = 2 | 0.3   | 0.4   |\n",
    "| X = 3 | 0.3   | 0.1   |\n",
    "\n",
    "Si se tiene la muestra 0,3,1,2,0,3, hallar el estimador de máxima verosimilitud de θ."
   ],
   "metadata": {
    "collapsed": false
   }
  },
  {
   "cell_type": "markdown",
   "source": [
    "\n",
    "\n",
    "Para eso vamos a calcular la funcion de verosimilitud para cada valor de theta y luego vamos a ver cual es el que maximiza la funcion de verosimilitud.\n",
    "\n",
    "$$L(\\theta) = p(X=0, \\theta) \\cdot p(X=3, \\theta) \\cdot p(X=1, \\theta) \\cdot p(X=2, \\theta) \\cdot p(X=0, \\theta) \\cdot p(X=3, \\theta)$$\n",
    "\n",
    "Para $\\theta = 0$:\n",
    "$$L(\\theta = 0) = 0.1 \\cdot 0.3 \\cdot 0.3 \\cdot 0.3 \\cdot 0.1 \\cdot 0.3 = 0.000081$$\n",
    "\n",
    "Para $\\theta = 1$:\n",
    "$$L(\\theta = 1) = 0.2 \\cdot 0.1 \\cdot 0.4 \\cdot 0.4 \\cdot 0.2 \\cdot 0.1 = 0.000064$$\n",
    "\n",
    "Si comparamos podemos ver que $L(\\theta = 0) > L(\\theta = 1)$, por lo tanto el estimador de máxima verosimilitud de $\\theta$ es 0."
   ],
   "metadata": {
    "collapsed": false
   }
  },
  {
   "cell_type": "markdown",
   "source": [
    "# 3 Conceptos, riesgo empírico y riesgo verdadero\n",
    "![image.png](./ej_3.png)"
   ],
   "metadata": {
    "collapsed": false
   }
  },
  {
   "cell_type": "markdown",
   "source": [
    "## 3.1 Utilizando la 0-1 loss, ¿cuál es el riesgo empírico de la hipótesis h?\n",
    "\n",
    "$$\n",
    "L_S(h) = \\frac{1}{|S|} \\sum_{(x, y) \\in S} L(h(x), y)\n",
    "$$\n",
    "\n",
    "![image.png](./riesgo_empirico.png)\n",
    "\n",
    "Por lo que podemos ver en la imagen la hipotesis $h$ pudo predecir todos los blancos, y se equivoco en dos rojos.\n",
    "\n",
    "Dado que $|S| = 20$, entonces $L_S(h) = \\frac{2}{20} = 0.1$"
   ],
   "metadata": {
    "collapsed": false
   }
  },
  {
   "cell_type": "markdown",
   "source": [
    "## 3.2 ¿Cuál es el riesgo verdadero de la hipótesis h?\n",
    "\n",
    "$$\n",
    "L_{D,c}(h) = E_x[L(h(x), c(x))]\n",
    "$$\n",
    "\n",
    "![image.png](./riesgo_verdadero.png)\n",
    "\n",
    "Por lo que podemos ver la diferencia entre la hipotesis y el concepto real es que la hipotesis predice 8 como rojos cuando no lo son, y predice 16 como blancos cuando no lo son.\n",
    "\n",
    "Dado que $|D| = 100$, entonces $L_{D,c}(h) = \\frac{24}{100} = 0.24$"
   ],
   "metadata": {
    "collapsed": false
   }
  }
 ],
 "metadata": {
  "kernelspec": {
   "display_name": "Python 3",
   "language": "python",
   "name": "python3"
  },
  "language_info": {
   "codemirror_mode": {
    "name": "ipython",
    "version": 2
   },
   "file_extension": ".py",
   "mimetype": "text/x-python",
   "name": "python",
   "nbconvert_exporter": "python",
   "pygments_lexer": "ipython2",
   "version": "2.7.6"
  }
 },
 "nbformat": 4,
 "nbformat_minor": 0
}
