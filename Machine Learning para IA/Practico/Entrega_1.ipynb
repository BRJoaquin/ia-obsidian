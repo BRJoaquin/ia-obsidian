{
 "cells": [
  {
   "cell_type": "markdown",
   "source": [
    "# Ejercicio 1 Conclusiones a partir de un resumen numérico\n",
    "Abajo se muestran indicadores que caracterizan la distribución de notas de dos clases paralelas\n",
    "de un curso de Inglés. El puntaje máximo es 100\n",
    "\n",
    "<br>\n",
    "\n",
    "| Class | Mean | Median | Standard Deviation |\n",
    "|-------|------|--------|--------------------|\n",
    "| 1     | 78   | 65     | 16                 |\n",
    "| 2     | 72   | 73     | 6                  |\n"
   ],
   "metadata": {
    "collapsed": false
   }
  },
  {
   "cell_type": "markdown",
   "source": [
    "## 1.1 Bosquejar el histograma (o la densidad) de la distribución de notas de cada clase"
   ],
   "metadata": {
    "collapsed": false
   }
  },
  {
   "cell_type": "markdown",
   "source": [
    "Como no es posible determinar la distribución de las notas con esta información, se generan datos de prueba que cumplan con las condiciones dadas."
   ],
   "metadata": {
    "collapsed": false
   }
  },
  {
   "cell_type": "code",
   "execution_count": 130,
   "outputs": [
    {
     "name": "stdout",
     "output_type": "stream",
     "text": [
      "Clase 1: [65 61 63 62 62 60 62 62 61 61 62 60 62 62 61 62 60 61 60 63 62 61 61 63\n",
      " 63 60 63 63 62 60 62 61 61 60 62 62 61 62 60 62 62 61 61 62 62 62 62 62\n",
      " 62 62 62 61 59 63 64 62 61 61 61 62 60 61 61 62 61 62 61 62 62 64 60 61\n",
      " 62 64 61 62 61 63 61 62 61 60 62 62 63 61 61 62 62 62 61 63 62 63 63 62\n",
      " 60 62 62 62 63 93 94 93 95 92 92 92 93 92 95 93 92 95 93 92 94 94 93 95\n",
      " 94 95 94 95 94 92 96 93 93 93 93 94 94 94 95 93 92 92 93 92 94 93 93 93\n",
      " 92 93 94 94 93 95 92 93 93 91 95 94 92 96 94 94 93 94 92 94 93 94 95 94\n",
      " 94 94 93 94 95 94 94 93 93 92 95 93 95 93 93 94 94 94 94 94 94 92 94 93\n",
      " 93 94 93 93 93 94 94 93 94]\n",
      "mean: 77.50248756218906\n",
      "median: 65.0\n",
      "std: 15.940849736743877\n",
      "Clase 2: [81 68 68 ... 65 71 63]\n",
      "mean: 71.5586\n",
      "median: 72.0\n",
      "std: 5.994077580412186\n"
     ]
    }
   ],
   "source": [
    "import numpy as np\n",
    "\n",
    "# Clase 1: partimos de la media (65) y fuimos agregando datos en ambos \"lados\" (mayor y menor a 65). Jugando con los datos se puede ver que la distribución similar a binomial\n",
    "class_1_data = [65]\n",
    "class_1_data = np.append(class_1_data, np.random.normal(62, 1, 100).astype(int))\n",
    "class_1_data = np.append(class_1_data, np.random.normal(94, 1, 100).astype(int))\n",
    "class_1_mean = np.mean(class_1_data)\n",
    "class_1_median = np.median(class_1_data)\n",
    "class_1_std = np.std(class_1_data)\n",
    "\n",
    "# Clase 2: en este cado como la media y mediana parece en estar cerca y la desviación estándar es baja, podemos jugar a crear una distribucion normal\n",
    "np.random.seed(1)\n",
    "class_2_data = np.random.normal(72, 6, 10000).astype(int)\n",
    "# # ajustamos para acercarnos mas cerca de los valores reales:\n",
    "# class_2_data = np.append(class_2_data, [80, 81, 82, 83, 84,85,86,87])\n",
    "class_2_mean = np.mean(class_2_data)\n",
    "class_2_median = np.median(class_2_data)\n",
    "class_2_std = np.std(class_2_data)\n",
    "\n",
    "\n",
    "print(f\"Clase 1: {class_1_data}\")\n",
    "print(f\"mean: {class_1_mean}\")\n",
    "print(f\"median: {class_1_median}\")\n",
    "print(f\"std: {class_1_std}\")\n",
    "\n",
    "print(f\"Clase 2: {class_2_data}\")\n",
    "print(f\"mean: {class_2_mean}\")\n",
    "print(f\"median: {class_2_median}\")\n",
    "print(f\"std: {class_2_std}\")\n"
   ],
   "metadata": {
    "collapsed": false,
    "ExecuteTime": {
     "start_time": "2023-04-15T16:42:36.709316Z",
     "end_time": "2023-04-15T16:42:36.759159Z"
    }
   }
  },
  {
   "cell_type": "markdown",
   "source": [
    "Vamos a realizar un histograma para cada clase"
   ],
   "metadata": {
    "collapsed": false
   }
  },
  {
   "cell_type": "code",
   "execution_count": 129,
   "outputs": [
    {
     "data": {
      "text/plain": "<Figure size 640x480 with 1 Axes>",
      "image/png": "[encoded data removed]"
     },
     "metadata": {},
     "output_type": "display_data"
    },
    {
     "data": {
      "text/plain": "<Figure size 640x480 with 1 Axes>",
      "image/png": "[encoded data removed]"
     },
     "metadata": {},
     "output_type": "display_data"
    }
   ],
   "source": [
    "import matplotlib.pyplot as plt\n",
    "#  histograma de la clase 1\n",
    "plt.hist(class_1_data, bins=100)\n",
    "plt.title(\"Clase 1\")\n",
    "plt.show()\n",
    "\n",
    "#  histograma de la clase 2\n",
    "plt.hist(class_2_data, bins=100)\n",
    "plt.title(\"Clase 2\")\n",
    "plt.show()"
   ],
   "metadata": {
    "collapsed": false,
    "ExecuteTime": {
     "start_time": "2023-04-15T16:42:22.309734Z",
     "end_time": "2023-04-15T16:42:22.471384Z"
    }
   }
  },
  {
   "cell_type": "code",
   "execution_count": null,
   "outputs": [],
   "source": [],
   "metadata": {
    "collapsed": false
   }
  }
 ],
 "metadata": {
  "kernelspec": {
   "display_name": "Python 3",
   "language": "python",
   "name": "python3"
  },
  "language_info": {
   "codemirror_mode": {
    "name": "ipython",
    "version": 2
   },
   "file_extension": ".py",
   "mimetype": "text/x-python",
   "name": "python",
   "nbconvert_exporter": "python",
   "pygments_lexer": "ipython2",
   "version": "2.7.6"
  }
 },
 "nbformat": 4,
 "nbformat_minor": 0
}
