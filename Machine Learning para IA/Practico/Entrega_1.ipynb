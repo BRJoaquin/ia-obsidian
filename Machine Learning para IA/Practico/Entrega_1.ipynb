{
 "cells": [
  {
   "cell_type": "code",
   "execution_count": 36,
   "outputs": [
    {
     "name": "stdout",
     "output_type": "stream",
     "text": [
      "[ 78  81  56  61  75  97  91  74  91  68  62  76  65  71  58  64  76 101\n",
      "  81  81  99  93  97  66  84  51  67  71  87  65  63  67  92  47  75  65\n",
      "  90  70  69 118  69  72  76  67  67  74  71  82  79  44  86  81  71  97\n",
      "  66  87  75  77  75  54  91  86  68  89  61  73  66  70  63  92  63  75\n",
      "  82  93  81  64  61  65  91  99  22  61  85  54 101  66  66  75  77  97\n",
      "  79  67  65  82  85  65  77  68  69  92]\n"
     ]
    }
   ],
   "source": [
    "import numpy as np\n",
    "\n",
    "\n",
    "def is_valid(data, target_mean, target_median, target_std, epsilon=0.1):\n",
    "    mean = np.mean(data)\n",
    "    median = np.median(data)\n",
    "    std = np.std(data)\n",
    "    if abs(mean - target_mean) > epsilon:\n",
    "        return False\n",
    "    if abs(median - target_median) > epsilon:\n",
    "        return False\n",
    "    if abs(std - target_std) > epsilon:\n",
    "        return False\n",
    "\n",
    "    return True\n",
    "\n",
    "\n",
    "def generate_data(target_mean, target_median, target_std, epsilon=0.1, min_value=0, max_value=100, max_iterations=10000):\n",
    "    # generate a random initial data (with mean and std close to the target)\n",
    "    data = np.random.normal(target_mean, target_std, 100).astype(int)\n",
    "    np.random.binomial(1, 0.5, 100)\n",
    "    iterations = 0\n",
    "\n",
    "    while not is_valid(data, target_mean, target_median, target_std, epsilon):\n",
    "        current_mean = np.mean(data)\n",
    "        current_std = np.std(data)\n",
    "        # generate a random number\n",
    "        random_number = np.random.randint(0,100)\n",
    "        # check if the new number let us closer to the target mean std\n",
    "        if abs(current_mean - target_mean) > abs((current_mean + random_number) / (len(data) + 1) - target_mean) and \\\n",
    "                abs(current_std - target_std) > abs(np.std(data + [random_number]) - target_std):\n",
    "            data.append(random_number)\n",
    "        iterations += 1\n",
    "        if iterations > max_iterations:\n",
    "            break\n",
    "\n",
    "    return data\n",
    "\n",
    "target_mean = 78\n",
    "target_median = 65\n",
    "target_std = 16\n",
    "\n",
    "data = generate_data(target_mean, target_median, target_std)\n",
    "print(data)\n"
   ],
   "metadata": {
    "collapsed": false,
    "ExecuteTime": {
     "start_time": "2023-04-15T15:16:38.391531Z",
     "end_time": "2023-04-15T15:16:38.657859Z"
    }
   }
  },
  {
   "cell_type": "code",
   "execution_count": 37,
   "outputs": [
    {
     "name": "stdout",
     "output_type": "stream",
     "text": [
      "mean: 74.99\n",
      "median: 74.5\n",
      "std: 14.297199026382756\n"
     ]
    }
   ],
   "source": [
    "mean = np.mean(data)\n",
    "median = np.median(data)\n",
    "std = np.std(data)\n",
    "\n",
    "print(f\"mean: {mean}\")\n",
    "print(f\"median: {median}\")\n",
    "print(f\"std: {std}\")"
   ],
   "metadata": {
    "collapsed": false,
    "ExecuteTime": {
     "start_time": "2023-04-15T15:16:49.546521Z",
     "end_time": "2023-04-15T15:16:49.549122Z"
    }
   }
  },
  {
   "cell_type": "code",
   "execution_count": 49,
   "outputs": [
    {
     "data": {
      "text/plain": "<Figure size 640x480 with 1 Axes>",
      "image/png": "[encoded data removed]"
     },
     "metadata": {},
     "output_type": "display_data"
    }
   ],
   "source": [
    "import matplotlib.pyplot as plt\n",
    "n = 100  # number of trials\n",
    "p = 0.8  # probability of success\n",
    "size = 1000  # number of samples to generate\n",
    "\n",
    "data_class1 = np.random.binomial(n, p, size)\n",
    "plt.hist(data, bins=100, edgecolor='black')\n",
    "plt.show()\n"
   ],
   "metadata": {
    "collapsed": false,
    "ExecuteTime": {
     "start_time": "2023-04-15T15:23:44.542619Z",
     "end_time": "2023-04-15T15:23:44.666666Z"
    }
   }
  },
  {
   "cell_type": "code",
   "execution_count": null,
   "outputs": [],
   "source": [],
   "metadata": {
    "collapsed": false
   }
  }
 ],
 "metadata": {
  "kernelspec": {
   "display_name": "Python 3",
   "language": "python",
   "name": "python3"
  },
  "language_info": {
   "codemirror_mode": {
    "name": "ipython",
    "version": 2
   },
   "file_extension": ".py",
   "mimetype": "text/x-python",
   "name": "python",
   "nbconvert_exporter": "python",
   "pygments_lexer": "ipython2",
   "version": "2.7.6"
  }
 },
 "nbformat": 4,
 "nbformat_minor": 0
}
