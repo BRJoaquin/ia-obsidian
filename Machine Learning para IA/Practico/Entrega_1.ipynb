{
 "cells": [
  {
   "cell_type": "markdown",
   "source": [
    "# Ejercicio 1 Conclusiones a partir de un resumen numérico\n",
    "Abajo se muestran indicadores que caracterizan la distribución de notas de dos clases paralelas\n",
    "de un curso de Inglés. El puntaje máximo es 100\n",
    "\n",
    "<br>\n",
    "\n",
    "| Class | Mean | Median | Standard Deviation |\n",
    "|-------|------|--------|--------------------|\n",
    "| 1     | 78   | 65     | 16                 |\n",
    "| 2     | 72   | 73     | 6                  |\n"
   ],
   "metadata": {
    "collapsed": false
   }
  },
  {
   "cell_type": "markdown",
   "source": [
    "## 1.1 Bosquejar el histograma (o la densidad) de la distribución de notas de cada clase"
   ],
   "metadata": {
    "collapsed": false
   }
  },
  {
   "cell_type": "markdown",
   "source": [
    "Como no es posible determinar la distribución de las notas con esta información, se generan datos de prueba que cumplan con las condiciones dadas."
   ],
   "metadata": {
    "collapsed": false
   }
  },
  {
   "cell_type": "code",
   "execution_count": 76,
   "outputs": [
    {
     "name": "stdout",
     "output_type": "stream",
     "text": [
      "Clase 1: [64, 64, 64, 65, 65, 65, 95, 95, 95, 98, 100]\n",
      "mean: 79.0909090909091\n",
      "median: 65.0\n",
      "std: 16.047965294162516\n",
      "Clase 2: [65, 64, 65, 66, 66, 68, 70, 71, 71, 72, 72, 72, 73, 74, 74, 74, 75, 75, 76, 78, 80, 85, 88, 88]\n",
      "mean: 73.41666666666667\n",
      "median: 72.5\n",
      "std: 6.569605941167417\n"
     ]
    }
   ],
   "source": [
    "import numpy as np\n",
    "\n",
    "# Clase 1: partimos de la media (65) y fuimos agregando datos en ambos \"lados\" (mayor y menor a 65). Jugando con los datos se puede ver que la distribución similar a binomial\n",
    "class_1_data = [64,64,64,65,65,65,95,95,95,98,100]\n",
    "class_1_mean = np.mean(class_1_data)\n",
    "class_1_median = np.median(class_1_data)\n",
    "class_1_std = np.std(class_1_data)\n",
    "\n",
    "# Clase 2: en este cado como la media y mediana parece en estar cerca y la desviación estándar es baja, podemos jugar a crear una distribucion normal\n",
    "class_2_data = [65,64,65,66,66,68,70,71,71,71,72,72,72,73,74,74,74,75,75,76,78, 80, 85, 88, 88]\n",
    "class_2_mean = np.mean(class_2_data)\n",
    "class_2_median = np.median(class_2_data)\n",
    "class_2_std = np.std(class_2_data)\n",
    "\n",
    "\n",
    "print(f\"Clase 1: {class_1_data}\")\n",
    "print(f\"mean: {class_1_mean}\")\n",
    "print(f\"median: {class_1_median}\")\n",
    "print(f\"std: {class_1_std}\")\n",
    "\n",
    "print(f\"Clase 2: {class_2_data}\")\n",
    "print(f\"mean: {class_2_mean}\")\n",
    "print(f\"median: {class_2_median}\")\n",
    "print(f\"std: {class_2_std}\")\n"
   ],
   "metadata": {
    "collapsed": false,
    "ExecuteTime": {
     "start_time": "2023-04-15T16:21:51.725206Z",
     "end_time": "2023-04-15T16:21:51.728012Z"
    }
   }
  },
  {
   "cell_type": "code",
   "execution_count": 62,
   "outputs": [
    {
     "name": "stdout",
     "output_type": "stream",
     "text": [
      "mean: 31.3\n",
      "median: 50.0\n",
      "std: 32.79191973642288\n"
     ]
    }
   ],
   "source": [
    "mean = np.mean(data)\n",
    "median = np.median(data)\n",
    "std = np.std(data)\n",
    "\n",
    "print(f\"mean: {mean}\")\n",
    "print(f\"median: {median}\")\n",
    "print(f\"std: {std}\")"
   ],
   "metadata": {
    "collapsed": false,
    "ExecuteTime": {
     "start_time": "2023-04-15T16:15:30.134552Z",
     "end_time": "2023-04-15T16:15:30.138319Z"
    }
   }
  },
  {
   "cell_type": "code",
   "execution_count": 49,
   "outputs": [
    {
     "data": {
      "text/plain": "<Figure size 640x480 with 1 Axes>",
      "image/png": "[encoded data removed]"
     },
     "metadata": {},
     "output_type": "display_data"
    }
   ],
   "source": [
    "import matplotlib.pyplot as plt\n",
    "n = 100  # number of trials\n",
    "p = 0.8  # probability of success\n",
    "size = 1000  # number of samples to generate\n",
    "\n",
    "data_class1 = np.random.binomial(n, p, size)\n",
    "plt.hist(data, bins=100, edgecolor='black')\n",
    "plt.show()\n"
   ],
   "metadata": {
    "collapsed": false,
    "ExecuteTime": {
     "start_time": "2023-04-15T15:23:44.542619Z",
     "end_time": "2023-04-15T15:23:44.666666Z"
    }
   }
  },
  {
   "cell_type": "code",
   "execution_count": null,
   "outputs": [],
   "source": [],
   "metadata": {
    "collapsed": false
   }
  }
 ],
 "metadata": {
  "kernelspec": {
   "display_name": "Python 3",
   "language": "python",
   "name": "python3"
  },
  "language_info": {
   "codemirror_mode": {
    "name": "ipython",
    "version": 2
   },
   "file_extension": ".py",
   "mimetype": "text/x-python",
   "name": "python",
   "nbconvert_exporter": "python",
   "pygments_lexer": "ipython2",
   "version": "2.7.6"
  }
 },
 "nbformat": 4,
 "nbformat_minor": 0
}
