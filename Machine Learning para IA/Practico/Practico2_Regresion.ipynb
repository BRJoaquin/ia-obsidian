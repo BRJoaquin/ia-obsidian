{
 "cells": [
  {
   "cell_type": "raw",
   "source": [
    "\n",
    "# Práctico 2: Regresión"
   ],
   "metadata": {
    "collapsed": false,
    "pycharm": {
     "name": ""
    }
   }
  },
  {
   "cell_type": "markdown",
   "id": "3993bd49-18ac-411a-a57b-c9af7e0bc77d",
   "metadata": {
    "id": "c8a7270a-3d3b-45c3-9ee7-1d9cbf617aa5"
   },
   "source": [
    "## Imports"
   ]
  },
  {
   "cell_type": "code",
   "execution_count": null,
   "id": "6632abaa-18c4-417b-a987-386d7fa0e2a2",
   "metadata": {
    "id": "369750e2-6be6-4b42-914d-ba5334034e02",
    "ExecuteTime": {
     "start_time": "2023-05-07T12:11:12.422415Z",
     "end_time": "2023-05-07T12:11:12.444486Z"
    }
   },
   "outputs": [],
   "source": [
    "# Mathematics\n",
    "import math\n",
    "import random\n",
    "\n",
    "# Scientific computing\n",
    "import numpy as np\n",
    "np.set_printoptions(formatter={'float': lambda x: \"{0:0.3f}\".format(x)})\n",
    "\n",
    "# Visualizations\n",
    "import matplotlib.pyplot as plt\n",
    "import seaborn as sns\n",
    "\n",
    "# Progress bar\n",
    "import tqdm\n",
    "\n",
    "# Machine learning\n",
    "import sklearn\n",
    "from sklearn.metrics import mean_squared_error\n",
    "from sklearn.linear_model import LinearRegression\n",
    "from sklearn.neighbors import KNeighborsRegressor\n",
    "from sklearn.tree import DecisionTreeRegressor\n",
    "from sklearn.preprocessing import PolynomialFeatures\n",
    "from sklearn.preprocessing import StandardScaler\n",
    "from sklearn.tree import plot_tree\n",
    "from sklearn.inspection import DecisionBoundaryDisplay\n",
    "\n",
    "# Diabetes dataset\n",
    "from sklearn.datasets import load_diabetes\n",
    "\n",
    "# Data analysis and manipulation\n",
    "import pandas as pd\n",
    "pd.set_option('display.precision', 2) # 2 decimal places\n",
    "pd.set_option('display.max_rows', 20)\n",
    "pd.set_option('display.max_columns', 30)\n",
    "pd.set_option('display.width', 100) # wide windows"
   ]
  },
  {
   "cell_type": "markdown",
   "id": "1b3bac09-10b2-436e-9fa5-63a8f8ca8774",
   "metadata": {},
   "source": [
    "## Ejemplo visto en clase: cultivo de papas"
   ]
  },
  {
   "cell_type": "markdown",
   "id": "29c1a4c1-62ce-4fd1-b835-049d452f846d",
   "metadata": {},
   "source": [
    "### Datos"
   ]
  },
  {
   "cell_type": "code",
   "execution_count": null,
   "id": "b848f5e3-cab2-4187-9216-b5026b4d1db1",
   "metadata": {
    "ExecuteTime": {
     "start_time": "2023-05-07T12:11:16.947017Z",
     "end_time": "2023-05-07T12:11:16.985316Z"
    }
   },
   "outputs": [],
   "source": [
    "# Cargamos los datos\n",
    "papas = pd.read_csv('Papas.csv')\n",
    "papas"
   ]
  },
  {
   "cell_type": "code",
   "execution_count": null,
   "id": "17f5f3c9-44c3-4ad0-97b0-51647544d46e",
   "metadata": {},
   "outputs": [],
   "source": [
    "papas.describe()"
   ]
  },
  {
   "cell_type": "code",
   "execution_count": null,
   "id": "7d2318ae-03eb-4c0a-aab0-42c585eaadc0",
   "metadata": {},
   "outputs": [],
   "source": [
    "papas.corr()"
   ]
  },
  {
   "cell_type": "code",
   "execution_count": null,
   "id": "c0d62345-46e6-416e-be5c-7363b36976f9",
   "metadata": {},
   "outputs": [],
   "source": [
    "scatter_plot = sns.scatterplot(data=papas, x=\"Lluvia\", y=\"Rendimiento\")\n",
    "scatter_fig = scatter_plot.get_figure()\n",
    "scatter_fig.savefig('Papas.png')"
   ]
  },
  {
   "cell_type": "code",
   "execution_count": null,
   "id": "fabeff1d-4bd9-4615-9650-71f3e38e2483",
   "metadata": {},
   "outputs": [],
   "source": [
    "# Pasamos a numpy para trabajar con sklearn\n",
    "X = np.array(papas['Lluvia']).reshape(-1, 1)\n",
    "y = np.array(papas['Rendimiento']).reshape(-1, 1)"
   ]
  },
  {
   "cell_type": "markdown",
   "id": "480888bc-8e8b-4d3d-a654-e5185800d534",
   "metadata": {},
   "source": [
    "### Regresión lineal"
   ]
  },
  {
   "cell_type": "markdown",
   "id": "fc32581c-ac76-499e-abc4-446bc29f86c4",
   "metadata": {},
   "source": [
    "#### Regresión lineal simple"
   ]
  },
  {
   "cell_type": "markdown",
   "id": "4a7742b8-3234-4b31-89f7-d480409b39c7",
   "metadata": {},
   "source": [
    "##### Entrenamiento"
   ]
  },
  {
   "cell_type": "code",
   "execution_count": null,
   "id": "6a1306da-956d-4f81-bccb-8ae86d38eaa8",
   "metadata": {},
   "outputs": [],
   "source": [
    "lin_reg = LinearRegression()\n",
    "lin_reg.fit(X, y)"
   ]
  },
  {
   "cell_type": "code",
   "execution_count": null,
   "id": "28cdc861-e0fe-41c4-b29e-829fbac4ae4d",
   "metadata": {},
   "outputs": [],
   "source": [
    "y_pred = lin_reg.predict(X)"
   ]
  },
  {
   "cell_type": "code",
   "execution_count": null,
   "id": "e670d52f-e760-4dd1-965a-7e10ab4a0702",
   "metadata": {},
   "outputs": [],
   "source": [
    "plt.scatter(x=y,y=y_pred)\n",
    "plt.xlabel('Verdad')\n",
    "plt.ylabel('Predicción')\n",
    "plt.title('Comparando verdad y predicción')\n",
    "plt.show()"
   ]
  },
  {
   "cell_type": "code",
   "execution_count": null,
   "id": "35c2d75b-838b-4838-a30f-1fa70bfd81c8",
   "metadata": {},
   "outputs": [],
   "source": [
    "# Coeficientes\n",
    "w0 = lin_reg.intercept_\n",
    "w1 = lin_reg.coef_\n",
    "print(w0,w1)"
   ]
  },
  {
   "cell_type": "code",
   "execution_count": null,
   "id": "297bd225-98ab-42cd-9695-c857d1f49bee",
   "metadata": {},
   "outputs": [],
   "source": [
    "# Root mean squared error\n",
    "np.sqrt(mean_squared_error(y,y_pred))"
   ]
  },
  {
   "cell_type": "code",
   "execution_count": null,
   "id": "33eb0554-9cc5-4893-b7b1-b4f2cc7d32dc",
   "metadata": {},
   "outputs": [],
   "source": [
    "# Coeficiente de determinación\n",
    "lin_reg.score(X,y)"
   ]
  },
  {
   "cell_type": "markdown",
   "id": "bc23e316-ee17-4d8f-a72d-662d53875ef6",
   "metadata": {},
   "source": [
    "##### Gráfico de la hipótesis obtenida"
   ]
  },
  {
   "cell_type": "code",
   "execution_count": null,
   "id": "7cd0e746-a6b4-43ae-a25f-96fd9ee44c0e",
   "metadata": {},
   "outputs": [],
   "source": [
    "K=1\n",
    "lin_reg_plot = sns.lmplot(x =\"Lluvia\", y =\"Rendimiento\", data = papas, order = K, ci = None, line_kws = {\"color\":\"C1\"})\n",
    "plt.title(\"Regresión lineal con K=\"+str(K))\n",
    "lin_reg_plot.savefig('Papas_LR_K_'+str(K)+'.png')"
   ]
  },
  {
   "cell_type": "markdown",
   "id": "5943554a-f211-4724-9f1a-2ea4823aaa43",
   "metadata": {},
   "source": [
    "##### Curvas de nivel de la función de pérdida"
   ]
  },
  {
   "cell_type": "code",
   "execution_count": null,
   "id": "ef125166-8f11-4318-b651-410b505ef349",
   "metadata": {},
   "outputs": [],
   "source": [
    "res = 300\n",
    "lin_w0 = np.linspace(10.0, 20.0, res)\n",
    "lin_w1 = np.linspace(0.0, 0.08, res)"
   ]
  },
  {
   "cell_type": "code",
   "execution_count": null,
   "id": "75c946b6-c738-4046-9216-87838cc7c371",
   "metadata": {},
   "outputs": [],
   "source": [
    "W0, W1 = np.meshgrid(lin_w0, lin_w1)"
   ]
  },
  {
   "cell_type": "code",
   "execution_count": null,
   "id": "979fe758-7096-41c8-ab95-c522194217e6",
   "metadata": {},
   "outputs": [],
   "source": [
    "L=np.zeros(W0.shape)\n",
    "\n",
    "for i in range(res):\n",
    "    for j in range(res):\n",
    "        w0 = W0[i,j]\n",
    "        w1 = W1[i,j]\n",
    "        L[i,j] = np.sum(np.square(X*w1+w0-y))"
   ]
  },
  {
   "cell_type": "code",
   "execution_count": null,
   "id": "b0ed3175-3f30-4925-a9cf-577653019a6d",
   "metadata": {},
   "outputs": [],
   "source": [
    "levels = [0, 50, 100, 150, 200.0, 250, 300.0, 350, 400, 500.0, 600.0, 700.0, 1200.0, 3000.0, 4000]\n",
    "cp = plt.contour(W0, W1, L, levels, colors='black', linestyles='dashed', linewidths=1)\n",
    "plt.clabel(cp, inline=1, fontsize=10)\n",
    "cp = plt.contourf(W0, W1, L, levels)\n",
    "plt.xlabel('w0')\n",
    "plt.ylabel('w1')\n",
    "plt.show()"
   ]
  },
  {
   "cell_type": "markdown",
   "id": "8fd20aed-9a61-4771-85f4-384b6e8b7a8a",
   "metadata": {},
   "source": [
    "#### Regresión lineal con polinomios"
   ]
  },
  {
   "cell_type": "markdown",
   "id": "ec34163d-7f82-4476-8b71-12fc050ca4bc",
   "metadata": {},
   "source": [
    "##### Entrenamiento"
   ]
  },
  {
   "cell_type": "code",
   "execution_count": null,
   "id": "0744f319-3995-44f3-b559-953851c08ad1",
   "metadata": {},
   "outputs": [],
   "source": [
    "# Elegimos el grado\n",
    "K = 2"
   ]
  },
  {
   "cell_type": "code",
   "execution_count": null,
   "id": "96ebf876-fb08-4f16-8f1b-e2ef7e2c91dc",
   "metadata": {},
   "outputs": [],
   "source": [
    "# Obtenemos los features\n",
    "poly = PolynomialFeatures(degree=K, include_bias=False)\n",
    "X_poly = poly.fit_transform(X)"
   ]
  },
  {
   "cell_type": "code",
   "execution_count": null,
   "id": "b2a0e124-112f-4e21-9dc8-19c0ff24b9ac",
   "metadata": {},
   "outputs": [],
   "source": [
    "X_poly"
   ]
  },
  {
   "cell_type": "code",
   "execution_count": null,
   "id": "a375a4f1-402e-4387-aa19-ba65fe042282",
   "metadata": {},
   "outputs": [],
   "source": [
    "# Escalamos\n",
    "scaler = StandardScaler()\n",
    "X_norm = scaler.fit_transform(X_poly)"
   ]
  },
  {
   "cell_type": "code",
   "execution_count": null,
   "id": "5f3a6bf4-2bd3-45a7-bd15-3327893bba6d",
   "metadata": {},
   "outputs": [],
   "source": [
    "X_norm"
   ]
  },
  {
   "cell_type": "code",
   "execution_count": null,
   "id": "a8cf4034-cc48-4837-b1ac-255584e1a654",
   "metadata": {},
   "outputs": [],
   "source": [
    "poly_reg = LinearRegression()\n",
    "poly_reg.fit(X_norm, y)"
   ]
  },
  {
   "cell_type": "code",
   "execution_count": null,
   "id": "cdf23bce-5f6c-416d-8e6a-ebcc12d6a489",
   "metadata": {},
   "outputs": [],
   "source": [
    "y_pred = poly_reg.predict(X_norm)"
   ]
  },
  {
   "cell_type": "code",
   "execution_count": null,
   "id": "d065435c-ebc1-45d1-85fd-e213527d7743",
   "metadata": {},
   "outputs": [],
   "source": [
    "plt.scatter(x=y,y=y_pred)\n",
    "plt.xlabel('Verdad')\n",
    "plt.ylabel('Predicción')\n",
    "plt.title('Comparando verdad y predicción')\n",
    "plt.show()"
   ]
  },
  {
   "cell_type": "code",
   "execution_count": null,
   "id": "c2aa7e3f-f8a4-4be7-bd9c-00dd7a550818",
   "metadata": {},
   "outputs": [],
   "source": [
    "# Coeficientes\n",
    "w0 = poly_reg.intercept_\n",
    "w1 = poly_reg.coef_\n",
    "print(w0,w1)"
   ]
  },
  {
   "cell_type": "code",
   "execution_count": null,
   "id": "bc26e81f-47ac-49ec-a2f5-ba722b801adf",
   "metadata": {},
   "outputs": [],
   "source": [
    "# Root mean squared error\n",
    "np.sqrt(mean_squared_error(y,y_pred))"
   ]
  },
  {
   "cell_type": "code",
   "execution_count": null,
   "id": "946e2e21-2d27-4176-950b-d64378360adc",
   "metadata": {},
   "outputs": [],
   "source": [
    "# Coeficiente de determinación\n",
    "poly_reg.score(X_norm,y)"
   ]
  },
  {
   "cell_type": "markdown",
   "id": "c6013220-86d2-4e4c-a01e-cb86d912b092",
   "metadata": {},
   "source": [
    "##### Gráfico de la hipótesis obtenida"
   ]
  },
  {
   "cell_type": "code",
   "execution_count": null,
   "id": "089dfdf7-b633-473b-a632-1fc9555c9ca9",
   "metadata": {},
   "outputs": [],
   "source": [
    "poly_reg_plot = sns.lmplot(x =\"Lluvia\", y =\"Rendimiento\", data = papas, order = K, ci = None, line_kws = {\"color\":\"C1\"})\n",
    "plt.title(\"Regresión lineal con K=\"+str(K))\n",
    "poly_reg_plot.savefig('Papas_LR_K_'+str(K)+'.png')"
   ]
  },
  {
   "cell_type": "markdown",
   "id": "6130f2c2-6268-40b6-92c9-0d0e989e1e30",
   "metadata": {},
   "source": [
    "##### RMSE y tamaño de los coeficientes en función del grado"
   ]
  },
  {
   "cell_type": "code",
   "execution_count": null,
   "id": "a4cd6e4d-f017-4fa2-97f1-1b8a4c834682",
   "metadata": {},
   "outputs": [],
   "source": [
    "sizes = []\n",
    "rmses = []\n",
    "\n",
    "for K in range(1,13):\n",
    "    poly = PolynomialFeatures(degree=K, include_bias=False)\n",
    "    X_poly = poly.fit_transform(X)\n",
    "    \n",
    "    scaler = StandardScaler()\n",
    "    X_norm = scaler.fit_transform(X_poly)\n",
    "    \n",
    "    poly_reg = LinearRegression()\n",
    "    poly_reg.fit(X_norm, y)\n",
    "    y_pred = poly_reg.predict(X_norm)\n",
    "    rmses.append(np.sqrt(mean_squared_error(y,y_pred)))\n",
    "    sizes.append(np.mean(np.abs(poly_reg.coef_)))"
   ]
  },
  {
   "cell_type": "code",
   "execution_count": null,
   "id": "2fd205c3-710c-49b7-99bf-70091719b1f7",
   "metadata": {},
   "outputs": [],
   "source": [
    "rmses"
   ]
  },
  {
   "cell_type": "code",
   "execution_count": null,
   "id": "f48ceaa3-7a2c-4d99-a025-b17dd665c885",
   "metadata": {},
   "outputs": [],
   "source": [
    "df_rmse = pd.DataFrame({\"Grado\":range(1,13), \"Raíz MSE\":rmses})\n",
    "line_plot_rmse = sns.lineplot(\n",
    "    data=df_rmse,\n",
    "    x=\"Grado\", y=\"Raíz MSE\",\n",
    "    marker='o',\n",
    "    dashes=False,\n",
    "    errorbar = ('ci', False)\n",
    ")\n",
    "plt.title(\"Raíz del MSE en función del grado\")\n",
    "line_plot_fig = line_plot_rmse.get_figure()\n",
    "line_plot_fig.savefig('Papas_rmse.png')"
   ]
  },
  {
   "cell_type": "code",
   "execution_count": null,
   "id": "622bea4f-b63e-4395-8823-1024498b3504",
   "metadata": {},
   "outputs": [],
   "source": [
    "df_sizes = pd.DataFrame({\"Grado\":range(1,13), \"Log valor abs promedio de coef\":np.log(sizes)})\n",
    "line_plot_sizes = sns.lineplot(\n",
    "    data=df_sizes,\n",
    "    x=\"Grado\", y=\"Log valor abs promedio de coef\",\n",
    "    marker='o',\n",
    "    dashes=False,\n",
    "    errorbar = ('ci', False)\n",
    ")\n",
    "plt.title(\"Valor abs promedio de coef en función del grado\")\n",
    "line_plot_fig = line_plot_sizes.get_figure()\n",
    "line_plot_fig.savefig('Papas_sizes.png')"
   ]
  },
  {
   "cell_type": "markdown",
   "id": "cc0b2feb-874b-436f-8fce-c086fd62b61a",
   "metadata": {},
   "source": [
    "### K vecinos más cercanos"
   ]
  },
  {
   "cell_type": "markdown",
   "id": "4c979cf7-ab21-4f0b-a5bf-c9c371635e75",
   "metadata": {},
   "source": [
    "#### Entrenamiento"
   ]
  },
  {
   "cell_type": "code",
   "execution_count": null,
   "id": "383791b0-73c2-4b9b-87e5-f258e8ab5c75",
   "metadata": {},
   "outputs": [],
   "source": [
    "# Elegimos el k\n",
    "k=1"
   ]
  },
  {
   "cell_type": "code",
   "execution_count": null,
   "id": "ce32d74f-cb20-4629-807b-35f874b47af9",
   "metadata": {},
   "outputs": [],
   "source": [
    "# Debemos elegir la distancia\n",
    "knn_reg = KNeighborsRegressor(n_neighbors=k, metric='euclidean')"
   ]
  },
  {
   "cell_type": "code",
   "execution_count": null,
   "id": "75cd583c-71b3-4e5f-a0ca-6f7531e128b9",
   "metadata": {},
   "outputs": [],
   "source": [
    "knn_reg"
   ]
  },
  {
   "cell_type": "code",
   "execution_count": null,
   "id": "579a4043-9956-4ede-938a-e38fff4e5f07",
   "metadata": {},
   "outputs": [],
   "source": [
    "knn_reg.fit(X,y)"
   ]
  },
  {
   "cell_type": "code",
   "execution_count": null,
   "id": "affca812-f051-4606-ad1b-4b9deb609e65",
   "metadata": {},
   "outputs": [],
   "source": [
    "y_pred = knn_reg.predict(X)"
   ]
  },
  {
   "cell_type": "code",
   "execution_count": null,
   "id": "d7b9e760-83da-436f-9031-debd27bd9c4d",
   "metadata": {},
   "outputs": [],
   "source": [
    "plt.scatter(x=y,y=y_pred)\n",
    "plt.xlabel('Verdad')\n",
    "plt.ylabel('Predicción')\n",
    "plt.title('Comparando verdad y predicción')\n",
    "plt.show()"
   ]
  },
  {
   "cell_type": "code",
   "execution_count": null,
   "id": "a7d9ea53-ae9c-4c70-843d-6bbe146f469e",
   "metadata": {},
   "outputs": [],
   "source": [
    "# Root mean squared error\n",
    "np.sqrt(mean_squared_error(y,y_pred))"
   ]
  },
  {
   "cell_type": "markdown",
   "id": "47e4e22d-deb8-406a-9bb1-b6bf2afaf770",
   "metadata": {},
   "source": [
    "#### Graficamos la hipótesis obtenida"
   ]
  },
  {
   "cell_type": "code",
   "execution_count": null,
   "id": "6957bf03-5f4d-44a5-ba57-7f63e499608f",
   "metadata": {},
   "outputs": [],
   "source": [
    "X_ax = np.array(range(50,378)).reshape(-1, 1)\n",
    "pred_y = knn_reg.predict(X_ax)"
   ]
  },
  {
   "cell_type": "code",
   "execution_count": null,
   "id": "a6d59412-3b15-411c-84ad-b6a5a4e33afb",
   "metadata": {},
   "outputs": [],
   "source": [
    "plt.step(X_ax, pred_y, lw=1.5, color=\"red\", label=\"Predicción\")\n",
    "plt.scatter(X, y, s=5, color=\"blue\", label=\"Verdad\")\n",
    "plt.legend()\n",
    "plt.title('k vecinos más cercanos con k='+str(k))\n",
    "plt.savefig('knn_Papas_k_'+str(k)+'.png')"
   ]
  },
  {
   "cell_type": "markdown",
   "id": "fea7e72d-dfd9-46ee-b776-9fb915242d40",
   "metadata": {},
   "source": [
    "#### RMSE en función de k"
   ]
  },
  {
   "cell_type": "code",
   "execution_count": null,
   "id": "66252ae5-fa24-4210-9db4-dbfa6de62e0c",
   "metadata": {},
   "outputs": [],
   "source": [
    "rmses = []\n",
    "\n",
    "for k in range(1,16):\n",
    "    \n",
    "    knn_reg = KNeighborsRegressor(n_neighbors=k, metric='euclidean')\n",
    "    knn_reg.fit(X,y)\n",
    "    \n",
    "    y_pred = knn_reg.predict(X)\n",
    "    rmses.append(np.sqrt(mean_squared_error(y,y_pred)))"
   ]
  },
  {
   "cell_type": "code",
   "execution_count": null,
   "id": "32729a62-c6f9-485b-a4e1-788a516b1c88",
   "metadata": {},
   "outputs": [],
   "source": [
    "df_rmse = pd.DataFrame({\"K\":range(1,16), \"Raíz MSE\":rmses})\n",
    "line_plot_rmse = sns.lineplot(\n",
    "    data=df_rmse,\n",
    "    x=\"K\", y=\"Raíz MSE\",\n",
    "    marker='o',\n",
    "    dashes=False,\n",
    "    errorbar = ('ci', False)\n",
    ")\n",
    "plt.title(\"Raíz del MSE en función de K\")\n",
    "line_plot_fig = line_plot_rmse.get_figure()\n",
    "line_plot_fig.savefig('knn_rmse.png')"
   ]
  },
  {
   "cell_type": "markdown",
   "id": "717c4fa0-5c1a-45ea-8c8c-123694c921c6",
   "metadata": {},
   "source": [
    "#### Curse of dimensionality"
   ]
  },
  {
   "cell_type": "code",
   "execution_count": null,
   "id": "458c977b-24f2-4bb1-927b-7d5f781b7f15",
   "metadata": {},
   "outputs": [],
   "source": [
    "def random_point(dim):\n",
    "    return np.array([random.random() for _ in range(dim)])"
   ]
  },
  {
   "cell_type": "code",
   "execution_count": null,
   "id": "6685c642-8a4b-4ef5-905e-51b6cdd8ec63",
   "metadata": {},
   "outputs": [],
   "source": [
    "def distance(v, w):\n",
    "    \"\"\"Calcula la distancia entre v y w\"\"\"\n",
    "    return math.sqrt(np.sum(np.square(v-w)))"
   ]
  },
  {
   "cell_type": "code",
   "execution_count": null,
   "id": "83910006-ca2e-478a-9171-33f07b59b507",
   "metadata": {},
   "outputs": [],
   "source": [
    "def random_distances(dim, num_pairs):\n",
    "    return [distance(random_point(dim), random_point(dim)) for _ in range(num_pairs)]"
   ]
  },
  {
   "cell_type": "code",
   "execution_count": null,
   "id": "aea39b2e-7ba0-413f-947a-2ac1e9f89204",
   "metadata": {},
   "outputs": [],
   "source": [
    "dimensions = range(1, 101)\n",
    "avg_distances = []\n",
    "min_distances = []\n",
    "random.seed(0)\n",
    "\n",
    "for dim in tqdm.tqdm(dimensions, desc=\"Curse of Dimensionality\"):\n",
    "    distances = random_distances(dim, 10000) # 10,000 distancias random\n",
    "    avg_distances.append(sum(distances) / 10000) # promedio\n",
    "    min_distances.append(min(distances)) # minimo"
   ]
  },
  {
   "cell_type": "code",
   "execution_count": null,
   "id": "fe3a58f6-92fe-4279-8270-f7f8a68114ab",
   "metadata": {},
   "outputs": [],
   "source": [
    "plt.plot(avg_distances, label = \"Dist promedio\")\n",
    "plt.plot(min_distances, label = \"Dist mínima\")\n",
    "plt.xlabel(\"Dimensión\")\n",
    "plt.title(\"10 mil distancias aleatorias\")\n",
    "plt.legend()\n",
    "plt.savefig(\"knn_curse_1.png\")"
   ]
  },
  {
   "cell_type": "code",
   "execution_count": null,
   "id": "440ef414-f920-4c62-92a5-8d9b65293e1c",
   "metadata": {},
   "outputs": [],
   "source": [
    "ratio = [min_distances[i]/avg_distances[i] for i in range(len(avg_distances))]\n",
    "plt.plot(ratio)\n",
    "plt.xlabel(\"Dimensión\")\n",
    "plt.title(\"Ratio Dist mínima / Dist promedio\")\n",
    "plt.savefig(\"knn_curse_2.png\")"
   ]
  },
  {
   "cell_type": "markdown",
   "id": "f9b0683f-d5d1-4f02-b311-310c3a7226b4",
   "metadata": {},
   "source": [
    "### Árboles de decisión"
   ]
  },
  {
   "cell_type": "markdown",
   "id": "3b0022b0-bbbb-429a-9ac7-b4477f8b3db6",
   "metadata": {},
   "source": [
    "#### Profundidad = 0"
   ]
  },
  {
   "cell_type": "code",
   "execution_count": null,
   "id": "71a3d11f-1fba-4b63-83f6-a7d24ae5eeeb",
   "metadata": {},
   "outputs": [],
   "source": [
    "plt.axhline(y=np.mean(y), lw=1.5, color=\"red\", label=\"Predicción\")\n",
    "plt.scatter(X, y, s=5, color=\"blue\", label=\"Verdad\")\n",
    "plt.legend()\n",
    "plt.title('La mejor predicción constante es el promedio')\n",
    "plt.savefig('constante_Papas.png')"
   ]
  },
  {
   "cell_type": "markdown",
   "id": "6e62a558-f01e-435a-ae35-9c2d948ac360",
   "metadata": {},
   "source": [
    "#### Profundidad = 1"
   ]
  },
  {
   "cell_type": "code",
   "execution_count": null,
   "id": "494e0ad9-4f87-4db2-8338-f6ab15bde116",
   "metadata": {},
   "outputs": [],
   "source": [
    "X_ast = range(50,378)\n",
    "\n",
    "rss = []\n",
    "\n",
    "for x_ast in X_ast:\n",
    "    c1 = papas.loc[papas['Lluvia']<x_ast,'Rendimiento'].mean()\n",
    "    c2 = papas.loc[papas['Lluvia']>=x_ast,'Rendimiento'].mean()\n",
    "    r = ((papas.loc[papas['Lluvia']<x_ast,'Rendimiento']-c1)**2).sum()+((papas.loc[papas['Lluvia']>=x_ast,'Rendimiento']-c2)**2).sum()\n",
    "    rss.append(r)"
   ]
  },
  {
   "cell_type": "code",
   "execution_count": null,
   "id": "7bf139ae-381f-48d7-ba5a-11e915d9f9d4",
   "metadata": {},
   "outputs": [],
   "source": [
    "plt.step(X_ast,rss)\n",
    "plt.axvline(x=((91+129)/2),linestyle='dashed',color='black')\n",
    "plt.xlabel('Valor de x*')\n",
    "plt.ylabel('RSS')\n",
    "plt.title('¿Cuál es el mejor x*?')\n",
    "plt.savefig('mejor_x_ast.png')"
   ]
  },
  {
   "cell_type": "code",
   "execution_count": null,
   "id": "37bb4581-5528-4163-8b0e-fe44fdb01a46",
   "metadata": {},
   "outputs": [],
   "source": [
    "def h(x):\n",
    "    if x < (91+129)/2:\n",
    "        return papas.loc[papas['Lluvia']<(91+129)/2,'Rendimiento'].mean()\n",
    "    else:\n",
    "        return papas.loc[papas['Lluvia']>=(91+129)/2,'Rendimiento'].mean()"
   ]
  },
  {
   "cell_type": "code",
   "execution_count": null,
   "id": "64d0c800-0a1b-4b09-93e5-bac9460a8d3e",
   "metadata": {},
   "outputs": [],
   "source": [
    "vec_h = [h(x) for x in X_ast]"
   ]
  },
  {
   "cell_type": "code",
   "execution_count": null,
   "id": "b99460c4-4df1-428f-a461-06d8668f159d",
   "metadata": {},
   "outputs": [],
   "source": [
    "plt.step(X_ax, vec_h, lw=1.5, color=\"red\", label=\"Predicción\")\n",
    "plt.scatter(X, y, s=5, color=\"blue\", label=\"Verdad\")\n",
    "plt.legend()\n",
    "plt.xlabel('Lluvia')\n",
    "plt.ylabel('Rendimiento')\n",
    "plt.title('La mejor predicción con una división')\n",
    "plt.savefig('mejor_division.png')"
   ]
  },
  {
   "cell_type": "markdown",
   "id": "798402ab-2d2d-4242-bd80-e59453b36d67",
   "metadata": {},
   "source": [
    "#### Entrenamiento"
   ]
  },
  {
   "cell_type": "code",
   "execution_count": null,
   "id": "66f7e3f4-8bc1-4fe0-ad99-866d4c1619a5",
   "metadata": {},
   "outputs": [],
   "source": [
    "# Elegimos la profundidad\n",
    "depth=1"
   ]
  },
  {
   "cell_type": "code",
   "execution_count": null,
   "id": "714b90bf-1524-44df-8efb-40190c0a2fe1",
   "metadata": {},
   "outputs": [],
   "source": [
    "tree_reg = DecisionTreeRegressor(max_depth=depth)\n",
    "tree_reg.fit(X, y)"
   ]
  },
  {
   "cell_type": "code",
   "execution_count": null,
   "id": "6714b7e5-68db-4860-af96-84e40473087f",
   "metadata": {},
   "outputs": [],
   "source": [
    "y_pred = tree_reg.predict(X)"
   ]
  },
  {
   "cell_type": "code",
   "execution_count": null,
   "id": "880b5855-b500-4220-a8a5-c780347d71e9",
   "metadata": {},
   "outputs": [],
   "source": [
    "plt.scatter(x=y,y=y_pred)\n",
    "plt.xlabel('Verdad')\n",
    "plt.ylabel('Predicción')\n",
    "plt.title('Comparando verdad y predicción')\n",
    "plt.show()"
   ]
  },
  {
   "cell_type": "code",
   "execution_count": null,
   "id": "fa798628-451c-4bc2-9f63-5595203503f4",
   "metadata": {},
   "outputs": [],
   "source": [
    "# Root mean squared error\n",
    "np.sqrt(mean_squared_error(y,y_pred))"
   ]
  },
  {
   "cell_type": "markdown",
   "id": "2500ee35-7ae7-4a89-9f89-14728d65582c",
   "metadata": {},
   "source": [
    "#### Graficamos la hipótesis obtenida"
   ]
  },
  {
   "cell_type": "code",
   "execution_count": null,
   "id": "60b1511d-c5e8-4e3c-96c3-dd826ee8c3c3",
   "metadata": {},
   "outputs": [],
   "source": [
    "X_ax = np.array(range(50,378)).reshape(-1, 1)\n",
    "y_pred = tree_reg.predict(X_ax)"
   ]
  },
  {
   "cell_type": "code",
   "execution_count": null,
   "id": "5e70d687-b8d3-408f-97e2-7e9105c02942",
   "metadata": {},
   "outputs": [],
   "source": [
    "# Plot the results\n",
    "plt.figure()\n",
    "plt.scatter(X, y, s=5, color=\"blue\", label=\"Verdad\")\n",
    "plt.step(X_ax, y_pred, lw=1.5, color=\"red\", label=\"Predicción\")\n",
    "plt.xlabel(\"Lluvia\")\n",
    "plt.ylabel(\"Rendimiento\")\n",
    "plt.title(\"Árbol de decisión con profundidad \"+str(depth))\n",
    "plt.legend()\n",
    "plt.savefig('arbol_depth_'+str(depth)+'.png')"
   ]
  },
  {
   "cell_type": "markdown",
   "id": "5244f9d6-deb2-4176-bf18-2e6e02f9be99",
   "metadata": {
    "id": "992f47c8-c378-4a84-b0d3-eb99768abda6"
   },
   "source": [
    "## Diabetes dataset"
   ]
  },
  {
   "cell_type": "code",
   "execution_count": null,
   "id": "267bd5a9-af72-46bb-b2f8-0aa0a1f736d1",
   "metadata": {
    "id": "5ad9d601-379a-4077-ae28-9e966c6620b4"
   },
   "outputs": [],
   "source": [
    "diabetes = load_diabetes()"
   ]
  },
  {
   "cell_type": "code",
   "execution_count": null,
   "id": "8ced1907-f6f1-4213-879c-e8cef1544ee0",
   "metadata": {
    "id": "b3aa5676-048e-4e58-8558-fbe43ce5a708",
    "outputId": "869a43bc-c76b-4e3b-8e9b-e44f2cee99aa"
   },
   "outputs": [],
   "source": [
    "# diabetes es un objeto tipo diccionario\n",
    "diabetes.keys()"
   ]
  },
  {
   "cell_type": "code",
   "execution_count": null,
   "id": "bd23ca71-2882-407b-b678-77e126a36f79",
   "metadata": {
    "id": "662e6b12-3383-4c7e-974d-ddfb9ddadde8",
    "outputId": "439d3071-e62e-4c3e-da8d-df0768d1bf0f"
   },
   "outputs": [],
   "source": [
    "# Tipos de los items\n",
    "keys = list(diabetes.keys())\n",
    "for k in range(len(keys)):\n",
    "    print(\"Type of diabetes.\" + str(keys[k]) + \" :\", type(diabetes[keys[k]])) "
   ]
  },
  {
   "cell_type": "code",
   "execution_count": null,
   "id": "1f15f00d-2285-4aa4-8eef-03a3bea616c8",
   "metadata": {
    "id": "f2ce3952-8d22-4d7d-9e5c-cbdb03e584a2",
    "outputId": "8ba1a0c8-4632-458b-8c91-b66b7761c20a"
   },
   "outputs": [],
   "source": [
    "# Item de descripción\n",
    "print(diabetes.DESCR)"
   ]
  },
  {
   "cell_type": "code",
   "execution_count": null,
   "id": "4fad0e9d-36e7-414b-bb87-55f27dea22ce",
   "metadata": {
    "id": "b2ff8b00-d468-4b62-a27c-8d4e20ea5044",
    "outputId": "95cf4ff1-9ed5-4494-f984-adfe7b5b2c4a"
   },
   "outputs": [],
   "source": [
    "# Nombres de las features o variables predictoras\n",
    "print(diabetes.feature_names)"
   ]
  },
  {
   "cell_type": "code",
   "execution_count": null,
   "id": "5cc0152d-54e0-48ee-b0cb-1f7fb321d3e3",
   "metadata": {
    "id": "debdd7e8-786f-40a1-9907-a124dc7b5f3a"
   },
   "outputs": [],
   "source": [
    "# Extraemos los numpy arrays\n",
    "X = diabetes.data \n",
    "y = diabetes.target"
   ]
  },
  {
   "cell_type": "code",
   "execution_count": null,
   "id": "f344c8ad-eb91-4dd2-9db5-442845779cbe",
   "metadata": {
    "id": "0ed1df45-5b79-4352-9911-65ebff6ec898",
    "outputId": "7700ebc4-2557-47d2-cae8-0129aea32dfa"
   },
   "outputs": [],
   "source": [
    "print(\"Atributos de X\")\n",
    "print(\n",
    "'''\\\n",
    "type: {}\n",
    "dtype: {}\n",
    "ndim: {}\n",
    "shape: {}\n",
    "size: {}\n",
    "itemsize: {}\n",
    "nbytes: {}\\\n",
    "'''.format(type(X),X.dtype,X.ndim,X.shape,X.size,X.itemsize,X.nbytes)\n",
    ")"
   ]
  },
  {
   "cell_type": "code",
   "execution_count": null,
   "id": "fdbcd1f8-bfdb-4ae6-9fb3-59e8ef2a1ead",
   "metadata": {
    "id": "6a36666a-263a-4977-80df-0224dfc375ae",
    "outputId": "242de4cb-95c8-452e-d9c9-e06a8c56152d"
   },
   "outputs": [],
   "source": [
    "# Primeras 10 filas\n",
    "X[0:10,:]"
   ]
  },
  {
   "cell_type": "code",
   "execution_count": null,
   "id": "c0a5322f-dc50-4098-8fcc-503ff3f52e5f",
   "metadata": {
    "id": "70ef3c00-a38d-4150-beee-f9278fe6710d",
    "outputId": "d5f6eb19-4892-487c-f7d2-61382ab427f0"
   },
   "outputs": [],
   "source": [
    "print(\"Atributos de y\")\n",
    "print(\n",
    "'''\\\n",
    "type: {}\n",
    "dtype: {}\n",
    "ndim: {}\n",
    "shape: {}\n",
    "size: {}\n",
    "itemsize: {}\n",
    "nbytes: {}\\\n",
    "'''.format(type(y),y.dtype,y.ndim,y.shape,y.size,y.itemsize,y.nbytes)\n",
    ")"
   ]
  },
  {
   "cell_type": "code",
   "execution_count": null,
   "id": "d07694f9-b292-4926-b30b-d752068f3c68",
   "metadata": {
    "id": "b401294d-b49b-49d3-961c-d5df68ccc05e",
    "outputId": "0f4d7691-0d96-4a53-b6f7-3058eb81f9aa"
   },
   "outputs": [],
   "source": [
    "# Primeros 10 elementos\n",
    "y[0:10]"
   ]
  },
  {
   "cell_type": "markdown",
   "id": "6362016f-5e41-4c7b-b99f-7edc2cf6ebf7",
   "metadata": {
    "id": "bf9acb1f-367c-446b-8f49-7a200ab8ade1"
   },
   "source": [
    "### Manipulación usando Pandas"
   ]
  },
  {
   "cell_type": "code",
   "execution_count": null,
   "id": "7134936a-532a-4d27-85db-3263d358b02b",
   "metadata": {},
   "outputs": [],
   "source": [
    "# Seleccionamos bmi y bp como variables\n",
    "X2 = X[:,2:4]"
   ]
  },
  {
   "cell_type": "code",
   "execution_count": null,
   "id": "c61ddb41-1ba9-42cc-bc8c-0325282c4170",
   "metadata": {
    "id": "cc06911d-d678-4c02-8e43-632299758101"
   },
   "outputs": [],
   "source": [
    "# Convertimos a pandas dataframe \n",
    "df = pd.DataFrame(data=X2, columns=diabetes.feature_names[2:4])\n",
    "df['target'] = pd.Series(y, dtype='float')"
   ]
  },
  {
   "cell_type": "code",
   "execution_count": null,
   "id": "8d389692-5c95-43bf-9240-35a75f6d4204",
   "metadata": {
    "colab": {
     "base_uri": "https://localhost:8080/"
    },
    "id": "3270413f-8c09-478c-bdd0-758a2c09fc48",
    "outputId": "d0570877-f623-4d3b-fb4b-abc9c1dece21"
   },
   "outputs": [],
   "source": [
    "# Tipo de objeto creado\n",
    "type(df)"
   ]
  },
  {
   "cell_type": "code",
   "execution_count": null,
   "id": "08286125-509c-4a25-aac2-0e3f74a15e20",
   "metadata": {
    "colab": {
     "base_uri": "https://localhost:8080/"
    },
    "id": "5e932984-84ee-42da-8840-3057e7af1ff4",
    "outputId": "faf40140-7e31-4ef1-c322-25f1fee8d488"
   },
   "outputs": [],
   "source": [
    "# Número de filas en el data frame\n",
    "len(df)"
   ]
  },
  {
   "cell_type": "code",
   "execution_count": null,
   "id": "3004ef21-d4d7-4875-9741-a25e7a1a2821",
   "metadata": {
    "colab": {
     "base_uri": "https://localhost:8080/"
    },
    "id": "5ad4a77d-1d5c-4a0c-8e3a-2c6f4e5386f8",
    "outputId": "eb8e707c-770b-4807-cab3-3f092db487dd"
   },
   "outputs": [],
   "source": [
    "# Número de filas y columnas en el data frame\n",
    "df.shape"
   ]
  },
  {
   "cell_type": "code",
   "execution_count": null,
   "id": "ed8dc949-9550-4e19-8c27-b81c2157f9f2",
   "metadata": {
    "colab": {
     "base_uri": "https://localhost:8080/",
     "height": 572
    },
    "id": "0c22e0da-ef6b-4739-927f-98214b961e6e",
    "outputId": "723b475a-68cb-49be-bd8c-5f768f800fa6"
   },
   "outputs": [],
   "source": [
    "# Visualización\n",
    "df"
   ]
  },
  {
   "cell_type": "code",
   "execution_count": null,
   "id": "aa34ce42-6be1-4694-896e-2cbb529f6247",
   "metadata": {},
   "outputs": [],
   "source": [
    "df.corr()"
   ]
  },
  {
   "cell_type": "code",
   "execution_count": null,
   "id": "4e6de317-db44-4779-988f-9e4750dfd4da",
   "metadata": {},
   "outputs": [],
   "source": [
    "sns.scatterplot(df, x='bmi',y='bp',hue='target')\n",
    "plt.show()"
   ]
  },
  {
   "cell_type": "markdown",
   "id": "fd8d8b97-9144-441b-94fd-d02bf88077b8",
   "metadata": {},
   "source": [
    "### K vecinos más cercanos"
   ]
  },
  {
   "cell_type": "code",
   "execution_count": null,
   "id": "3a8ac4a8-b466-4a9f-b504-0fb17cd34ba4",
   "metadata": {},
   "outputs": [],
   "source": [
    "# Entrenamos\n",
    "k=1\n",
    "knn_reg = KNeighborsRegressor(n_neighbors=k, metric='euclidean')\n",
    "knn_reg.fit(X2,y)"
   ]
  },
  {
   "cell_type": "code",
   "execution_count": null,
   "id": "e491ca15-5c68-49ad-9fac-5365577153f0",
   "metadata": {},
   "outputs": [],
   "source": [
    "y_pred = knn_reg.predict(X2)"
   ]
  },
  {
   "cell_type": "code",
   "execution_count": null,
   "id": "c04770fb-d758-4233-8442-ca1c8f1d39b7",
   "metadata": {},
   "outputs": [],
   "source": [
    "plt.scatter(x=y,y=y_pred)\n",
    "plt.xlabel('Verdad')\n",
    "plt.ylabel('Predicción')\n",
    "plt.title('Comparando verdad y predicción')\n",
    "plt.show()"
   ]
  },
  {
   "cell_type": "code",
   "execution_count": null,
   "id": "12aa008c-fce6-4445-8cf7-259ba344ad0e",
   "metadata": {},
   "outputs": [],
   "source": [
    "# Root mean squared error\n",
    "np.sqrt(mean_squared_error(y,y_pred))"
   ]
  },
  {
   "cell_type": "code",
   "execution_count": null,
   "id": "90470d23-3b4b-4b40-be94-8e4acdbd8c0f",
   "metadata": {},
   "outputs": [],
   "source": [
    "# Graficamos la hipotesis obtenida\n",
    "ax = plt.subplot(1, 1, 1)\n",
    "disp=DecisionBoundaryDisplay.from_estimator(\n",
    "    knn_reg,\n",
    "    X2,\n",
    "    response_method=\"predict\",\n",
    "    ax=ax,\n",
    "    xlabel=diabetes.feature_names[2],\n",
    "    ylabel=diabetes.feature_names[3],\n",
    "    eps=0.02,\n",
    "    grid_resolution = 1000,\n",
    "    alpha=0.5, \n",
    "    cmap='Oranges'\n",
    "    )\n",
    "\n",
    "# Plotting the data points    \n",
    "disp.ax_.scatter(X2[:, 0], X2[:, 1], \n",
    "                 c=y, edgecolor=\"k\",\n",
    "                 cmap='Oranges')\n",
    "plt.show()"
   ]
  },
  {
   "cell_type": "markdown",
   "id": "737c6494-325b-4543-a2da-e3b292a22307",
   "metadata": {},
   "source": [
    "### Árboles de decisión"
   ]
  },
  {
   "cell_type": "code",
   "execution_count": null,
   "id": "36538a49-0e8b-4bca-bb6f-d4a80ea81b1e",
   "metadata": {},
   "outputs": [],
   "source": [
    "# Entrenamos\n",
    "depth=3\n",
    "regtree = DecisionTreeRegressor(max_depth=depth)\n",
    "regtree.fit(X2, y)"
   ]
  },
  {
   "cell_type": "code",
   "execution_count": null,
   "id": "ff203183-4381-48db-b8e3-5ee8f3a8557c",
   "metadata": {},
   "outputs": [],
   "source": [
    "y_pred = regtree.predict(X2)"
   ]
  },
  {
   "cell_type": "code",
   "execution_count": null,
   "id": "276c5a7b-b657-47a8-9094-554faf4230e0",
   "metadata": {},
   "outputs": [],
   "source": [
    "plt.scatter(x=y,y=y_pred)\n",
    "plt.xlabel('Verdad')\n",
    "plt.ylabel('Predicción')\n",
    "plt.title('Comparando verdad y predicción')\n",
    "plt.show()"
   ]
  },
  {
   "cell_type": "code",
   "execution_count": null,
   "id": "91784af1-c027-4ae7-8397-9bdecee2a0ae",
   "metadata": {},
   "outputs": [],
   "source": [
    "# Root mean squared error\n",
    "np.sqrt(mean_squared_error(y,y_pred))"
   ]
  },
  {
   "cell_type": "code",
   "execution_count": null,
   "id": "34804447-2f4b-42af-aa10-d5dd21940d05",
   "metadata": {},
   "outputs": [],
   "source": [
    "# Graficamos el arbol\n",
    "plt.figure(figsize=(24,6))\n",
    "plot_tree(regtree,filled=True,fontsize=10)\n",
    "plt.savefig('arbol_dim_2.png')"
   ]
  },
  {
   "cell_type": "code",
   "execution_count": null,
   "id": "813fdd04-64d6-4faa-962b-ed060f0e0c69",
   "metadata": {},
   "outputs": [],
   "source": [
    "# Graficamos la hipotesis obtenida\n",
    "ax = plt.subplot(1, 1, 1)\n",
    "disp=DecisionBoundaryDisplay.from_estimator(\n",
    "    regtree,\n",
    "    X2,\n",
    "    response_method=\"predict\",\n",
    "    ax=ax,\n",
    "    xlabel=diabetes.feature_names[2],\n",
    "    ylabel=diabetes.feature_names[3],\n",
    "    eps=0.02,\n",
    "    grid_resolution = 1000,\n",
    "    alpha=0.5, \n",
    "    cmap='Oranges'\n",
    "    )\n",
    "\n",
    "# Plotting the data points    \n",
    "disp.ax_.scatter(X2[:, 0], X2[:, 1], \n",
    "                 c=y, edgecolor=\"k\",\n",
    "                 cmap='Oranges')\n",
    "plt.savefig('boundary_dim_2.png')"
   ]
  },
  {
   "cell_type": "code",
   "execution_count": null,
   "id": "7542a2ca-8dd9-43f9-8205-1e5a1c3ade26",
   "metadata": {},
   "outputs": [],
   "source": []
  }
 ],
 "metadata": {
  "kernelspec": {
   "display_name": "Python 3 (ipykernel)",
   "language": "python",
   "name": "python3"
  },
  "language_info": {
   "codemirror_mode": {
    "name": "ipython",
    "version": 3
   },
   "file_extension": ".py",
   "mimetype": "text/x-python",
   "name": "python",
   "nbconvert_exporter": "python",
   "pygments_lexer": "ipython3",
   "version": "3.8.15"
  }
 },
 "nbformat": 4,
 "nbformat_minor": 5
}
