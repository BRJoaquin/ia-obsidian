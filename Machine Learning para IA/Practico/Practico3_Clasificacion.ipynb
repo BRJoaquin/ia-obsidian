{
 "cells": [
  {
   "cell_type": "markdown",
   "id": "75a19b71-7409-4d17-936a-a6a3272137cf",
   "metadata": {
    "id": "75a19b71-7409-4d17-936a-a6a3272137cf"
   },
   "source": [
    "# Práctico 3: Clasificación"
   ]
  },
  {
   "cell_type": "markdown",
   "id": "85d904e8-7364-4ec4-b0c1-0455caa93a57",
   "metadata": {
    "id": "85d904e8-7364-4ec4-b0c1-0455caa93a57"
   },
   "source": [
    "## Imports"
   ]
  },
  {
   "cell_type": "code",
   "execution_count": 1,
   "id": "ecd47cc7-ee48-4318-9498-186c798ee424",
   "metadata": {
    "id": "ecd47cc7-ee48-4318-9498-186c798ee424",
    "ExecuteTime": {
     "start_time": "2023-05-07T12:13:18.062910Z",
     "end_time": "2023-05-07T12:13:18.157802Z"
    }
   },
   "outputs": [],
   "source": [
    "# Scientific computing\n",
    "import numpy as np\n",
    "np.set_printoptions(formatter={'float': lambda x: \"{0:0.3f}\".format(x)})\n",
    "\n",
    "# Visualizations\n",
    "import matplotlib.pyplot as plt\n",
    "import seaborn as sns\n",
    "\n",
    "# Data analysis and manipulation\n",
    "import pandas as pd\n",
    "\n",
    "# Machine learning\n",
    "import sklearn\n",
    "from sklearn.linear_model import LogisticRegression\n",
    "from sklearn.neighbors import KNeighborsClassifier\n",
    "from sklearn.tree import DecisionTreeClassifier\n",
    "from sklearn.preprocessing import PolynomialFeatures\n",
    "from sklearn.preprocessing import StandardScaler\n",
    "from sklearn.tree import plot_tree\n",
    "from sklearn.inspection import DecisionBoundaryDisplay\n",
    "from sklearn.metrics import confusion_matrix, ConfusionMatrixDisplay, accuracy_score, log_loss"
   ]
  },
  {
   "cell_type": "markdown",
   "source": [],
   "metadata": {
    "collapsed": false
   }
  },
  {
   "cell_type": "markdown",
   "id": "d6a5ebed-d21a-4ca0-a99e-0d6c62310c81",
   "metadata": {
    "id": "d6a5ebed-d21a-4ca0-a99e-0d6c62310c81"
   },
   "source": [
    "## Penguins dataset"
   ]
  },
  {
   "cell_type": "markdown",
   "id": "c226824b-c4a7-4b54-a679-c1acbf445439",
   "metadata": {
    "id": "c226824b-c4a7-4b54-a679-c1acbf445439"
   },
   "source": [
    "### Cargamos del dataset"
   ]
  },
  {
   "cell_type": "code",
   "execution_count": null,
   "id": "7faf5c8a-397a-48aa-886e-c2717f2100ab",
   "metadata": {
    "id": "7faf5c8a-397a-48aa-886e-c2717f2100ab"
   },
   "outputs": [],
   "source": [
    "penguins = pd.read_csv('penguins.csv', dtype={'species':'category', 'island': 'category', 'sex':'category'})"
   ]
  },
  {
   "cell_type": "code",
   "execution_count": null,
   "id": "dca83803-4a1b-4d66-9eee-209c1a856cf1",
   "metadata": {
    "id": "dca83803-4a1b-4d66-9eee-209c1a856cf1"
   },
   "outputs": [],
   "source": [
    "penguins.info()"
   ]
  },
  {
   "cell_type": "code",
   "execution_count": null,
   "id": "697e9c64-aa1a-4bd4-b2d8-ad3f6d67db43",
   "metadata": {
    "id": "697e9c64-aa1a-4bd4-b2d8-ad3f6d67db43"
   },
   "outputs": [],
   "source": [
    "atributos_categoricos = list(penguins.select_dtypes(include='category').columns)\n",
    "print(atributos_categoricos)"
   ]
  },
  {
   "cell_type": "code",
   "execution_count": null,
   "id": "771c0802-88e6-4dfb-b3a0-4827b4f3691f",
   "metadata": {
    "id": "771c0802-88e6-4dfb-b3a0-4827b4f3691f"
   },
   "outputs": [],
   "source": [
    "atributos_continuos = list(penguins.select_dtypes(include='float').columns)\n",
    "print(atributos_continuos)"
   ]
  },
  {
   "cell_type": "markdown",
   "id": "07df7b01-87e8-4cdb-a95a-3e68ef0dde33",
   "metadata": {
    "id": "07df7b01-87e8-4cdb-a95a-3e68ef0dde33"
   },
   "source": [
    "### Análisis exploratorio"
   ]
  },
  {
   "cell_type": "code",
   "execution_count": null,
   "id": "dbeb08e2-ce4f-4eae-9cc2-d96a02ee634e",
   "metadata": {
    "id": "dbeb08e2-ce4f-4eae-9cc2-d96a02ee634e"
   },
   "outputs": [],
   "source": [
    "penguins.head()"
   ]
  },
  {
   "cell_type": "markdown",
   "id": "af024bfd-297e-4323-a599-bb0261e94bfe",
   "metadata": {
    "id": "af024bfd-297e-4323-a599-bb0261e94bfe"
   },
   "source": [
    "#### Análisis univariado"
   ]
  },
  {
   "cell_type": "code",
   "execution_count": null,
   "id": "2fefec4c-a13d-42dd-a06e-7ad0f79f0a32",
   "metadata": {
    "id": "2fefec4c-a13d-42dd-a06e-7ad0f79f0a32"
   },
   "outputs": [],
   "source": [
    "penguins.describe()"
   ]
  },
  {
   "cell_type": "code",
   "execution_count": null,
   "id": "dc22723b-cd04-4a90-9ac0-0edcb4c577fb",
   "metadata": {
    "id": "dc22723b-cd04-4a90-9ac0-0edcb4c577fb"
   },
   "outputs": [],
   "source": [
    "for col in penguins.select_dtypes(include='category').columns:\n",
    "    print(col)\n",
    "    print('----------')\n",
    "    print(penguins[col].value_counts())\n",
    "    print('----------')"
   ]
  },
  {
   "cell_type": "code",
   "execution_count": null,
   "id": "a492e47b-b603-4804-8059-0b862dfcbc8c",
   "metadata": {
    "id": "a492e47b-b603-4804-8059-0b862dfcbc8c"
   },
   "outputs": [],
   "source": [
    "fig, axes = plt.subplots(1,len(atributos_categoricos),figsize=(10,5))\n",
    "\n",
    "for i, atributo in enumerate(atributos_categoricos):\n",
    "    penguins[atributo].value_counts().plot(kind='bar', ax=axes[i])"
   ]
  },
  {
   "cell_type": "code",
   "execution_count": null,
   "id": "e5b0fd20-6034-4087-b653-e34de9e56999",
   "metadata": {
    "id": "e5b0fd20-6034-4087-b653-e34de9e56999"
   },
   "outputs": [],
   "source": [
    "#Boxplots\n",
    "fig, axes = plt.subplots(len(atributos_continuos),1,figsize=(5,6))\n",
    "\n",
    "for i, atributo in enumerate(atributos_continuos):\n",
    "    ax = sns.boxplot(x=atributo, ax=axes[i], data=penguins)\n",
    "    ax.set_xlabel(atributo)\n",
    "    \n",
    "plt.tight_layout()\n",
    "plt.show()"
   ]
  },
  {
   "cell_type": "code",
   "execution_count": null,
   "id": "0356974f-8fed-42c1-ae2e-af5fc2608c7a",
   "metadata": {
    "id": "0356974f-8fed-42c1-ae2e-af5fc2608c7a"
   },
   "outputs": [],
   "source": [
    "# Densidades\n",
    "fig, axes = plt.subplots(len(atributos_continuos),1,figsize=(5,10))\n",
    "\n",
    "for i, atributo in enumerate(atributos_continuos):\n",
    "    ax = sns.kdeplot(x=atributo, ax=axes[i], data=penguins, fill=True)\n",
    "    ax.set_xlabel(atributo)\n",
    "    ax.axvline(x=penguins[atributo].mean(), linestyle='dashed',label='Media')\n",
    "    ax.axvline(x=penguins[atributo].median(), linestyle='dashed', color='red',label='Mediana')\n",
    "    ax.legend()\n",
    "    \n",
    "plt.tight_layout()\n",
    "plt.show()"
   ]
  },
  {
   "cell_type": "markdown",
   "id": "eb0e5402-e6bc-453b-8800-e5217fc209cd",
   "metadata": {
    "id": "eb0e5402-e6bc-453b-8800-e5217fc209cd"
   },
   "source": [
    "#### Análisis multivariado"
   ]
  },
  {
   "cell_type": "code",
   "execution_count": null,
   "id": "f8dc3cf3-4ea4-40d5-b02d-22e1303010a2",
   "metadata": {
    "id": "f8dc3cf3-4ea4-40d5-b02d-22e1303010a2"
   },
   "outputs": [],
   "source": [
    "corr = penguins.corr(numeric_only=True)\n",
    "sns.heatmap(corr, cmap=\"Blues\", annot=True, fmt='.2f')\n",
    "plt.show()"
   ]
  },
  {
   "cell_type": "code",
   "execution_count": null,
   "id": "c7ffd5da-2987-44d2-b3c5-050444cccd57",
   "metadata": {
    "id": "c7ffd5da-2987-44d2-b3c5-050444cccd57"
   },
   "outputs": [],
   "source": [
    "g = sns.jointplot(\n",
    "    data=penguins,\n",
    "    x=atributos_continuos[0],\n",
    "    y=atributos_continuos[1],\n",
    "    kind=\"kde\",\n",
    "    fill=True,\n",
    "    alpha=0.4\n",
    ")\n",
    "g.plot_joint(plt.scatter, c=\"w\", s=30, linewidth=1, marker=\"+\")\n",
    "plt.show()"
   ]
  },
  {
   "cell_type": "code",
   "execution_count": null,
   "id": "de965d28-47c9-401a-844b-271832bf42d8",
   "metadata": {
    "id": "de965d28-47c9-401a-844b-271832bf42d8"
   },
   "outputs": [],
   "source": [
    "sns.jointplot(\n",
    "    data=penguins,\n",
    "    x=atributos_continuos[0],\n",
    "    y=atributos_continuos[1],\n",
    "    hue=\"sex\",\n",
    "    kind=\"kde\",\n",
    "    fill=True,\n",
    "    alpha=0.4\n",
    ")\n",
    "plt.show()"
   ]
  },
  {
   "cell_type": "code",
   "execution_count": null,
   "id": "01a260ad-b272-4d08-b4bf-7df28f881669",
   "metadata": {
    "id": "01a260ad-b272-4d08-b4bf-7df28f881669"
   },
   "outputs": [],
   "source": [
    "sns.jointplot(\n",
    "    data=penguins,\n",
    "    x=atributos_continuos[0],\n",
    "    y=atributos_continuos[1],\n",
    "    hue=\"species\",\n",
    "    kind=\"kde\",\n",
    "    fill=True,\n",
    "    alpha=0.4\n",
    ")\n",
    "plt.show()"
   ]
  },
  {
   "cell_type": "code",
   "execution_count": null,
   "id": "81c96718-9dee-4226-a6e1-e87aa4aacccb",
   "metadata": {
    "id": "81c96718-9dee-4226-a6e1-e87aa4aacccb"
   },
   "outputs": [],
   "source": [
    "sns.jointplot(\n",
    "    data=penguins,\n",
    "    x=atributos_continuos[0],\n",
    "    y=atributos_continuos[1],\n",
    "    hue=\"island\",\n",
    "    kind=\"kde\",\n",
    "    fill=True,\n",
    "    alpha=0.4\n",
    ")\n",
    "plt.show()"
   ]
  },
  {
   "cell_type": "code",
   "execution_count": null,
   "id": "9bada131-bdaa-49c8-8d0f-adb710b0bb24",
   "metadata": {
    "id": "9bada131-bdaa-49c8-8d0f-adb710b0bb24"
   },
   "outputs": [],
   "source": [
    "sns.pairplot(penguins, hue=\"sex\")\n",
    "plt.show()"
   ]
  },
  {
   "cell_type": "code",
   "execution_count": null,
   "id": "60cde370-fd52-4024-9358-5ba47ea24162",
   "metadata": {
    "id": "60cde370-fd52-4024-9358-5ba47ea24162"
   },
   "outputs": [],
   "source": [
    "sns.pairplot(penguins, hue=\"species\")\n",
    "plt.show()"
   ]
  },
  {
   "cell_type": "code",
   "execution_count": null,
   "id": "a69cbbfe-b96b-41e7-9851-4fcac29b2f62",
   "metadata": {
    "id": "a69cbbfe-b96b-41e7-9851-4fcac29b2f62"
   },
   "outputs": [],
   "source": [
    "sns.pairplot(penguins, hue=\"island\")\n",
    "plt.show()"
   ]
  },
  {
   "cell_type": "code",
   "execution_count": null,
   "id": "0533712d-55ca-4204-a257-7590879ebddc",
   "metadata": {
    "id": "0533712d-55ca-4204-a257-7590879ebddc"
   },
   "outputs": [],
   "source": [
    "penguins_nan = penguins.dropna().copy()\n",
    "colors = penguins_nan[['species', 'sex', 'island']].apply(tuple, axis=1)\n",
    "penguins_nan['colors'] = colors\n",
    "penguins_nan.head()"
   ]
  },
  {
   "cell_type": "code",
   "execution_count": null,
   "id": "ac63a7dd-dc17-42e2-ac4d-4a5fb56a9ddd",
   "metadata": {
    "id": "ac63a7dd-dc17-42e2-ac4d-4a5fb56a9ddd"
   },
   "outputs": [],
   "source": [
    "sns.pairplot(penguins_nan, hue='colors')\n",
    "plt.show()"
   ]
  },
  {
   "cell_type": "markdown",
   "id": "d9f788ce-ef65-43b8-953e-129083c63fb6",
   "metadata": {},
   "source": [
    "## Regresión Logística"
   ]
  },
  {
   "cell_type": "markdown",
   "id": "fd4d5f6e-8584-444f-9622-efb174462994",
   "metadata": {},
   "source": [
    "### Regresión logística simple: univariada y binaria"
   ]
  },
  {
   "cell_type": "markdown",
   "id": "1d31aef7-b5a7-48ff-a203-ffa2d78ced65",
   "metadata": {},
   "source": [
    "#### Entrenamiento"
   ]
  },
  {
   "cell_type": "code",
   "execution_count": null,
   "id": "3195cee2-ed40-44d9-bdd0-6cb93891e64d",
   "metadata": {},
   "outputs": [],
   "source": [
    "# Instanciamos el algoritmo\n",
    "lr_clf = LogisticRegression(solver='newton-cg',penalty=None)\n",
    "lr_clf"
   ]
  },
  {
   "cell_type": "code",
   "execution_count": null,
   "id": "9d34783b-291e-42cf-a6cf-321d3a4b3036",
   "metadata": {},
   "outputs": [],
   "source": [
    "# Extraemos los numpy arrays\n",
    "X=penguins_nan['body_mass_g'].to_numpy().reshape(-1, 1)\n",
    "y=penguins_nan['sex'].to_numpy()"
   ]
  },
  {
   "cell_type": "code",
   "execution_count": null,
   "id": "4e6927f4-70ac-4f4d-bdce-d5744acebf05",
   "metadata": {},
   "outputs": [],
   "source": [
    "# Entrenamos\n",
    "lr_clf.fit(X,y)"
   ]
  },
  {
   "cell_type": "code",
   "execution_count": null,
   "id": "15f1c000-6a38-4f5b-ade2-b9df0fca6877",
   "metadata": {
    "id": "35c2d75b-838b-4838-a30f-1fa70bfd81c8",
    "outputId": "b0335bba-e8d3-4327-961f-a0b324979cae"
   },
   "outputs": [],
   "source": [
    "# Coeficientes\n",
    "w0 = lr_clf.intercept_\n",
    "w1 = lr_clf.coef_\n",
    "print(w0,w1)"
   ]
  },
  {
   "cell_type": "code",
   "execution_count": null,
   "id": "28483753-0f90-42a3-b1db-6827ce6106ef",
   "metadata": {},
   "outputs": [],
   "source": [
    "# Obtenemos predicciones\n",
    "y_pred = lr_clf.predict(X)\n",
    "y_pred_proba = lr_clf.predict_proba(X)"
   ]
  },
  {
   "cell_type": "code",
   "execution_count": null,
   "id": "a6f6660d-5e85-4d3f-83cf-c37c7ce5bf6b",
   "metadata": {},
   "outputs": [],
   "source": [
    "# Porcentaje de acierto y error\n",
    "acc = accuracy_score(y_pred, y)\n",
    "err = 1-acc\n",
    "print(err)"
   ]
  },
  {
   "cell_type": "code",
   "execution_count": null,
   "id": "aa322a4b-1bd0-468a-b397-578b9e372ca8",
   "metadata": {},
   "outputs": [],
   "source": [
    "# Función de pérdida (BCE)\n",
    "log_loss(y,y_pred_proba)"
   ]
  },
  {
   "cell_type": "code",
   "execution_count": null,
   "id": "25bfc4bd-9b0e-4a6c-8a1e-7432055e644f",
   "metadata": {},
   "outputs": [],
   "source": [
    "# Matriz de confusión\n",
    "cm=confusion_matrix(y, y_pred)\n",
    "disp = ConfusionMatrixDisplay(confusion_matrix=cm, display_labels=lr_clf.classes_)\n",
    "\n",
    "disp.plot(cmap=\"OrRd\")\n",
    "plt.savefig('confusion_matrix_lr_simple.png')"
   ]
  },
  {
   "cell_type": "markdown",
   "id": "73ca4f9d-afb0-4d73-bd7e-8e3c36a20dc0",
   "metadata": {},
   "source": [
    "#### Graficamos la hipótesis obtenida"
   ]
  },
  {
   "cell_type": "code",
   "execution_count": null,
   "id": "3521ef16-cb06-418d-beb5-bd111b571e71",
   "metadata": {},
   "outputs": [],
   "source": [
    "xmin = penguins['body_mass_g'].min()\n",
    "xmax = penguins['body_mass_g'].max()\n",
    "\n",
    "X_ax = np.linspace(xmin, xmax, num=1000).reshape(-1, 1)\n",
    "\n",
    "pred_y = lr_clf.predict(X_ax)\n",
    "pred_proba_y = lr_clf.predict_proba(X_ax)"
   ]
  },
  {
   "cell_type": "code",
   "execution_count": null,
   "id": "1f1558b5-3e87-4e6c-841f-677398ea273c",
   "metadata": {},
   "outputs": [],
   "source": [
    "sns.scatterplot(x=X.ravel(), y=y.ravel(), hue=y.ravel())\n",
    "plt.step(X_ax, pred_y, lw=1.5, color='red', label=\"Clase\")\n",
    "plt.plot(X_ax, pred_proba_y[:,0], color='green', label='Probabilidad')\n",
    "plt.legend()\n",
    "plt.xlabel('Body mass (g)')\n",
    "plt.title('Regresión logística simple')\n",
    "plt.savefig('rl_simple_bm_sex.png')"
   ]
  },
  {
   "cell_type": "markdown",
   "id": "ee2aeb63-ddd8-4790-a1da-850167e5a2bb",
   "metadata": {
    "id": "5943554a-f211-4724-9f1a-2ea4823aaa43"
   },
   "source": [
    "#### Curvas de nivel de la función de pérdida"
   ]
  },
  {
   "cell_type": "code",
   "execution_count": null,
   "id": "a7079431-916c-4401-a35c-5a1847a6dbfc",
   "metadata": {
    "id": "ef125166-8f11-4318-b651-410b505ef349"
   },
   "outputs": [],
   "source": [
    "res = 100\n",
    "lin_w0 = np.linspace(-7.0, -4.0, res)\n",
    "lin_w1 = np.linspace(0.0005, 0.0025, res)"
   ]
  },
  {
   "cell_type": "code",
   "execution_count": null,
   "id": "9bd90199-6862-4794-8dcd-8d61ad45a71e",
   "metadata": {
    "id": "75c946b6-c738-4046-9216-87838cc7c371"
   },
   "outputs": [],
   "source": [
    "W0, W1 = np.meshgrid(lin_w0, lin_w1)"
   ]
  },
  {
   "cell_type": "code",
   "execution_count": null,
   "id": "f214cd61-33b3-4d61-991d-72e5b5540184",
   "metadata": {
    "id": "979fe758-7096-41c8-ab95-c522194217e6"
   },
   "outputs": [],
   "source": [
    "L=np.zeros(W0.shape)\n",
    "\n",
    "for i in range(res):\n",
    "    for j in range(res):\n",
    "        w0 = W0[i,j]\n",
    "        w1 = W1[i,j]\n",
    "        proba = 1/(1+np.exp(-(X*w1+w0)))\n",
    "        L[i,j] = log_loss(y,proba)"
   ]
  },
  {
   "cell_type": "code",
   "execution_count": null,
   "id": "79bf710f-012c-4cf1-a096-a218553b2a4b",
   "metadata": {
    "id": "b0ed3175-3f30-4925-a9cf-577653019a6d",
    "outputId": "544a2480-fc44-4093-9a8e-cdc9247d2aa0"
   },
   "outputs": [],
   "source": [
    "levels = [0, 0.6, 0.8, 1, 1.2, 1.4, 1.6, 1.8, 2, 2.2, 2.4, 2.6, 2.8, 3]\n",
    "cp = plt.contour(W0, W1, L,levels,colors='black', linestyles='dashed', linewidths=1)\n",
    "plt.clabel(cp, inline=1, fontsize=10)\n",
    "cp = plt.contourf(W0, W1, L,levels)\n",
    "plt.xlabel('w0')\n",
    "plt.ylabel('w1')\n",
    "plt.savefig('rl_bm_sex_loss.png')"
   ]
  },
  {
   "cell_type": "markdown",
   "id": "579b5be2-8639-487b-a348-a0d2f28189da",
   "metadata": {
    "id": "8fd20aed-9a61-4771-85f4-384b6e8b7a8a"
   },
   "source": [
    "### Regresión logística: univariada, binaria y con polinomios"
   ]
  },
  {
   "cell_type": "markdown",
   "id": "8a96d673-9722-4c91-8d84-f48aad55483e",
   "metadata": {
    "id": "ec34163d-7f82-4476-8b71-12fc050ca4bc"
   },
   "source": [
    "#### Entrenamiento"
   ]
  },
  {
   "cell_type": "code",
   "execution_count": null,
   "id": "0bc061b7-724a-4d4c-92ec-b712d1a97a24",
   "metadata": {
    "id": "0744f319-3995-44f3-b559-953851c08ad1"
   },
   "outputs": [],
   "source": [
    "# Elegimos el grado\n",
    "K = 10"
   ]
  },
  {
   "cell_type": "code",
   "execution_count": null,
   "id": "a139e2e4-a2d4-41dc-ae6c-cb045bb36105",
   "metadata": {
    "id": "96ebf876-fb08-4f16-8f1b-e2ef7e2c91dc",
    "tags": []
   },
   "outputs": [],
   "source": [
    "# Obtenemos los features\n",
    "poly = PolynomialFeatures(degree=K, include_bias=False)\n",
    "X_poly = poly.fit_transform(X)"
   ]
  },
  {
   "cell_type": "code",
   "execution_count": null,
   "id": "258e3788-6307-47f6-ad1a-0bb77d7eda0d",
   "metadata": {
    "id": "a375a4f1-402e-4387-aa19-ba65fe042282"
   },
   "outputs": [],
   "source": [
    "# Escalamos\n",
    "scaler = StandardScaler()\n",
    "X_norm = scaler.fit_transform(X_poly)"
   ]
  },
  {
   "cell_type": "code",
   "execution_count": null,
   "id": "5398d103-c32d-4ca7-b1aa-c6b57f25bd20",
   "metadata": {
    "id": "a8cf4034-cc48-4837-b1ac-255584e1a654",
    "outputId": "1eef059d-1877-4f19-87dc-a957af06a644"
   },
   "outputs": [],
   "source": [
    "lr_poly_clf = LogisticRegression(solver='newton-cg',penalty=None)\n",
    "lr_poly_clf.fit(X_norm, y)"
   ]
  },
  {
   "cell_type": "code",
   "execution_count": null,
   "id": "421584c3-0c26-4bb1-ab96-1123382cb417",
   "metadata": {
    "id": "35c2d75b-838b-4838-a30f-1fa70bfd81c8",
    "outputId": "b0335bba-e8d3-4327-961f-a0b324979cae"
   },
   "outputs": [],
   "source": [
    "# Coeficientes\n",
    "w0 = lr_poly_clf.intercept_\n",
    "w1 = lr_poly_clf.coef_\n",
    "print(w0,w1)"
   ]
  },
  {
   "cell_type": "code",
   "execution_count": null,
   "id": "6f5d5803-b579-43d7-8c02-2a47331eb28c",
   "metadata": {},
   "outputs": [],
   "source": [
    "# Obtenemos predicciones\n",
    "y_pred = lr_poly_clf.predict(X_norm)\n",
    "y_pred_proba = lr_poly_clf.predict_proba(X_norm)"
   ]
  },
  {
   "cell_type": "code",
   "execution_count": null,
   "id": "3bee7a07-2b47-4811-8088-26c744673f20",
   "metadata": {},
   "outputs": [],
   "source": [
    "# Porcentaje de acierto y error\n",
    "acc = accuracy_score(y_pred, y)\n",
    "err = 1-acc\n",
    "print(err)"
   ]
  },
  {
   "cell_type": "code",
   "execution_count": null,
   "id": "fab1f070-7c3a-43cd-b350-5f1671e315df",
   "metadata": {},
   "outputs": [],
   "source": [
    "# Función de pérdida (BCE)\n",
    "log_loss(y,y_pred_proba)"
   ]
  },
  {
   "cell_type": "code",
   "execution_count": null,
   "id": "a7411b4b-1721-4c12-b21e-2af4f6ad78ac",
   "metadata": {},
   "outputs": [],
   "source": [
    "# Matriz de confusión\n",
    "cm=confusion_matrix(y, y_pred)\n",
    "disp = ConfusionMatrixDisplay(confusion_matrix=cm, display_labels=lr_poly_clf.classes_)\n",
    "\n",
    "disp.plot(cmap=\"OrRd\")\n",
    "plt.savefig('confusion_matrix_lr_poly.png')"
   ]
  },
  {
   "cell_type": "markdown",
   "id": "0ceb550d-61b4-4ab2-9588-7b651ab453f6",
   "metadata": {},
   "source": [
    "#### Graficamos la hipótesis obtenida"
   ]
  },
  {
   "cell_type": "code",
   "execution_count": null,
   "id": "55afea1d-e042-40d6-be84-d35c8b4fd891",
   "metadata": {},
   "outputs": [],
   "source": [
    "xmin = penguins['body_mass_g'].min()\n",
    "xmax = penguins['body_mass_g'].max()\n",
    "\n",
    "X_ax = np.linspace(xmin, xmax, num=500).reshape(-1, 1)\n",
    "\n",
    "X_ax_poly = poly.transform(X_ax)\n",
    "X_ax_norm = scaler.transform(X_ax_poly)\n",
    "\n",
    "pred_y = lr_poly_clf.predict(X_ax_norm)\n",
    "pred_proba_y = lr_poly_clf.predict_proba(X_ax_norm)"
   ]
  },
  {
   "cell_type": "code",
   "execution_count": null,
   "id": "71acbc9f-a23d-49b4-b7ca-cb804c5a4f3f",
   "metadata": {},
   "outputs": [],
   "source": [
    "sns.scatterplot(x=X.ravel(), y=y.ravel(), hue=y.ravel())\n",
    "plt.step(X_ax, pred_y, lw=1.5, color='red', label=\"Clase\")\n",
    "plt.plot(X_ax, pred_proba_y[:,0], color='green', label='Probabilidad')\n",
    "plt.legend()\n",
    "plt.xlabel('Body mass (g)')\n",
    "plt.title('Regresión logística con polinomios K='+str(K))\n",
    "plt.savefig('rl_poly_bm_sex_K_'+str(K)+'.png')"
   ]
  },
  {
   "cell_type": "markdown",
   "id": "4364e3f3-36d3-4979-908f-14b82e8c6f2a",
   "metadata": {
    "id": "6130f2c2-6268-40b6-92c9-0d0e989e1e30"
   },
   "source": [
    "#### Error, loss y tamaño de los coeficientes en función del grado"
   ]
  },
  {
   "cell_type": "code",
   "execution_count": null,
   "id": "eb21be8d-a70a-4582-8927-0190f497c01a",
   "metadata": {
    "id": "a4cd6e4d-f017-4fa2-97f1-1b8a4c834682"
   },
   "outputs": [],
   "source": [
    "sizes = []\n",
    "errors = []\n",
    "losses = []\n",
    "\n",
    "for K in range(1,20):\n",
    "    poly = PolynomialFeatures(degree=K, include_bias=False)\n",
    "    X_poly = poly.fit_transform(X)\n",
    "    \n",
    "    scaler = StandardScaler()\n",
    "    X_norm = scaler.fit_transform(X_poly)\n",
    "    \n",
    "    lr_poly_clf = LogisticRegression(solver='newton-cg',penalty=None)\n",
    "    lr_poly_clf.fit(X_norm, y)\n",
    "    y_pred = lr_poly_clf.predict(X_norm)\n",
    "    y_pred_proba = lr_poly_clf.predict_proba(X_norm)\n",
    "    errors.append(1-accuracy_score(y,y_pred))\n",
    "    sizes.append(np.mean(np.abs(lr_poly_clf.coef_)))\n",
    "    losses.append(log_loss(y,y_pred_proba))"
   ]
  },
  {
   "cell_type": "code",
   "execution_count": null,
   "id": "de4abeb5-8638-43e2-ae98-1b274a911c25",
   "metadata": {
    "id": "f48ceaa3-7a2c-4d99-a025-b17dd665c885",
    "outputId": "9deb30d9-fd12-4eae-bd61-45b576484c0b"
   },
   "outputs": [],
   "source": [
    "df_errors = pd.DataFrame({\"Grado\":range(1,20), \"Error\":errors})\n",
    "line_plot_errors = sns.lineplot(\n",
    "    data=df_errors,\n",
    "    x=\"Grado\", y=\"Error\",\n",
    "    marker='o',\n",
    "    dashes=False,\n",
    "    errorbar = ('ci', False)\n",
    ")\n",
    "plt.title(\"Error empírico en función del grado\")\n",
    "line_plot_fig = line_plot_errors.get_figure()\n",
    "line_plot_fig.savefig('bm_sex_errors.png')"
   ]
  },
  {
   "cell_type": "code",
   "execution_count": null,
   "id": "62366da3-06ad-401b-ac21-6cb8193e81c0",
   "metadata": {
    "id": "622bea4f-b63e-4395-8823-1024498b3504",
    "outputId": "3e49b067-5f78-4a92-93b0-e4fecdfc1120"
   },
   "outputs": [],
   "source": [
    "df_sizes = pd.DataFrame({\"Grado\":range(1,20), \"Log valor abs promedio de coef\":np.log(sizes)})\n",
    "line_plot_sizes = sns.lineplot(\n",
    "    data=df_sizes,\n",
    "    x=\"Grado\", y=\"Log valor abs promedio de coef\",\n",
    "    marker='o',\n",
    "    dashes=False,\n",
    "    errorbar = ('ci', False)\n",
    ")\n",
    "plt.title(\"Valor abs promedio de coef en función del grado\")\n",
    "line_plot_fig = line_plot_sizes.get_figure()\n",
    "line_plot_fig.savefig('bm_sex_sizes.png')"
   ]
  },
  {
   "cell_type": "code",
   "execution_count": null,
   "id": "f69beb72-bfef-4cba-a9af-3b2d162df6ca",
   "metadata": {},
   "outputs": [],
   "source": [
    "df_loss = pd.DataFrame({\"Grado\":range(1,20), \"BCE\":losses})\n",
    "line_plot_losses = sns.lineplot(\n",
    "    data=df_loss,\n",
    "    x=\"Grado\", y=\"BCE\",\n",
    "    marker='o',\n",
    "    dashes=False,\n",
    "    errorbar = ('ci', False)\n",
    ")\n",
    "plt.title(\"BCE en función del grado\")\n",
    "line_plot_fig = line_plot_losses.get_figure()\n",
    "line_plot_fig.savefig('bm_sex_losses.png')"
   ]
  },
  {
   "cell_type": "markdown",
   "id": "ba7c055b-8d01-4abc-960a-2e6365fd27a9",
   "metadata": {
    "id": "8fd20aed-9a61-4771-85f4-384b6e8b7a8a"
   },
   "source": [
    "### Regresión logística: multivariada y binaria"
   ]
  },
  {
   "cell_type": "markdown",
   "id": "0f49255a-a57e-46d8-8d9e-8811b0698ec9",
   "metadata": {},
   "source": [
    "#### Entrenamiento"
   ]
  },
  {
   "cell_type": "code",
   "execution_count": null,
   "id": "56b17134-d7a4-4dbb-844e-a086a3e0cb23",
   "metadata": {},
   "outputs": [],
   "source": [
    "# Extraemos los numpy arrays\n",
    "X=penguins_nan[['body_mass_g','flipper_length_mm']].to_numpy()\n",
    "y=penguins_nan['sex'].to_numpy()"
   ]
  },
  {
   "cell_type": "code",
   "execution_count": null,
   "id": "a2beeb2d-75c4-44df-9155-e65bdde45794",
   "metadata": {},
   "outputs": [],
   "source": [
    "# Normalizamos\n",
    "scaler = StandardScaler()\n",
    "X_norm = scaler.fit_transform(X)"
   ]
  },
  {
   "cell_type": "code",
   "execution_count": null,
   "id": "ed610a10-ea99-46bc-864f-2c04aea85005",
   "metadata": {},
   "outputs": [],
   "source": [
    "# Entrenamos\n",
    "lr_clf = LogisticRegression(solver='newton-cg',penalty=None)\n",
    "lr_clf.fit(X_norm,y)"
   ]
  },
  {
   "cell_type": "code",
   "execution_count": null,
   "id": "3376e1a3-5197-4140-9c87-a3478023e929",
   "metadata": {
    "id": "35c2d75b-838b-4838-a30f-1fa70bfd81c8",
    "outputId": "b0335bba-e8d3-4327-961f-a0b324979cae"
   },
   "outputs": [],
   "source": [
    "# Coeficientes\n",
    "w0 = lr_clf.intercept_\n",
    "w1 = lr_clf.coef_\n",
    "print(w0,w1)"
   ]
  },
  {
   "cell_type": "code",
   "execution_count": null,
   "id": "0291781c-e742-4938-b2b9-743ddd931d9b",
   "metadata": {},
   "outputs": [],
   "source": [
    "# Obtenemos predicciones\n",
    "y_pred = lr_clf.predict(X_norm)\n",
    "y_pred_proba = lr_clf.predict_proba(X_norm)"
   ]
  },
  {
   "cell_type": "code",
   "execution_count": null,
   "id": "a35e5a64-729a-44ad-a298-8bff128ca02b",
   "metadata": {},
   "outputs": [],
   "source": [
    "# Porcentaje de acierto y error\n",
    "acc = accuracy_score(y_pred, y)\n",
    "err = 1-acc\n",
    "print(err)"
   ]
  },
  {
   "cell_type": "code",
   "execution_count": null,
   "id": "39a0c843-c6ee-4fee-9642-012b634c2053",
   "metadata": {},
   "outputs": [],
   "source": [
    "# Función de pérdida (BCE)\n",
    "log_loss(y,y_pred_proba)"
   ]
  },
  {
   "cell_type": "code",
   "execution_count": null,
   "id": "add7e78d-6fd3-45a9-a1ea-8f011b94c4c4",
   "metadata": {},
   "outputs": [],
   "source": [
    "# Matriz de confusión\n",
    "cm=confusion_matrix(y, y_pred)\n",
    "disp = ConfusionMatrixDisplay(confusion_matrix=cm, display_labels=lr_clf.classes_)\n",
    "\n",
    "disp.plot(cmap=\"OrRd\")\n",
    "plt.savefig('confusion_matrix_lr_multi_bin.png')"
   ]
  },
  {
   "cell_type": "markdown",
   "id": "ccd2c3c5-c0bc-4b75-8f7f-c19673eabf3d",
   "metadata": {},
   "source": [
    "#### Graficamos la hipótesis obtenida"
   ]
  },
  {
   "cell_type": "code",
   "execution_count": null,
   "id": "6621621d-6c12-45f2-b2d1-d4f430b078df",
   "metadata": {},
   "outputs": [],
   "source": [
    "# Graficamos la hipotesis obtenida\n",
    "ax = plt.subplot(1, 1, 1)\n",
    "disp=DecisionBoundaryDisplay.from_estimator(\n",
    "    lr_clf,\n",
    "    X_norm,\n",
    "    response_method=\"predict\",\n",
    "    ax=ax,\n",
    "    xlabel='Body mass (g)',\n",
    "    ylabel='Flipper length (mm)',\n",
    "    eps=0.02,\n",
    "    grid_resolution = 1000,\n",
    "    alpha=0.5, \n",
    "    cmap='Oranges'\n",
    "    )\n",
    "\n",
    "colors = {'FEMALE':'black', 'MALE':'orange'}\n",
    "# Plotting the data points    \n",
    "disp.ax_.scatter(X_norm[:, 0], X_norm[:, 1], \n",
    "                 c=[colors[i] for i in y], edgecolor=\"k\")\n",
    "plt.savefig('boundary_penguins_lr.png')"
   ]
  },
  {
   "cell_type": "markdown",
   "id": "f3a47036-e37d-44dd-b5ce-37d7e7777d73",
   "metadata": {
    "id": "8fd20aed-9a61-4771-85f4-384b6e8b7a8a"
   },
   "source": [
    "### Regresión logística: multivariada y multiclase"
   ]
  },
  {
   "cell_type": "markdown",
   "id": "ae67f1b4-250a-4bd3-b1a5-872e38f51302",
   "metadata": {},
   "source": [
    "#### Entrenamiento"
   ]
  },
  {
   "cell_type": "code",
   "execution_count": null,
   "id": "b883885e-0691-44e3-9b6d-72b1fd959da9",
   "metadata": {},
   "outputs": [],
   "source": [
    "# Extraemos los numpy arrays\n",
    "X=penguins_nan[['culmen_length_mm','flipper_length_mm']].to_numpy()\n",
    "y=penguins_nan['species'].to_numpy()"
   ]
  },
  {
   "cell_type": "code",
   "execution_count": null,
   "id": "dd1d31fa-0d05-4911-a633-f255cd433f80",
   "metadata": {},
   "outputs": [],
   "source": [
    "# Normalizamos\n",
    "scaler = StandardScaler()\n",
    "X_norm = scaler.fit_transform(X)"
   ]
  },
  {
   "cell_type": "code",
   "execution_count": null,
   "id": "199bee94-ee2e-4659-a6e0-27e709fca43d",
   "metadata": {},
   "outputs": [],
   "source": [
    "# Entrenamos\n",
    "lr_clf = LogisticRegression(solver='newton-cg',penalty=None, multi_class='multinomial')\n",
    "lr_clf.fit(X_norm,y)"
   ]
  },
  {
   "cell_type": "code",
   "execution_count": null,
   "id": "f214c00e-a9bd-40f1-9a26-c0866eedc6a5",
   "metadata": {
    "id": "35c2d75b-838b-4838-a30f-1fa70bfd81c8",
    "outputId": "b0335bba-e8d3-4327-961f-a0b324979cae"
   },
   "outputs": [],
   "source": [
    "# Coeficientes\n",
    "w0 = lr_clf.intercept_\n",
    "w1 = lr_clf.coef_\n",
    "print(w0,w1)"
   ]
  },
  {
   "cell_type": "code",
   "execution_count": null,
   "id": "abeb81dd-bb5c-4c02-aad8-3f7a9924ef40",
   "metadata": {},
   "outputs": [],
   "source": [
    "# Obtenemos predicciones\n",
    "y_pred = lr_clf.predict(X_norm)\n",
    "y_pred_proba = lr_clf.predict_proba(X_norm)"
   ]
  },
  {
   "cell_type": "code",
   "execution_count": null,
   "id": "6abee73e-df14-449f-81a5-cec50f97dd66",
   "metadata": {},
   "outputs": [],
   "source": [
    "# Porcentaje de acierto y error\n",
    "acc = accuracy_score(y_pred, y)\n",
    "err = 1-acc\n",
    "print(err)"
   ]
  },
  {
   "cell_type": "code",
   "execution_count": null,
   "id": "3deada63-89fc-4039-a901-08af1c257f0d",
   "metadata": {},
   "outputs": [],
   "source": [
    "# Función de pérdida (BCE)\n",
    "log_loss(y,y_pred_proba)"
   ]
  },
  {
   "cell_type": "code",
   "execution_count": null,
   "id": "dce33541-3fd7-47d8-9a46-59bb8ffc4b0a",
   "metadata": {},
   "outputs": [],
   "source": [
    "# Matriz de confusión\n",
    "cm=confusion_matrix(y, y_pred)\n",
    "disp = ConfusionMatrixDisplay(confusion_matrix=cm, display_labels=lr_clf.classes_)\n",
    "\n",
    "disp.plot(cmap=\"OrRd\")\n",
    "plt.savefig('confusion_matrix_multi_multi.png')"
   ]
  },
  {
   "cell_type": "markdown",
   "id": "3c2bea57-6f6f-4f2f-abdf-bc3e0ed6df29",
   "metadata": {},
   "source": [
    "#### Graficamos la hipótesis obtenida"
   ]
  },
  {
   "cell_type": "code",
   "execution_count": null,
   "id": "f46ecce8-79ee-429e-ad26-613703c7ff7b",
   "metadata": {},
   "outputs": [],
   "source": [
    "# Graficamos la hipotesis obtenida\n",
    "ax = plt.subplot(1, 1, 1)\n",
    "disp=DecisionBoundaryDisplay.from_estimator(\n",
    "    lr_clf,\n",
    "    X_norm,\n",
    "    response_method=\"predict\",\n",
    "    ax=ax,\n",
    "    xlabel='Culmen length (mm)',\n",
    "    ylabel='Flipper length (mm)',\n",
    "    eps=0.02,\n",
    "    grid_resolution = 1000,\n",
    "    alpha=0.5, \n",
    "    cmap='Oranges'\n",
    "    )\n",
    "\n",
    "colors = {'Adelie':'black', 'Gentoo':'orange', 'Chinstrap':'red'}\n",
    "# Plotting the data points    \n",
    "disp.ax_.scatter(X_norm[:, 0], X_norm[:, 1], \n",
    "                 c=[colors[i] for i in y], edgecolor=\"k\")\n",
    "plt.savefig('multiclass_boundary_penguins_lr.png')"
   ]
  },
  {
   "cell_type": "markdown",
   "id": "500faa24-a1e1-48e8-a9e1-4e66499c4af2",
   "metadata": {},
   "source": [
    "## K vecinos más cercanos"
   ]
  },
  {
   "cell_type": "markdown",
   "id": "9c03994d-f23b-4a66-b669-65fcd10ec065",
   "metadata": {},
   "source": [
    "### Binario y univariado"
   ]
  },
  {
   "cell_type": "markdown",
   "id": "f1479bd3-7b37-411f-a403-dacea86895c6",
   "metadata": {},
   "source": [
    "#### Entrenamiento"
   ]
  },
  {
   "cell_type": "code",
   "execution_count": null,
   "id": "056c4924-f6cb-4d48-8860-9d4c22be0bea",
   "metadata": {},
   "outputs": [],
   "source": [
    "# Elegimos el k\n",
    "k=30"
   ]
  },
  {
   "cell_type": "code",
   "execution_count": null,
   "id": "302921ef-f253-4d25-b713-f9f69859c0bd",
   "metadata": {},
   "outputs": [],
   "source": [
    "# Debemos elegir la distancia\n",
    "knn_clf = KNeighborsClassifier(n_neighbors=k, metric='euclidean')"
   ]
  },
  {
   "cell_type": "code",
   "execution_count": null,
   "id": "101bf876-8726-48d1-8cbc-f2e552fa66b8",
   "metadata": {},
   "outputs": [],
   "source": [
    "knn_clf"
   ]
  },
  {
   "cell_type": "code",
   "execution_count": null,
   "id": "4e2d3425-37e3-499c-88c8-7ab54948ad01",
   "metadata": {},
   "outputs": [],
   "source": [
    "X=penguins_nan['body_mass_g'].to_numpy().reshape(-1, 1)\n",
    "y=penguins_nan['sex'].to_numpy()"
   ]
  },
  {
   "cell_type": "code",
   "execution_count": null,
   "id": "665043b9-389e-4b32-a6fb-467f94fa94c4",
   "metadata": {},
   "outputs": [],
   "source": [
    "knn_clf.fit(X,y)"
   ]
  },
  {
   "cell_type": "code",
   "execution_count": null,
   "id": "6d98307b-da62-4175-8181-ab1a02146db4",
   "metadata": {},
   "outputs": [],
   "source": [
    "# Obtenemos predicciones\n",
    "y_pred = knn_clf.predict(X)\n",
    "y_pred_proba = knn_clf.predict_proba(X)"
   ]
  },
  {
   "cell_type": "code",
   "execution_count": null,
   "id": "47867de6-6f6e-4ca8-959b-d06dd710cb37",
   "metadata": {},
   "outputs": [],
   "source": [
    "# Porcentaje de acierto y error\n",
    "acc = accuracy_score(y_pred, y)\n",
    "err = 1-acc\n",
    "print(err)"
   ]
  },
  {
   "cell_type": "code",
   "execution_count": null,
   "id": "cefcffd9-c6ad-4a4e-b4e6-0f9adf47f758",
   "metadata": {},
   "outputs": [],
   "source": [
    "cm=confusion_matrix(y, y_pred)\n",
    "disp = ConfusionMatrixDisplay(confusion_matrix=cm, display_labels=knn_clf.classes_)\n",
    "\n",
    "disp.plot(cmap=\"OrRd\")\n",
    "plt.savefig('confusion_matrix.png')"
   ]
  },
  {
   "cell_type": "markdown",
   "id": "3336354c-eaf0-410d-b680-f7ae6eaa20f4",
   "metadata": {},
   "source": [
    "#### Graficamos la hipótesis obtenida"
   ]
  },
  {
   "cell_type": "code",
   "execution_count": null,
   "id": "98d63868-fd82-40f3-9b82-c8c6054b4d7a",
   "metadata": {},
   "outputs": [],
   "source": [
    "xmin = penguins['body_mass_g'].min()\n",
    "xmax = penguins['body_mass_g'].max()\n",
    "\n",
    "X_ax = np.linspace(xmin, xmax, num=1000).reshape(-1, 1)\n",
    "\n",
    "pred_y = knn_clf.predict(X_ax)\n",
    "pred_proba_y = knn_clf.predict_proba(X_ax)"
   ]
  },
  {
   "cell_type": "code",
   "execution_count": null,
   "id": "a079cbe8-f1c0-4aa5-b5db-060a2c7ba144",
   "metadata": {},
   "outputs": [],
   "source": [
    "sns.scatterplot(x=X.ravel(), y=y.ravel(), hue=y.ravel())\n",
    "plt.step(X_ax, pred_y, lw=1.5, color='red', label=\"Predicción\")\n",
    "plt.legend()\n",
    "plt.title('KNN clases con k='+str(k))\n",
    "plt.savefig('clases_bm_k_'+str(k)+'.png')"
   ]
  },
  {
   "cell_type": "code",
   "execution_count": null,
   "id": "af520749-b0bf-4b8a-9e15-58a18cc6c778",
   "metadata": {},
   "outputs": [],
   "source": [
    "sns.scatterplot(x=X.ravel(), y=y.ravel(), hue=y.ravel())\n",
    "plt.step(X_ax, pred_proba_y, lw=1.5, label=[\"FEMALE\",\"MALE\"])\n",
    "plt.legend()\n",
    "plt.title('KNN clases con k='+str(k))\n",
    "plt.savefig('clases_bm_k_'+str(k)+'.png')"
   ]
  },
  {
   "cell_type": "markdown",
   "id": "454bde7c-b5b6-4d52-a0a3-ba85d2601588",
   "metadata": {
    "id": "6130f2c2-6268-40b6-92c9-0d0e989e1e30"
   },
   "source": [
    "#### Error en función de k"
   ]
  },
  {
   "cell_type": "code",
   "execution_count": null,
   "id": "57133b39-3817-4c58-9d7c-c9f9f4d6cb5b",
   "metadata": {
    "id": "a4cd6e4d-f017-4fa2-97f1-1b8a4c834682"
   },
   "outputs": [],
   "source": [
    "errors = []\n",
    "\n",
    "for K in range(1,300):\n",
    "    knn_clf = KNeighborsClassifier(n_neighbors=K, metric='euclidean')\n",
    "    knn_clf.fit(X, y)\n",
    "    y_pred = knn_clf.predict(X)\n",
    "    errors.append(1-accuracy_score(y,y_pred))"
   ]
  },
  {
   "cell_type": "code",
   "execution_count": null,
   "id": "bbb1cd55-6273-451d-a8fc-656d3cbf093f",
   "metadata": {
    "id": "f48ceaa3-7a2c-4d99-a025-b17dd665c885",
    "outputId": "9deb30d9-fd12-4eae-bd61-45b576484c0b"
   },
   "outputs": [],
   "source": [
    "df_errors = pd.DataFrame({\"K\":range(1,300), \"Error\":errors})\n",
    "line_plot_errors = sns.lineplot(\n",
    "    data=df_errors,\n",
    "    x=\"K\", y=\"Error\",\n",
    "    dashes=False,\n",
    "    errorbar = ('ci', False)\n",
    ")\n",
    "plt.title(\"Error empírico en función de k\")\n",
    "line_plot_fig = line_plot_errors.get_figure()\n",
    "line_plot_fig.savefig('knn_bm_sex_errors.png')"
   ]
  },
  {
   "cell_type": "markdown",
   "id": "2a2af0cc-5746-4bff-b6dc-b5f4e938038b",
   "metadata": {},
   "source": [
    "### Binario y multivariado"
   ]
  },
  {
   "cell_type": "markdown",
   "id": "88b0560e-584b-473a-9445-1abb8e98d19c",
   "metadata": {},
   "source": [
    "#### Entrenamiento"
   ]
  },
  {
   "cell_type": "code",
   "execution_count": null,
   "id": "5dd934a2-b8f4-4ee9-9cbe-329aeb908ca8",
   "metadata": {},
   "outputs": [],
   "source": [
    "X=penguins_nan[['body_mass_g','flipper_length_mm']].to_numpy()\n",
    "y=penguins_nan['sex'].to_numpy()"
   ]
  },
  {
   "cell_type": "code",
   "execution_count": null,
   "id": "6f5a5741-a2f9-44f3-a3ea-8c40af1bc630",
   "metadata": {},
   "outputs": [],
   "source": [
    "scaler = StandardScaler()\n",
    "X_norm = scaler.fit_transform(X)"
   ]
  },
  {
   "cell_type": "code",
   "execution_count": null,
   "id": "f50530c4-ff9f-435f-9533-9cbc828e8bda",
   "metadata": {},
   "outputs": [],
   "source": [
    "# Entrenamos\n",
    "k=30\n",
    "knn_clf = KNeighborsClassifier(n_neighbors=k, metric='euclidean')\n",
    "knn_clf.fit(X_norm,y)"
   ]
  },
  {
   "cell_type": "code",
   "execution_count": null,
   "id": "bbed22ea-0954-4d57-a67c-9b20eebfb7fc",
   "metadata": {},
   "outputs": [],
   "source": [
    "y_pred = knn_clf.predict(X_norm)"
   ]
  },
  {
   "cell_type": "code",
   "execution_count": null,
   "id": "071047f8-261c-4c98-b550-c83979bd7f21",
   "metadata": {},
   "outputs": [],
   "source": [
    "# Porcentaje de acierto y error\n",
    "acc = accuracy_score(y_pred, y)\n",
    "err = 1-acc\n",
    "print(err)"
   ]
  },
  {
   "cell_type": "code",
   "execution_count": null,
   "id": "ad5ea9db-36a2-4c94-9466-fd1dfc5d1991",
   "metadata": {},
   "outputs": [],
   "source": [
    "cm=confusion_matrix(y, y_pred)\n",
    "disp = ConfusionMatrixDisplay(confusion_matrix=cm, display_labels=knn_clf.classes_)\n",
    "\n",
    "disp.plot(cmap=\"OrRd\")\n",
    "plt.savefig('confusion_matrix_2.png')"
   ]
  },
  {
   "cell_type": "markdown",
   "id": "ae4e0186-faf8-4187-af42-10378fb4b2fc",
   "metadata": {},
   "source": [
    "#### Graficamos la hipótesis obtenida"
   ]
  },
  {
   "cell_type": "code",
   "execution_count": null,
   "id": "338a4c6a-4e6f-4985-82d2-4aaa2292cdf8",
   "metadata": {},
   "outputs": [],
   "source": [
    "# Graficamos la hipotesis obtenida\n",
    "ax = plt.subplot(1, 1, 1)\n",
    "disp=DecisionBoundaryDisplay.from_estimator(\n",
    "    knn_clf,\n",
    "    X_norm,\n",
    "    response_method=\"predict\",\n",
    "    ax=ax,\n",
    "    xlabel='Body mass (g)',\n",
    "    ylabel='Flipper length (mm)',\n",
    "    eps=0.02,\n",
    "    grid_resolution = 1000,\n",
    "    alpha=0.5, \n",
    "    cmap='Oranges'\n",
    "    )\n",
    "\n",
    "colors = {'FEMALE':'black', 'MALE':'orange'}\n",
    "# Plotting the data points    \n",
    "disp.ax_.scatter(X_norm[:, 0], X_norm[:, 1], \n",
    "                 c=[colors[i] for i in y], edgecolor=\"k\")\n",
    "plt.savefig('boundary_penguins_knn.png')"
   ]
  },
  {
   "cell_type": "markdown",
   "id": "f7e391d3-66d5-4a63-aa81-2021122d5fa8",
   "metadata": {},
   "source": [
    "### Multiclase y multivariado"
   ]
  },
  {
   "cell_type": "markdown",
   "id": "c05440d7-6750-4a92-a08a-6563d53c582c",
   "metadata": {},
   "source": [
    "#### Entrenamiento"
   ]
  },
  {
   "cell_type": "code",
   "execution_count": null,
   "id": "d92c95bd-c674-4ef5-a199-7a2ac8aa02e9",
   "metadata": {},
   "outputs": [],
   "source": [
    "X=penguins_nan[['culmen_length_mm','flipper_length_mm']].to_numpy()\n",
    "y=penguins_nan['species'].to_numpy()"
   ]
  },
  {
   "cell_type": "code",
   "execution_count": null,
   "id": "a50858bc-4d28-4fb7-9faf-2efe3c6c3f35",
   "metadata": {},
   "outputs": [],
   "source": [
    "scaler = StandardScaler()\n",
    "X_norm = scaler.fit_transform(X)"
   ]
  },
  {
   "cell_type": "code",
   "execution_count": null,
   "id": "28fcdd1c-9786-42db-8a20-ce6ff2cd9a27",
   "metadata": {},
   "outputs": [],
   "source": [
    "# Entrenamos\n",
    "k=15\n",
    "knn_clf = KNeighborsClassifier(n_neighbors=k, metric='euclidean')\n",
    "knn_clf.fit(X_norm,y)"
   ]
  },
  {
   "cell_type": "code",
   "execution_count": null,
   "id": "bd067f42-cd37-4326-b841-48661364b3f3",
   "metadata": {},
   "outputs": [],
   "source": [
    "y_pred = knn_clf.predict(X_norm)"
   ]
  },
  {
   "cell_type": "code",
   "execution_count": null,
   "id": "da444be0-9336-4e8b-a3cc-f4c0f1d07ab9",
   "metadata": {},
   "outputs": [],
   "source": [
    "# Porcentaje de acierto y error\n",
    "acc = accuracy_score(y_pred, y)\n",
    "err = 1-acc\n",
    "print(err)"
   ]
  },
  {
   "cell_type": "code",
   "execution_count": null,
   "id": "6fc3142d-3163-46c7-9ddd-9e6ccd9a69b4",
   "metadata": {},
   "outputs": [],
   "source": [
    "cm=confusion_matrix(y, y_pred)\n",
    "disp = ConfusionMatrixDisplay(confusion_matrix=cm, display_labels=knn_clf.classes_)\n",
    "\n",
    "disp.plot(cmap=\"OrRd\")\n",
    "plt.savefig('confusion_matrix_2.png')"
   ]
  },
  {
   "cell_type": "markdown",
   "id": "eddeeb01-dc1f-4061-8a91-609e71e7770f",
   "metadata": {},
   "source": [
    "#### Graficamos la hipótesis obtenida"
   ]
  },
  {
   "cell_type": "code",
   "execution_count": null,
   "id": "04ace7a2-1b48-422b-977a-aee90851ef31",
   "metadata": {},
   "outputs": [],
   "source": [
    "# Graficamos la hipotesis obtenida\n",
    "ax = plt.subplot(1, 1, 1)\n",
    "disp=DecisionBoundaryDisplay.from_estimator(\n",
    "    knn_clf,\n",
    "    X_norm,\n",
    "    response_method=\"predict\",\n",
    "    ax=ax,\n",
    "    xlabel='Culmen length (mm)',\n",
    "    ylabel='Flipper length (mm)',\n",
    "    eps=0.02,\n",
    "    grid_resolution = 1000,\n",
    "    alpha=0.5, \n",
    "    cmap='Oranges'\n",
    "    )\n",
    "\n",
    "colors = {'Adelie':'black', 'Gentoo':'orange', 'Chinstrap':'red'}\n",
    "\n",
    "# Ploteamos los puntos    \n",
    "disp.ax_.scatter(X_norm[:, 0], X_norm[:, 1], \n",
    "                 c=[colors[i] for i in y], edgecolor=\"k\")\n",
    "plt.savefig('multiclass_boundary_penguins_knn.png')"
   ]
  },
  {
   "cell_type": "markdown",
   "id": "57e1264e-2b3d-4b11-a78a-81f1f4ae634d",
   "metadata": {},
   "source": [
    "## Árboles de decisión"
   ]
  },
  {
   "cell_type": "markdown",
   "id": "68f19cd8-7cde-4575-9dbb-1bfb8007e915",
   "metadata": {},
   "source": [
    "### Binario y univariado"
   ]
  },
  {
   "cell_type": "markdown",
   "id": "94453394-c623-4569-8cce-75c7f79a7717",
   "metadata": {
    "id": "798402ab-2d2d-4242-bd80-e59453b36d67"
   },
   "source": [
    "#### Entrenamiento"
   ]
  },
  {
   "cell_type": "code",
   "execution_count": null,
   "id": "6dcbf874-d20e-4973-b8b2-2806dfa6f670",
   "metadata": {},
   "outputs": [],
   "source": [
    "X=penguins_nan['body_mass_g'].to_numpy().reshape(-1, 1)\n",
    "y=penguins_nan['sex'].to_numpy()"
   ]
  },
  {
   "cell_type": "code",
   "execution_count": null,
   "id": "6631c5f4-962b-435c-9c03-57552c30d1b8",
   "metadata": {
    "id": "66f7e3f4-8bc1-4fe0-ad99-866d4c1619a5"
   },
   "outputs": [],
   "source": [
    "# Elegimos la profundidad\n",
    "depth=5"
   ]
  },
  {
   "cell_type": "code",
   "execution_count": null,
   "id": "f272e3ad-f644-4292-84bf-4418688cc17d",
   "metadata": {
    "id": "714b90bf-1524-44df-8efb-40190c0a2fe1",
    "outputId": "ea639495-a7c2-4bcd-9b9a-230062842b73"
   },
   "outputs": [],
   "source": [
    "tree_clf = DecisionTreeClassifier(max_depth=depth, criterion='entropy')\n",
    "tree_clf.fit(X, y)"
   ]
  },
  {
   "cell_type": "code",
   "execution_count": null,
   "id": "accbbcf1-afaa-4c0c-a7db-18c7635a6bfb",
   "metadata": {},
   "outputs": [],
   "source": [
    "# Obtenemos predicciones\n",
    "y_pred = tree_clf.predict(X)\n",
    "y_pred_proba = tree_clf.predict_proba(X)"
   ]
  },
  {
   "cell_type": "code",
   "execution_count": null,
   "id": "9d9a2478-cafe-4536-aec1-436ec8d97b31",
   "metadata": {},
   "outputs": [],
   "source": [
    "# Porcentaje de acierto y error\n",
    "acc = accuracy_score(y_pred, y)\n",
    "err = 1-acc\n",
    "print(err)"
   ]
  },
  {
   "cell_type": "code",
   "execution_count": null,
   "id": "15d41226-1cdf-44f3-a88f-72f508a1a977",
   "metadata": {},
   "outputs": [],
   "source": [
    "cm=confusion_matrix(y, y_pred)\n",
    "disp = ConfusionMatrixDisplay(confusion_matrix=cm, display_labels=tree_clf.classes_)\n",
    "\n",
    "disp.plot(cmap=\"OrRd\")\n",
    "plt.savefig('confusion_matrix_arbol_univ.png')"
   ]
  },
  {
   "cell_type": "markdown",
   "id": "25c6907c-445c-4039-97f7-bdcde2dfbba7",
   "metadata": {},
   "source": [
    "#### Graficamos la hipótesis obtenida"
   ]
  },
  {
   "cell_type": "code",
   "execution_count": null,
   "id": "203c5f36-e420-4485-95e3-d96f0a994f1c",
   "metadata": {
    "id": "34804447-2f4b-42af-aa10-d5dd21940d05",
    "outputId": "1453cb8f-02a7-49d2-b6c0-ad91e0b34e71"
   },
   "outputs": [],
   "source": [
    "# Graficamos el arbol\n",
    "plt.figure(figsize=(12,5))\n",
    "plot_tree(tree_clf,filled=True,fontsize=10)\n",
    "plt.savefig('arbol_univ_entropy_d_'+str(depth)+'.png')"
   ]
  },
  {
   "cell_type": "code",
   "execution_count": null,
   "id": "320e067b-b2e6-4cb1-b95b-e6e9411a3460",
   "metadata": {},
   "outputs": [],
   "source": [
    "xmin = penguins['body_mass_g'].min()\n",
    "xmax = penguins['body_mass_g'].max()\n",
    "\n",
    "X_ax = np.linspace(xmin, xmax, num=1000).reshape(-1, 1)\n",
    "\n",
    "pred_y = tree_clf.predict(X_ax)\n",
    "pred_proba_y = tree_clf.predict_proba(X_ax)"
   ]
  },
  {
   "cell_type": "code",
   "execution_count": null,
   "id": "4ad30214-2b1b-47eb-b369-4a4bed5d3a9a",
   "metadata": {},
   "outputs": [],
   "source": [
    "sns.scatterplot(x=X.ravel(), y=y.ravel(), hue=y.ravel())\n",
    "plt.step(X_ax, pred_y, lw=1.5, color='red', label=\"Predicción\")\n",
    "plt.legend()\n",
    "plt.title('Árbol (Gini) con profundidad='+str(depth))\n",
    "plt.savefig('clases_arbol_gini_univ_d_'+str(depth)+'.png')"
   ]
  },
  {
   "cell_type": "code",
   "execution_count": null,
   "id": "a26c7a23-2d75-4fc3-b091-7afe6e9b6374",
   "metadata": {},
   "outputs": [],
   "source": [
    "sns.scatterplot(x=X.ravel(), y=y.ravel(), hue=y.ravel())\n",
    "plt.step(X_ax, pred_proba_y, lw=1.5, label=[\"FEMALE\",\"MALE\"])\n",
    "plt.legend()\n",
    "plt.title('Árbol (Entropy) con profundidad ='+str(depth))\n",
    "plt.savefig('proba_arbol_entropy_univ_d_'+str(depth)+'.png')"
   ]
  },
  {
   "cell_type": "markdown",
   "id": "881470f1-2a5e-4958-bc34-0f9f18d8033e",
   "metadata": {
    "id": "6130f2c2-6268-40b6-92c9-0d0e989e1e30"
   },
   "source": [
    "#### Error y número de hojas en función de la profundidad"
   ]
  },
  {
   "cell_type": "code",
   "execution_count": null,
   "id": "22e4dc77-d327-462f-9b1e-50452c782a9d",
   "metadata": {
    "id": "a4cd6e4d-f017-4fa2-97f1-1b8a4c834682"
   },
   "outputs": [],
   "source": [
    "errors = []\n",
    "leafs = []\n",
    "\n",
    "for depth in range(1,20):\n",
    "    tree_clf = DecisionTreeClassifier(max_depth=depth, criterion='entropy')\n",
    "    tree_clf.fit(X, y)\n",
    "    y_pred = tree_clf.predict(X)\n",
    "    errors.append(1-accuracy_score(y,y_pred))\n",
    "    leafs.append(tree_clf.get_n_leaves())"
   ]
  },
  {
   "cell_type": "code",
   "execution_count": null,
   "id": "2c37cf68-febc-4913-af4c-5a6d496c9379",
   "metadata": {
    "id": "f48ceaa3-7a2c-4d99-a025-b17dd665c885",
    "outputId": "9deb30d9-fd12-4eae-bd61-45b576484c0b"
   },
   "outputs": [],
   "source": [
    "df_errors = pd.DataFrame({\"Depth\":range(1,20), \"Error\":errors})\n",
    "line_plot_errors = sns.lineplot(\n",
    "    data=df_errors,\n",
    "    x=\"Depth\", y=\"Error\",\n",
    "    marker='o',\n",
    "    dashes=False,\n",
    "    errorbar = ('ci', False)\n",
    ")\n",
    "plt.title(\"Error empírico en función de la profundidad\")\n",
    "line_plot_fig = line_plot_errors.get_figure()\n",
    "line_plot_fig.savefig('tree_bm_sex_errors.png')"
   ]
  },
  {
   "cell_type": "code",
   "execution_count": null,
   "id": "acfc8539-835f-46d9-8a82-38f60c29a0a6",
   "metadata": {
    "id": "f48ceaa3-7a2c-4d99-a025-b17dd665c885",
    "outputId": "9deb30d9-fd12-4eae-bd61-45b576484c0b"
   },
   "outputs": [],
   "source": [
    "df_leafs = pd.DataFrame({\"Depth\":range(1,20), \"Leafs\":leafs})\n",
    "line_plot_leafs = sns.lineplot(\n",
    "    data=df_leafs,\n",
    "    x=\"Depth\", y=\"Leafs\",\n",
    "    marker='o',\n",
    "    dashes=False,\n",
    "    errorbar = ('ci', False)\n",
    ")\n",
    "plt.title(\"Número de hojas en función de la profundidad\")\n",
    "line_plot_fig = line_plot_leafs.get_figure()\n",
    "line_plot_fig.savefig('tree_bm_sex_leafs.png')"
   ]
  },
  {
   "cell_type": "markdown",
   "id": "35c913bd-bc81-4302-8e5e-4763fc06ce78",
   "metadata": {},
   "source": [
    "### Binario y multivariado"
   ]
  },
  {
   "cell_type": "markdown",
   "id": "95a7591e-b101-4af5-8278-b5b762690283",
   "metadata": {},
   "source": [
    "#### Entrenamiento"
   ]
  },
  {
   "cell_type": "code",
   "execution_count": null,
   "id": "a519c7ed-11df-49dd-bc97-85ab6f71ac8a",
   "metadata": {},
   "outputs": [],
   "source": [
    "X=penguins_nan[['body_mass_g','flipper_length_mm']].to_numpy()\n",
    "y=penguins_nan['sex'].to_numpy()"
   ]
  },
  {
   "cell_type": "code",
   "execution_count": null,
   "id": "26381b8f-0734-4169-9c9e-eba8eccab602",
   "metadata": {},
   "outputs": [],
   "source": [
    "scaler = StandardScaler()\n",
    "X_norm = scaler.fit_transform(X)"
   ]
  },
  {
   "cell_type": "code",
   "execution_count": null,
   "id": "4d78be3f-faf5-4123-877f-e32caf7d1592",
   "metadata": {},
   "outputs": [],
   "source": [
    "# Entrenamos\n",
    "depth=3\n",
    "tree_clf = DecisionTreeClassifier(max_depth=depth,criterion='entropy')\n",
    "tree_clf.fit(X_norm,y)"
   ]
  },
  {
   "cell_type": "code",
   "execution_count": null,
   "id": "1bb22eb4-65a4-4e3d-9b70-7415ba3c4003",
   "metadata": {},
   "outputs": [],
   "source": [
    "y_pred = knn_clf.predict(X_norm)"
   ]
  },
  {
   "cell_type": "code",
   "execution_count": null,
   "id": "3b285000-ef26-4ad4-a3e6-3e2a2256b3ac",
   "metadata": {},
   "outputs": [],
   "source": [
    "# Porcentaje de acierto y error\n",
    "acc = accuracy_score(y_pred, y)\n",
    "err = 1-acc\n",
    "print(err)"
   ]
  },
  {
   "cell_type": "code",
   "execution_count": null,
   "id": "f1cb811e-e615-4a37-8a41-7a5e2e862d76",
   "metadata": {},
   "outputs": [],
   "source": [
    "cm=confusion_matrix(y, y_pred)\n",
    "disp = ConfusionMatrixDisplay(confusion_matrix=cm, display_labels=tree_clf.classes_)\n",
    "\n",
    "disp.plot(cmap=\"OrRd\")\n",
    "plt.savefig('confusion_matrix_arbol_bin_mulv.png')"
   ]
  },
  {
   "cell_type": "markdown",
   "id": "bb4fa241-d9ab-4f44-94e9-c20448b646a8",
   "metadata": {},
   "source": [
    "#### Graficamos la hipótesis obtenida"
   ]
  },
  {
   "cell_type": "code",
   "execution_count": null,
   "id": "2a409ee5-dd68-4026-a0d0-795d7ff031d6",
   "metadata": {
    "id": "34804447-2f4b-42af-aa10-d5dd21940d05",
    "outputId": "1453cb8f-02a7-49d2-b6c0-ad91e0b34e71"
   },
   "outputs": [],
   "source": [
    "# Graficamos el arbol\n",
    "plt.figure(figsize=(10,5))\n",
    "plot_tree(tree_clf,filled=True,fontsize=10)\n",
    "plt.savefig('arbol_bin_multiv.png')"
   ]
  },
  {
   "cell_type": "code",
   "execution_count": null,
   "id": "1a924719-512f-402b-a183-6e01ebf1666e",
   "metadata": {},
   "outputs": [],
   "source": [
    "# Graficamos la hipotesis obtenida\n",
    "ax = plt.subplot(1, 1, 1)\n",
    "disp=DecisionBoundaryDisplay.from_estimator(\n",
    "    tree_clf,\n",
    "    X_norm,\n",
    "    response_method=\"predict\",\n",
    "    ax=ax,\n",
    "    xlabel='Body mass (g)',\n",
    "    ylabel='Flipper length (mm)',\n",
    "    eps=0.02,\n",
    "    grid_resolution = 1000,\n",
    "    alpha=0.5, \n",
    "    cmap='Oranges'\n",
    "    )\n",
    "\n",
    "colors = {'FEMALE':'black', 'MALE':'orange'}\n",
    "# Plotting the data points    \n",
    "disp.ax_.scatter(X_norm[:, 0], X_norm[:, 1], \n",
    "                 c=[colors[i] for i in y], edgecolor=\"k\")\n",
    "plt.savefig('boundary_penguins_tree.png')"
   ]
  },
  {
   "cell_type": "markdown",
   "id": "4abbce52-6cf4-4551-a590-4589226d8079",
   "metadata": {},
   "source": [
    "### Multiclase y multivariado"
   ]
  },
  {
   "cell_type": "markdown",
   "id": "c701ed81-053c-4357-80dd-75c1df13fb91",
   "metadata": {},
   "source": [
    "#### Entrenamiento"
   ]
  },
  {
   "cell_type": "code",
   "execution_count": null,
   "id": "bbfb77d6-2cd5-4709-a391-00f931ae7d1c",
   "metadata": {},
   "outputs": [],
   "source": [
    "X=penguins_nan[['culmen_length_mm','flipper_length_mm']].to_numpy()\n",
    "y=penguins_nan['species'].to_numpy()"
   ]
  },
  {
   "cell_type": "code",
   "execution_count": null,
   "id": "fd563997-6ca0-42ef-8a9b-6ef48102e339",
   "metadata": {},
   "outputs": [],
   "source": [
    "scaler = StandardScaler()\n",
    "X_norm = scaler.fit_transform(X)"
   ]
  },
  {
   "cell_type": "code",
   "execution_count": null,
   "id": "336690a1-034b-4bac-82cb-83ef00839019",
   "metadata": {},
   "outputs": [],
   "source": [
    "# Entrenamos\n",
    "depth=4\n",
    "tree_clf = DecisionTreeClassifier(max_depth=depth, criterion='entropy')\n",
    "tree_clf.fit(X_norm,y)"
   ]
  },
  {
   "cell_type": "code",
   "execution_count": null,
   "id": "2e4f534f-bb48-4484-a72f-88545b82ad9c",
   "metadata": {},
   "outputs": [],
   "source": [
    "y_pred = tree_clf.predict(X_norm)"
   ]
  },
  {
   "cell_type": "code",
   "execution_count": null,
   "id": "0058b9ca-95ba-4934-995f-bd77c0d7e1a7",
   "metadata": {},
   "outputs": [],
   "source": [
    "# Porcentaje de acierto y error\n",
    "acc = accuracy_score(y_pred, y)\n",
    "err = 1-acc\n",
    "print(err)"
   ]
  },
  {
   "cell_type": "code",
   "execution_count": null,
   "id": "1a78c835-7b0e-4ebb-8dd1-e709d4882d88",
   "metadata": {},
   "outputs": [],
   "source": [
    "cm=confusion_matrix(y, y_pred)\n",
    "disp = ConfusionMatrixDisplay(confusion_matrix=cm, display_labels=tree_clf.classes_)\n",
    "\n",
    "disp.plot(cmap=\"OrRd\")\n",
    "plt.savefig('confusion_matrix_arbol_mulc.png')"
   ]
  },
  {
   "cell_type": "markdown",
   "id": "35a8c141-cfff-46a6-b031-6bd6d17f4c4d",
   "metadata": {},
   "source": [
    "#### Graficamos la hipótesis obtenida"
   ]
  },
  {
   "cell_type": "code",
   "execution_count": null,
   "id": "5620c0ea-0f39-4cf7-a0b7-b8680cffce92",
   "metadata": {
    "id": "34804447-2f4b-42af-aa10-d5dd21940d05",
    "outputId": "1453cb8f-02a7-49d2-b6c0-ad91e0b34e71"
   },
   "outputs": [],
   "source": [
    "# Graficamos el arbol\n",
    "plt.figure(figsize=(22,6))\n",
    "plot_tree(tree_clf,filled=True,fontsize=10)\n",
    "plt.savefig('arbol_multiclase.png')"
   ]
  },
  {
   "cell_type": "code",
   "execution_count": null,
   "id": "f6125fe6-34ad-46b3-b434-9e299c8af4ed",
   "metadata": {},
   "outputs": [],
   "source": [
    "# Graficamos la hipotesis obtenida\n",
    "ax = plt.subplot(1, 1, 1)\n",
    "disp=DecisionBoundaryDisplay.from_estimator(\n",
    "    tree_clf,\n",
    "    X_norm,\n",
    "    response_method=\"predict\",\n",
    "    ax=ax,\n",
    "    xlabel='Culmen length (mm)',\n",
    "    ylabel='Flipper length (mm)',\n",
    "    eps=0.02,\n",
    "    grid_resolution = 1000,\n",
    "    alpha=0.5, \n",
    "    cmap='Oranges'\n",
    "    )\n",
    "\n",
    "colors = {'Adelie':'black', 'Gentoo':'orange', 'Chinstrap':'red'}\n",
    "\n",
    "# Ploteamos los puntos    \n",
    "disp.ax_.scatter(X_norm[:, 0], X_norm[:, 1], \n",
    "                 c=[colors[i] for i in y], edgecolor=\"k\")\n",
    "plt.savefig('multiclass_boundary_penguins_tree.png')"
   ]
  }
 ],
 "metadata": {
  "colab": {
   "provenance": []
  },
  "kernelspec": {
   "display_name": "Python 3 (ipykernel)",
   "language": "python",
   "name": "python3"
  },
  "language_info": {
   "codemirror_mode": {
    "name": "ipython",
    "version": 3
   },
   "file_extension": ".py",
   "mimetype": "text/x-python",
   "name": "python",
   "nbconvert_exporter": "python",
   "pygments_lexer": "ipython3",
   "version": "3.8.15"
  }
 },
 "nbformat": 4,
 "nbformat_minor": 5
}
