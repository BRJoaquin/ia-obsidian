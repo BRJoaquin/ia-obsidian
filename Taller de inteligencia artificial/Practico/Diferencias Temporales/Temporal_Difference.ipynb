{
 "cells": [
  {
   "cell_type": "markdown",
   "metadata": {
    "id": "M81eDC7bWC9y"
   },
   "source": [
    "# Métodos de Diferencias Temporales (TD)\n",
    "\n",
    "En este notebook vamos a ver métodos de diferencias temporales en particular, vamos a ver un método de control on-policy (Sarsa) y un método off-policy (Q-Learning) para estimar la funcion de valor (y la política) ótima para un problema. \n",
    "\n",
    "\n",
    "El notebook se basa en el capítulo 6 del libro de Sutton y Barto.\n",
    "\n",
    "\n",
    "****\n",
    "\n",
    "## Ambiente\n",
    "\n",
    "Vamos a utilizar un problema clásico de Reinforcement Learning, y para ello vamos a usar otro ambiente de OpenAi gym: MountainCar: https://gym.openai.com/envs/MountainCar-v0/ o https://gymnasium.farama.org/environments/classic_control/mountain_car/.\n",
    "\n",
    "La descripcion del mismo es la siguiente:\n",
    "\n",
    "Un auto esta posicionado en un carril de una dimension entre dos montañas. El objetivo es llegar a la cima de la montaña derecha pero, el motor del auto no es lo suficientemente fuerte para hacerlo en una sola pasada (no puede simplemente acelerar y llegar). Entonces, la única forma de tener éxito es ir de atrás hacia delante repetidas veces para acumular suficiente energía para subir.\n",
    "\n",
    "![Image](https://i.ytimg.com/vi/slIJHOuTCmc/hqdefault.jpg)\n",
    "\n",
    "Este ambiente tiene representación gráfica visual en gym, para ello vamos a hacer uso de unas funciones auxliares para poder ver resultados en video en colab.\n",
    "\n",
    "\n",
    "****\n",
    "\n",
    "## A entregar:\n",
    "\n",
    "- Implementación de algoritmo Q-Learning\n",
    "- Implementacion de algoritmo Sarsa\n",
    "- Comparacion entre ambos para el ambiente dado, cuanto tarda cada uno en llegar al objetivo (en promedio). \n",
    "\n",
    "\n",
    "\n"
   ]
  },
  {
   "cell_type": "markdown",
   "metadata": {
    "id": "tZAq-yLHeHzc"
   },
   "source": [
    "### Funciones auxiliares para visualizar el ambiente"
   ]
  },
  {
   "cell_type": "code",
   "execution_count": 9,
   "outputs": [
    {
     "ename": "SyntaxError",
     "evalue": "invalid syntax (1383680906.py, line 1)",
     "output_type": "error",
     "traceback": [
      "\u001B[0;36m  Input \u001B[0;32mIn [9]\u001B[0;36m\u001B[0m\n\u001B[0;31m    apt-get install xvfb\u001B[0m\n\u001B[0m            ^\u001B[0m\n\u001B[0;31mSyntaxError\u001B[0m\u001B[0;31m:\u001B[0m invalid syntax\n"
     ]
    }
   ],
   "source": [],
   "metadata": {
    "collapsed": false
   }
  },
  {
   "cell_type": "code",
   "execution_count": 2,
   "metadata": {
    "id": "9fNgTyITdb0e",
    "ExecuteTime": {
     "start_time": "2023-04-18T20:35:56.818466Z",
     "end_time": "2023-04-18T20:35:58.627456Z"
    }
   },
   "outputs": [],
   "source": [
    "# Dependencias necesarias.\n",
    "!pip install --upgrade gymnasium > /dev/null 2>&1\n",
    "!pip install --upgrade pyvirtualdisplay > /dev/null 2>&1\n",
    "# En caso de tener otro manejador de paquetes, cambiar apt-get por el correspondiente.\n",
    "# !apt-get install -y xvfb python-opengl ffmpeg > /dev/null 2>&1"
   ]
  },
  {
   "cell_type": "code",
   "execution_count": 3,
   "metadata": {
    "ExecuteTime": {
     "start_time": "2023-04-18T20:35:59.645489Z",
     "end_time": "2023-04-18T20:36:00.928129Z"
    }
   },
   "outputs": [
    {
     "name": "stdout",
     "output_type": "stream",
     "text": [
      "Requirement already satisfied: moviepy in /home/k/miniconda3/lib/python3.9/site-packages (1.0.3)\r\n",
      "Requirement already satisfied: tqdm<5.0,>=4.11.2 in /home/k/miniconda3/lib/python3.9/site-packages (from moviepy) (4.64.0)\r\n",
      "Requirement already satisfied: numpy>=1.17.3 in /home/k/miniconda3/lib/python3.9/site-packages (from moviepy) (1.23.1)\r\n",
      "Requirement already satisfied: imageio-ffmpeg>=0.2.0 in /home/k/miniconda3/lib/python3.9/site-packages (from moviepy) (0.4.8)\r\n",
      "Requirement already satisfied: imageio<3.0,>=2.5 in /home/k/miniconda3/lib/python3.9/site-packages (from moviepy) (2.27.0)\r\n",
      "Requirement already satisfied: proglog<=1.0.0 in /home/k/miniconda3/lib/python3.9/site-packages (from moviepy) (0.1.10)\r\n",
      "Requirement already satisfied: requests<3.0,>=2.8.1 in /home/k/miniconda3/lib/python3.9/site-packages (from moviepy) (2.28.1)\r\n",
      "Requirement already satisfied: decorator<5.0,>=4.0.2 in /home/k/miniconda3/lib/python3.9/site-packages (from moviepy) (4.4.2)\r\n",
      "Requirement already satisfied: pillow>=8.3.2 in /home/k/miniconda3/lib/python3.9/site-packages (from imageio<3.0,>=2.5->moviepy) (9.2.0)\r\n",
      "Requirement already satisfied: certifi>=2017.4.17 in /home/k/miniconda3/lib/python3.9/site-packages (from requests<3.0,>=2.8.1->moviepy) (2022.9.24)\r\n",
      "Requirement already satisfied: urllib3<1.27,>=1.21.1 in /home/k/miniconda3/lib/python3.9/site-packages (from requests<3.0,>=2.8.1->moviepy) (1.26.11)\r\n",
      "Requirement already satisfied: charset-normalizer<3,>=2 in /home/k/miniconda3/lib/python3.9/site-packages (from requests<3.0,>=2.8.1->moviepy) (2.0.4)\r\n",
      "Requirement already satisfied: idna<4,>=2.5 in /home/k/miniconda3/lib/python3.9/site-packages (from requests<3.0,>=2.8.1->moviepy) (3.3)\r\n",
      "Requirement already satisfied: gymnasium[classic-control] in /home/k/miniconda3/lib/python3.9/site-packages (0.28.1)\r\n",
      "Requirement already satisfied: typing-extensions>=4.3.0 in /home/k/miniconda3/lib/python3.9/site-packages (from gymnasium[classic-control]) (4.3.0)\r\n",
      "Requirement already satisfied: importlib-metadata>=4.8.0 in /home/k/miniconda3/lib/python3.9/site-packages (from gymnasium[classic-control]) (4.11.3)\r\n",
      "Requirement already satisfied: cloudpickle>=1.2.0 in /home/k/miniconda3/lib/python3.9/site-packages (from gymnasium[classic-control]) (2.2.1)\r\n",
      "Requirement already satisfied: farama-notifications>=0.0.1 in /home/k/miniconda3/lib/python3.9/site-packages (from gymnasium[classic-control]) (0.0.4)\r\n",
      "Requirement already satisfied: jax-jumpy>=1.0.0 in /home/k/miniconda3/lib/python3.9/site-packages (from gymnasium[classic-control]) (1.0.0)\r\n",
      "Requirement already satisfied: numpy>=1.21.0 in /home/k/miniconda3/lib/python3.9/site-packages (from gymnasium[classic-control]) (1.23.1)\r\n",
      "Requirement already satisfied: pygame==2.1.3 in /home/k/miniconda3/lib/python3.9/site-packages (from gymnasium[classic-control]) (2.1.3)\r\n",
      "Requirement already satisfied: zipp>=0.5 in /home/k/miniconda3/lib/python3.9/site-packages (from importlib-metadata>=4.8.0->gymnasium[classic-control]) (3.8.0)\r\n"
     ]
    }
   ],
   "source": [
    "# Para ejecutar en CECOFI\n",
    "!pip install moviepy\n",
    "!pip install 'gymnasium[classic-control]'"
   ]
  },
  {
   "cell_type": "code",
   "execution_count": 17,
   "metadata": {
    "id": "4dmKgVnGVXk0",
    "ExecuteTime": {
     "start_time": "2023-04-18T20:47:36.384433Z",
     "end_time": "2023-04-18T20:47:36.430174Z"
    }
   },
   "outputs": [],
   "source": [
    "# Imports y funciones para ver el ambiente.\n",
    "from tqdm.notebook import tqdm_notebook\n",
    "import io\n",
    "#import gym\n",
    "import gymnasium as gym\n",
    "import glob\n",
    "import base64\n",
    "#from gym.wrappers import Monitor\n",
    "from gymnasium.wrappers.record_video import RecordVideo\n",
    "from IPython.display import HTML\n",
    "from pyvirtualdisplay import Display\n",
    "from IPython import display as ipythondisplay\n",
    "\n",
    "\n",
    "display = Display(visible=0, size=(1400, 900))\n",
    "display.start()\n",
    "\n",
    "def show_video():\n",
    "  \"\"\"\n",
    "  Utility function to enable video recording of gym environment and displaying it\n",
    "  To enable video, just do \"env = wrap_env(env)\"\"\n",
    "  \"\"\"\n",
    "  mp4list = glob.glob('./videos/*.mp4')\n",
    "  if len(mp4list) > 0:\n",
    "    mp4 = mp4list[0]\n",
    "    video = io.open(mp4, 'r+b').read()\n",
    "    encoded = base64.b64encode(video)\n",
    "    ipythondisplay.display(HTML(data='''<video alt=\"test\" autoplay\n",
    "                loop controls style=\"height: 400px;\">\n",
    "                <source src=\"data:video/mp4;base64,{0}\" type=\"video/mp4\" />\n",
    "             </video>'''.format(encoded.decode('ascii'))))\n",
    "  else:\n",
    "    print(\"Could not find video\")\n",
    "    \n",
    "\n",
    "def wrap_env(env):\n",
    "  \"\"\"\n",
    "  Wrapper del ambiente donde definimos un Monitor que guarda la visualizacion como un archivo de video.\n",
    "  \"\"\"\n",
    "  \n",
    "  #env = Monitor(env, './video', force=True)\n",
    "  env = RecordVideo(env,video_folder='./videos')\n",
    "  return env"
   ]
  },
  {
   "cell_type": "markdown",
   "metadata": {
    "id": "ia5jzW5Fd-Kq"
   },
   "source": [
    "### Creación del ambiente y visualizacion de un agente aleatorio.\n",
    "\n"
   ]
  },
  {
   "cell_type": "markdown",
   "source": [],
   "metadata": {
    "collapsed": false
   }
  },
  {
   "cell_type": "code",
   "execution_count": 23,
   "outputs": [
    {
     "ename": "SyntaxError",
     "evalue": "invalid syntax (1289787124.py, line 1)",
     "output_type": "error",
     "traceback": [
      "\u001B[0;36m  Input \u001B[0;32mIn [23]\u001B[0;36m\u001B[0m\n\u001B[0;31m    <h2>Creación del ambiente y visualización de un agente aleatorio.</h2>\u001B[0m\n\u001B[0m    ^\u001B[0m\n\u001B[0;31mSyntaxError\u001B[0m\u001B[0;31m:\u001B[0m invalid syntax\n"
     ]
    }
   ],
   "source": [],
   "metadata": {
    "collapsed": false,
    "ExecuteTime": {
     "start_time": "2023-04-18T21:06:13.138811Z",
     "end_time": "2023-04-18T21:06:13.140556Z"
    }
   }
  },
  {
   "cell_type": "code",
   "execution_count": 13,
   "metadata": {
    "colab": {
     "base_uri": "https://localhost:8080/",
     "height": 512
    },
    "id": "qSKTaNhKd-PY",
    "outputId": "0f9fd943-99d2-45b4-b229-491d937edf42",
    "ExecuteTime": {
     "start_time": "2023-04-18T20:45:23.810353Z",
     "end_time": "2023-04-18T20:45:41.057502Z"
    }
   },
   "outputs": [
    {
     "name": "stderr",
     "output_type": "stream",
     "text": [
      "/home/k/miniconda3/lib/python3.9/site-packages/gymnasium/wrappers/record_video.py:87: UserWarning: \u001B[33mWARN: Overwriting existing videos at /home/k/Documents/postgrado/postgrado/Taller de inteligencia artificial/Practico/Diferencias Temporales/videos folder (try specifying a different `video_folder` for the `RecordVideo` wrapper if this is not desired)\u001B[0m\n",
      "  logger.warn(\n"
     ]
    },
    {
     "name": "stdout",
     "output_type": "stream",
     "text": [
      "Moviepy - Building video /home/k/Documents/postgrado/postgrado/Taller de inteligencia artificial/Practico/Diferencias Temporales/videos/rl-video-episode-0.mp4.\n",
      "Moviepy - Writing video /home/k/Documents/postgrado/postgrado/Taller de inteligencia artificial/Practico/Diferencias Temporales/videos/rl-video-episode-0.mp4\n",
      "\n"
     ]
    },
    {
     "name": "stderr",
     "output_type": "stream",
     "text": [
      "                                                                "
     ]
    },
    {
     "name": "stdout",
     "output_type": "stream",
     "text": [
      "Moviepy - Done !\n",
      "Moviepy - video ready /home/k/Documents/postgrado/postgrado/Taller de inteligencia artificial/Practico/Diferencias Temporales/videos/rl-video-episode-0.mp4\n"
     ]
    },
    {
     "name": "stderr",
     "output_type": "stream",
     "text": [
      "\r"
     ]
    },
    {
     "data": {
      "text/plain": "<IPython.core.display.HTML object>",
      "text/html": "<video alt=\"test\" autoplay \n                loop controls style=\"height: 400px;\">\n                <source src=\"data:video/mp4;base64,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\" type=\"video/mp4\" />\n             </video>"
     },
     "metadata": {},
     "output_type": "display_data"
    }
   ],
   "source": [
    "# Necesitamos \"envolver\" el ambiente para hacer uso de las funciones definidas anteriormente.\n",
    "env = wrap_env(gym.make(\"MountainCar-v0\",render_mode=\"rgb_array\"))\n",
    "\n",
    "# El resto del código es igual a lo que venimos acostumbrados.\n",
    "observation,_ = env.reset()\n",
    "\n",
    "while True:\n",
    "    env.render()  # Queremos poder ver el ambiente. \n",
    "\n",
    "    action = env.action_space.sample() \n",
    "    observation, reward, done, truncated, info = env.step(action) \n",
    "        \n",
    "    if done or truncated:\n",
    "      break\n",
    "\n",
    "# Cerramos la conexion con el Monitor de ambiente y mostramos el video.\n",
    "env.close()\n",
    "show_video()\n",
    "\n",
    "del env"
   ]
  },
  {
   "cell_type": "markdown",
   "metadata": {
    "id": "cXuu2iiGh-N1"
   },
   "source": [
    "### Interacción con el ambiente\n",
    "\n",
    "El ambiente cuenta con 3 acciones: Acelerar a la izquierda, frenar y acelerar a la derecha. Las recompensas son -1 por cada accion tomada con excepcion de llegar a la cima de la montaña. Un episodio se termina al alcanzar la cima o al luego de 200 interacciones.\n",
    "\n",
    "Lo que podemos observar al interactuar con el es un valor real para su Velocidad (negativa al ir para la izquierda, positiva a la derecha) y un valor real para su Posicion en la línea.\n",
    "\n",
    "Ambos valores son continuos, esto nos representa un problema, ya que queremos modelar una función de valor y una política para todos los estados posibles.\n",
    "\n",
    "Para atacar este problema vamos a **DISCRETIZAR** el ambiente, esto es: convertir la posicion y velocidad del auto en valores discretos dentro de un rango definido.\n",
    "\n",
    "Para ello vamos a definir algunas constantes y una función que nos permite obtener una representacion discreta de las observaciones del ambiente.\n"
   ]
  },
  {
   "cell_type": "code",
   "execution_count": null,
   "metadata": {
    "id": "38xxdT-emM4u"
   },
   "outputs": [],
   "source": [
    "import numpy as np\n",
    "\n",
    "# We will use 40 different values for Position and 40 for velocity (40x40 combinations)\n",
    "NUMBER_STATES = 40\n",
    "\n",
    "def discretization(env, obs):\n",
    "    env_low = env.observation_space.low\n",
    "    env_high = env.observation_space.high\n",
    "    \n",
    "    env_den = (env_high - env_low) / NUMBER_STATES\n",
    "    pos_den = env_den[0]\n",
    "    vel_den = env_den[1]\n",
    "    \n",
    "    pos_low = env_low[0]\n",
    "    vel_low = env_low[1]\n",
    "    \n",
    "    pos_scaled = int((obs[0] - pos_low) / pos_den)\n",
    "    vel_scaled = int((obs[1] - vel_low) / vel_den)\n",
    "    \n",
    "    return pos_scaled, vel_scaled"
   ]
  },
  {
   "cell_type": "markdown",
   "metadata": {
    "id": "1kMCuawcphJr"
   },
   "source": [
    "Una vez tenemos el ambiente discretizado, podemos crear una tabla que contenga el valor esperado para cada estado posible (donde en este caso, cada estado es una terna de: posicion, velocidad y accion a tomar). \n",
    "\n",
    "Esta tabla es normalmente conocida como \"Q table\" por su uso en Q learning (aunque tambien se usa, pero de manera distinta en Sarsa)."
   ]
  },
  {
   "cell_type": "markdown",
   "metadata": {
    "id": "4jL1Gl_ovepE"
   },
   "source": [
    "### Q-Learning\n",
    "\n",
    "Vamos a comenzar implementando Q-learning para el problema actual, la implementacion corre por parte de los estudiantes.\n",
    "\n",
    "Recordamos aquí el algoritmo:\n",
    "\n",
    "![Image](https://leimao.github.io/images/blog/2019-03-14-RL-On-Policy-VS-Off-Policy/q-learning.png)"
   ]
  },
  {
   "cell_type": "code",
   "execution_count": null,
   "metadata": {
    "id": "wiw-__ryvuoJ"
   },
   "outputs": [],
   "source": [
    "def q_learning(env, number_episodes=100, alpha=0.1, gamma=0.9, epsilon_start=0.9, epsilon_min=0.1, epsilon_decay=0.9):\n",
    "\n",
    "  # Initialize Q_table as a matrix of NumberStatesxNumberStatesxNumberActions\n",
    "  \n",
    "  # Initialize epsilon\n",
    "  epsilon = epsilon_start\n",
    "  \n",
    "  # Stat trackers\n",
    "  # Track the accumulated reward per episode\n",
    "  # Track the number of steps taken in each episode\n",
    "  wins = []              # Track the number of times we reach the goal (1 if we do, 0 otherwise)\n",
    "\n",
    "  for ep_idx in tqdm_notebook(range(number_episodes)):\n",
    "\n",
    "    # Reset the environment and get initial position and velocity\n",
    "\n",
    "    done = False\n",
    "    truncated = False\n",
    "    while not (done or truncated):\n",
    "\n",
    "      # Epsilon greedy policy.\n",
    "      action = np.argmax(q_table[position][velocity])\n",
    "      if np.random.uniform() < epsilon:\n",
    "        action = np.random.choice(env.action_space.n)\n",
    "      \n",
    "      # Take action on env and observe result.\n",
    "\n",
    "      # Q-Learning Update rule.\n",
    "      \n",
    "      # Move the state forward.\n",
    "    \n",
    "    # Count number of \"wins\" for mountain car env.\n",
    "    if done:\n",
    "      wins.append(1)\n",
    "    else:\n",
    "      wins.append(0)\n",
    "\n",
    "    # Update epsilon\n",
    "    epsilon = max(epsilon_min, epsilon * epsilon_decay)\n",
    "\n",
    "  return q_table, episode_rewards, episode_steps, wins"
   ]
  },
  {
   "cell_type": "code",
   "execution_count": null,
   "metadata": {
    "colab": {
     "base_uri": "https://localhost:8080/",
     "height": 336
    },
    "id": "U4iL6nS5t2I5",
    "outputId": "13fdcf75-1a17-4954-81dc-70b3081f361d"
   },
   "outputs": [],
   "source": [
    "env = gym.make(\"MountainCar-v0\")\n",
    "NUMBER_EPISODES = 4000\n",
    "q_table, rewards, steps, wins = q_learning(env, number_episodes=NUMBER_EPISODES, alpha=0.3, epsilon_decay=0.5)"
   ]
  },
  {
   "cell_type": "code",
   "execution_count": null,
   "metadata": {
    "colab": {
     "base_uri": "https://localhost:8080/",
     "height": 851
    },
    "id": "45FgL2C3TRql",
    "outputId": "3562b607-2a48-4752-8368-48eafef79fa2"
   },
   "outputs": [],
   "source": [
    "import matplotlib.pyplot as plt\n",
    "\n",
    "# Average results every N timesteps for better visualization.\n",
    "average_range = 100\n",
    "episode_ticks = int(NUMBER_EPISODES / average_range)\n",
    "\n",
    "avg_rewards = np.array(rewards).reshape((episode_ticks, average_range))\n",
    "avg_rewards = np.mean(avg_rewards, axis=1)\n",
    "\n",
    "avg_steps = np.array(steps).reshape((episode_ticks, average_range))\n",
    "avg_steps = np.mean(avg_steps, axis=1)\n",
    "\n",
    "avg_wins = np.array(wins).reshape((episode_ticks, average_range))\n",
    "avg_wins = np.mean(avg_wins, axis=1)\n",
    "\n",
    "# Plot\n",
    "\n",
    "plt.plot(range(episode_ticks), avg_rewards)\n",
    "plt.title(\"Episode Accumulated Reward\")\n",
    "plt.xlabel(\"Episode Number\")\n",
    "plt.ylabel(\"Reward\")\n",
    "plt.show()\n",
    "\n",
    "\n",
    "plt.plot(range(episode_ticks), avg_steps)\n",
    "plt.title(\"Steps needed per episode\")\n",
    "plt.xlabel(\"Episode Number\")\n",
    "plt.ylabel(\"Number Steps\")\n",
    "plt.show()\n",
    "\n",
    "\n",
    "plt.plot(range(episode_ticks), avg_wins)\n",
    "plt.title(\"Win breakdown\")\n",
    "plt.xlabel(\"Episode Number\")\n",
    "plt.ylabel(\"Win\")\n",
    "plt.show()"
   ]
  },
  {
   "cell_type": "markdown",
   "metadata": {
    "id": "WhCCsW_iJIfH"
   },
   "source": [
    "## Visualizacion del agente\n",
    "\n",
    "Vamos a ejecutar una política completamente greedy para observar lo aprendido por el algoritmo, usando la q_table retornada por el mismo para decidir la mejor accion.\n"
   ]
  },
  {
   "cell_type": "code",
   "execution_count": null,
   "metadata": {
    "colab": {
     "base_uri": "https://localhost:8080/",
     "height": 337
    },
    "id": "rXDjSNfPt2M5",
    "outputId": "a35db66f-f3f3-42ee-d145-90ade034d9f9"
   },
   "outputs": [],
   "source": [
    "env = wrap_env(gym.make(\"MountainCar-v0\",render_mode=\"rgb_array\"))\n",
    "\n",
    "observation,_ = env.reset()\n",
    "position, velocity = discretization(env, observation)\n",
    "\n",
    "while True:\n",
    "    env.render()\n",
    "\n",
    "    action = np.argmax(q_table[position][velocity])\n",
    "    observation, reward, done, truncated, info = env.step(action) \n",
    "    \n",
    "    position, velocity = discretization(env, observation)\n",
    "\n",
    "    if done or truncated:\n",
    "      break\n",
    "\n",
    "# Cerramos la conexion con el Monitor de ambiente y mostramos el video.\n",
    "env.close()\n",
    "show_video()\n",
    "\n",
    "del env"
   ]
  },
  {
   "cell_type": "code",
   "execution_count": null,
   "metadata": {
    "id": "BfYj49u7eseK"
   },
   "outputs": [],
   "source": []
  },
  {
   "cell_type": "markdown",
   "metadata": {
    "id": "18GiSLEeKKtc"
   },
   "source": [
    "### Implementación de Sarsa\n",
    "\n",
    "\n",
    "![Image](https://miro.medium.com/max/2612/1*Wim9wr-jYJtZyZ_4ZJRHNg.jpeg)"
   ]
  },
  {
   "cell_type": "code",
   "execution_count": null,
   "metadata": {
    "id": "EeopCSvcUtt_"
   },
   "outputs": [],
   "source": [
    "def sarsa(env, number_episodes=100, alpha=0.1, gamma=0.9, epsilon_start=0.9, epsilon_min=0.1, epsilon_decay=0.9):\n",
    "\n",
    "  ## Your code here\n",
    "\n",
    "  return q_table, episode_rewards, episode_steps, wins"
   ]
  },
  {
   "cell_type": "code",
   "execution_count": null,
   "metadata": {
    "id": "z0raz4aUUuI7"
   },
   "outputs": [],
   "source": [
    "env = gym.make(\"MountainCar-v0\")\n",
    "NUMBER_EPISODES = 4000\n",
    "q_table, rewards, steps, wins = sarsa(env, number_episodes=NUMBER_EPISODES, alpha=0.3, epsilon_decay=0.5)"
   ]
  },
  {
   "cell_type": "code",
   "execution_count": null,
   "metadata": {
    "colab": {
     "base_uri": "https://localhost:8080/",
     "height": 851
    },
    "id": "xhTXraYchNoY",
    "outputId": "d253b713-67c8-49c4-f58c-6f10fd517184"
   },
   "outputs": [],
   "source": [
    "# Average results every N timesteps for better visualization.\n",
    "average_range = 100\n",
    "episode_ticks = int(NUMBER_EPISODES / average_range)\n",
    "\n",
    "avg_rewards = np.array(rewards).reshape((episode_ticks, average_range))\n",
    "avg_rewards = np.mean(avg_rewards, axis=1)\n",
    "\n",
    "avg_steps = np.array(steps).reshape((episode_ticks, average_range))\n",
    "avg_steps = np.mean(avg_steps, axis=1)\n",
    "\n",
    "avg_wins = np.array(wins).reshape((episode_ticks, average_range))\n",
    "avg_wins = np.mean(avg_wins, axis=1)\n",
    "\n",
    "# Plot\n",
    "\n",
    "plt.plot(range(episode_ticks), avg_rewards)\n",
    "plt.title(\"Episode Accumulated Reward\")\n",
    "plt.xlabel(\"Episode Number\")\n",
    "plt.ylabel(\"Reward\")\n",
    "plt.show()\n",
    "\n",
    "\n",
    "plt.plot(range(episode_ticks), avg_steps)\n",
    "plt.title(\"Steps needed per episode\")\n",
    "plt.xlabel(\"Episode Number\")\n",
    "plt.ylabel(\"Number Steps\")\n",
    "plt.show()\n",
    "\n",
    "\n",
    "plt.plot(range(episode_ticks), avg_wins)\n",
    "plt.title(\"Win breakdown\")\n",
    "plt.xlabel(\"Episode Number\")\n",
    "plt.ylabel(\"Win\")\n",
    "plt.show()"
   ]
  },
  {
   "cell_type": "code",
   "execution_count": null,
   "metadata": {
    "colab": {
     "base_uri": "https://localhost:8080/",
     "height": 421
    },
    "id": "pH4zGMaIhNqe",
    "outputId": "a01e976e-ee64-49f0-aa1d-de84774721e0"
   },
   "outputs": [],
   "source": [
    "env = wrap_env(gym.make(\"MountainCar-v0\",render_mode=\"rgb_array\"))\n",
    "\n",
    "observation,_ = env.reset()\n",
    "position, velocity = discretization(env, observation)\n",
    "\n",
    "while True:\n",
    "    env.render()\n",
    "\n",
    "    action = np.argmax(q_table[position][velocity])\n",
    "    observation, reward, done, truncated, info = env.step(action) \n",
    "    \n",
    "    position, velocity = discretization(env, observation)\n",
    "\n",
    "    if done or truncated:\n",
    "      break\n",
    "\n",
    "# Cerramos la conexion con el Monitor de ambiente y mostramos el video.\n",
    "env.close()\n",
    "show_video()\n",
    "\n",
    "del env"
   ]
  }
 ],
 "metadata": {
  "colab": {
   "provenance": []
  },
  "kernelspec": {
   "display_name": "Python 3 (ipykernel)",
   "language": "python",
   "name": "python3"
  },
  "language_info": {
   "codemirror_mode": {
    "name": "ipython",
    "version": 3
   },
   "file_extension": ".py",
   "mimetype": "text/x-python",
   "name": "python",
   "nbconvert_exporter": "python",
   "pygments_lexer": "ipython3",
   "version": "3.9.7"
  }
 },
 "nbformat": 4,
 "nbformat_minor": 1
}
