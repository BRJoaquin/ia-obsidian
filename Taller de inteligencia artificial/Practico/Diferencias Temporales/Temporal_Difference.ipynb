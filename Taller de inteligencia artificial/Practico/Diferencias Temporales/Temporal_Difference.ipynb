{
 "cells": [
  {
   "cell_type": "markdown",
   "metadata": {
    "id": "M81eDC7bWC9y"
   },
   "source": [
    "# Métodos de Diferencias Temporales (TD)\n",
    "\n",
    "En este notebook vamos a ver métodos de diferencias temporales en particular, vamos a ver un método de control on-policy (Sarsa) y un método off-policy (Q-Learning) para estimar la funcion de valor (y la política) ótima para un problema. \n",
    "\n",
    "\n",
    "El notebook se basa en el capítulo 6 del libro de Sutton y Barto.\n",
    "\n",
    "\n",
    "****\n",
    "\n",
    "## Ambiente\n",
    "\n",
    "Vamos a utilizar un problema clásico de Reinforcement Learning, y para ello vamos a usar otro ambiente de OpenAi gym: MountainCar: https://gym.openai.com/envs/MountainCar-v0/ o https://gymnasium.farama.org/environments/classic_control/mountain_car/.\n",
    "\n",
    "La descripcion del mismo es la siguiente:\n",
    "\n",
    "Un auto esta posicionado en un carril de una dimension entre dos montañas. El objetivo es llegar a la cima de la montaña derecha pero, el motor del auto no es lo suficientemente fuerte para hacerlo en una sola pasada (no puede simplemente acelerar y llegar). Entonces, la única forma de tener éxito es ir de atrás hacia delante repetidas veces para acumular suficiente energía para subir.\n",
    "\n",
    "![Image](https://i.ytimg.com/vi/slIJHOuTCmc/hqdefault.jpg)\n",
    "\n",
    "Este ambiente tiene representación gráfica visual en gym, para ello vamos a hacer uso de unas funciones auxliares para poder ver resultados en video en colab.\n",
    "\n",
    "\n",
    "****\n",
    "\n",
    "## A entregar:\n",
    "\n",
    "- Implementación de algoritmo Q-Learning\n",
    "- Implementacion de algoritmo Sarsa\n",
    "- Comparacion entre ambos para el ambiente dado, cuanto tarda cada uno en llegar al objetivo (en promedio). \n",
    "\n",
    "\n",
    "\n"
   ]
  },
  {
   "cell_type": "markdown",
   "metadata": {
    "id": "tZAq-yLHeHzc"
   },
   "source": [
    "### Funciones auxiliares para visualizar el ambiente"
   ]
  },
  {
   "cell_type": "code",
   "execution_count": 9,
   "outputs": [
    {
     "ename": "SyntaxError",
     "evalue": "invalid syntax (1383680906.py, line 1)",
     "output_type": "error",
     "traceback": [
      "\u001B[0;36m  Input \u001B[0;32mIn [9]\u001B[0;36m\u001B[0m\n\u001B[0;31m    apt-get install xvfb\u001B[0m\n\u001B[0m            ^\u001B[0m\n\u001B[0;31mSyntaxError\u001B[0m\u001B[0;31m:\u001B[0m invalid syntax\n"
     ]
    }
   ],
   "source": [],
   "metadata": {
    "collapsed": false
   }
  },
  {
   "cell_type": "code",
   "execution_count": 1,
   "metadata": {
    "id": "9fNgTyITdb0e",
    "ExecuteTime": {
     "start_time": "2023-04-18T20:15:33.966053Z",
     "end_time": "2023-04-18T20:15:35.626021Z"
    }
   },
   "outputs": [],
   "source": [
    "# Dependencias necesarias.\n",
    "!pip install --upgrade gymnasium > /dev/null 2>&1\n",
    "!pip install --upgrade pyvirtualdisplay > /dev/null 2>&1\n",
    "# En caso de tener otro manejador de paquetes, cambiar apt-get por el correspondiente.\n",
    "!apt-get install -y xvfb python-opengl ffmpeg > /dev/null 2>&1"
   ]
  },
  {
   "cell_type": "code",
   "execution_count": 11,
   "metadata": {
    "ExecuteTime": {
     "start_time": "2023-04-18T20:27:34.148424Z",
     "end_time": "2023-04-18T20:27:37.082983Z"
    }
   },
   "outputs": [
    {
     "name": "stdout",
     "output_type": "stream",
     "text": [
      "Requirement already satisfied: moviepy in /home/k/miniconda3/lib/python3.9/site-packages (1.0.3)\r\n",
      "Requirement already satisfied: requests<3.0,>=2.8.1 in /home/k/miniconda3/lib/python3.9/site-packages (from moviepy) (2.28.1)\r\n",
      "Requirement already satisfied: numpy>=1.17.3 in /home/k/miniconda3/lib/python3.9/site-packages (from moviepy) (1.23.1)\r\n",
      "Requirement already satisfied: proglog<=1.0.0 in /home/k/miniconda3/lib/python3.9/site-packages (from moviepy) (0.1.10)\r\n",
      "Requirement already satisfied: tqdm<5.0,>=4.11.2 in /home/k/miniconda3/lib/python3.9/site-packages (from moviepy) (4.64.0)\r\n",
      "Requirement already satisfied: imageio-ffmpeg>=0.2.0 in /home/k/miniconda3/lib/python3.9/site-packages (from moviepy) (0.4.8)\r\n",
      "Requirement already satisfied: decorator<5.0,>=4.0.2 in /home/k/miniconda3/lib/python3.9/site-packages (from moviepy) (4.4.2)\r\n",
      "Requirement already satisfied: imageio<3.0,>=2.5 in /home/k/miniconda3/lib/python3.9/site-packages (from moviepy) (2.27.0)\r\n",
      "Requirement already satisfied: pillow>=8.3.2 in /home/k/miniconda3/lib/python3.9/site-packages (from imageio<3.0,>=2.5->moviepy) (9.2.0)\r\n",
      "Requirement already satisfied: charset-normalizer<3,>=2 in /home/k/miniconda3/lib/python3.9/site-packages (from requests<3.0,>=2.8.1->moviepy) (2.0.4)\r\n",
      "Requirement already satisfied: idna<4,>=2.5 in /home/k/miniconda3/lib/python3.9/site-packages (from requests<3.0,>=2.8.1->moviepy) (3.3)\r\n",
      "Requirement already satisfied: urllib3<1.27,>=1.21.1 in /home/k/miniconda3/lib/python3.9/site-packages (from requests<3.0,>=2.8.1->moviepy) (1.26.11)\r\n",
      "Requirement already satisfied: certifi>=2017.4.17 in /home/k/miniconda3/lib/python3.9/site-packages (from requests<3.0,>=2.8.1->moviepy) (2022.9.24)\r\n",
      "Requirement already satisfied: gymnasium[classic-control] in /home/k/miniconda3/lib/python3.9/site-packages (0.28.1)\r\n",
      "Requirement already satisfied: farama-notifications>=0.0.1 in /home/k/miniconda3/lib/python3.9/site-packages (from gymnasium[classic-control]) (0.0.4)\r\n",
      "Requirement already satisfied: numpy>=1.21.0 in /home/k/miniconda3/lib/python3.9/site-packages (from gymnasium[classic-control]) (1.23.1)\r\n",
      "Requirement already satisfied: jax-jumpy>=1.0.0 in /home/k/miniconda3/lib/python3.9/site-packages (from gymnasium[classic-control]) (1.0.0)\r\n",
      "Requirement already satisfied: cloudpickle>=1.2.0 in /home/k/miniconda3/lib/python3.9/site-packages (from gymnasium[classic-control]) (2.2.1)\r\n",
      "Requirement already satisfied: importlib-metadata>=4.8.0 in /home/k/miniconda3/lib/python3.9/site-packages (from gymnasium[classic-control]) (4.11.3)\r\n",
      "Requirement already satisfied: typing-extensions>=4.3.0 in /home/k/miniconda3/lib/python3.9/site-packages (from gymnasium[classic-control]) (4.3.0)\r\n",
      "Collecting pygame==2.1.3\r\n",
      "  Downloading pygame-2.1.3-cp39-cp39-manylinux_2_17_x86_64.manylinux2014_x86_64.whl (13.7 MB)\r\n",
      "\u001B[2K     \u001B[90m━━━━━━━━━━━━━━━━━━━━━━━━━━━━━━━━━━━━━━━━\u001B[0m \u001B[32m13.7/13.7 MB\u001B[0m \u001B[31m23.6 MB/s\u001B[0m eta \u001B[36m0:00:00\u001B[0m00:01\u001B[0m00:01\u001B[0m\r\n",
      "\u001B[?25hRequirement already satisfied: zipp>=0.5 in /home/k/miniconda3/lib/python3.9/site-packages (from importlib-metadata>=4.8.0->gymnasium[classic-control]) (3.8.0)\r\n",
      "Installing collected packages: pygame\r\n",
      "Successfully installed pygame-2.1.3\r\n"
     ]
    }
   ],
   "source": [
    "# Para ejecutar en CECOFI\n",
    "!pip install moviepy\n",
    "!pip install 'gymnasium[classic-control]'"
   ]
  },
  {
   "cell_type": "code",
   "execution_count": 12,
   "metadata": {
    "id": "4dmKgVnGVXk0",
    "ExecuteTime": {
     "start_time": "2023-04-18T20:27:42.573859Z",
     "end_time": "2023-04-18T20:27:42.621144Z"
    }
   },
   "outputs": [],
   "source": [
    "# Imports y funciones para ver el ambiente.\n",
    "from tqdm.notebook import tqdm_notebook\n",
    "import io\n",
    "#import gym\n",
    "import gymnasium as gym\n",
    "import glob\n",
    "import base64\n",
    "#from gym.wrappers import Monitor\n",
    "from gymnasium.wrappers.record_video import RecordVideo\n",
    "from IPython.display import HTML\n",
    "from pyvirtualdisplay import Display\n",
    "from IPython import display as ipythondisplay\n",
    "\n",
    "\n",
    "display = Display(visible=0, size=(1400, 900))\n",
    "display.start()\n",
    "\n",
    "def show_video():\n",
    "  \"\"\"\n",
    "  Utility function to enable video recording of gym environment and displaying it\n",
    "  To enable video, just do \"env = wrap_env(env)\"\"\n",
    "  \"\"\"\n",
    "  mp4list = glob.glob('./videos/*.mp4')\n",
    "  if len(mp4list) > 0:\n",
    "    mp4 = mp4list[0]\n",
    "    video = io.open(mp4, 'r+b').read()\n",
    "    encoded = base64.b64encode(video)\n",
    "    ipythondisplay.display(HTML(data='''<video alt=\"test\" autoplay \n",
    "                loop controls style=\"height: 400px;\">\n",
    "                <source src=\"data:video/mp4;base64,{0}\" type=\"video/mp4\" />\n",
    "             </video>'''.format(encoded.decode('ascii'))))\n",
    "  else: \n",
    "    print(\"Could not find video\")\n",
    "    \n",
    "\n",
    "def wrap_env(env):\n",
    "  \"\"\"\n",
    "  Wrapper del ambiente donde definimos un Monitor que guarda la visualizacion como un archivo de video.\n",
    "  \"\"\"\n",
    "  \n",
    "  #env = Monitor(env, './video', force=True)\n",
    "  env = RecordVideo(env,video_folder='./videos')\n",
    "  return env"
   ]
  },
  {
   "cell_type": "markdown",
   "metadata": {
    "id": "ia5jzW5Fd-Kq"
   },
   "source": [
    "### Creación del ambiente y visualizacion de un agente aleatorio.\n",
    "\n"
   ]
  },
  {
   "cell_type": "code",
   "execution_count": 13,
   "metadata": {
    "colab": {
     "base_uri": "https://localhost:8080/",
     "height": 512
    },
    "id": "qSKTaNhKd-PY",
    "outputId": "0f9fd943-99d2-45b4-b229-491d937edf42",
    "ExecuteTime": {
     "start_time": "2023-04-18T20:27:45.735718Z",
     "end_time": "2023-04-18T20:27:46.445937Z"
    }
   },
   "outputs": [
    {
     "name": "stderr",
     "output_type": "stream",
     "text": [
      "/home/k/miniconda3/lib/python3.9/site-packages/gymnasium/wrappers/record_video.py:87: UserWarning: \u001B[33mWARN: Overwriting existing videos at /home/k/Documents/postgrado/postgrado/Taller de inteligencia artificial/Practico/Diferencias Temporales/videos folder (try specifying a different `video_folder` for the `RecordVideo` wrapper if this is not desired)\u001B[0m\n",
      "  logger.warn(\n"
     ]
    },
    {
     "name": "stdout",
     "output_type": "stream",
     "text": [
      "Moviepy - Building video /home/k/Documents/postgrado/postgrado/Taller de inteligencia artificial/Practico/Diferencias Temporales/videos/rl-video-episode-0.mp4.\n",
      "Moviepy - Writing video /home/k/Documents/postgrado/postgrado/Taller de inteligencia artificial/Practico/Diferencias Temporales/videos/rl-video-episode-0.mp4\n",
      "\n"
     ]
    },
    {
     "name": "stderr",
     "output_type": "stream",
     "text": [
      "                                                                "
     ]
    },
    {
     "name": "stdout",
     "output_type": "stream",
     "text": [
      "Moviepy - Done !\n",
      "Moviepy - video ready /home/k/Documents/postgrado/postgrado/Taller de inteligencia artificial/Practico/Diferencias Temporales/videos/rl-video-episode-0.mp4\n"
     ]
    },
    {
     "name": "stderr",
     "output_type": "stream",
     "text": [
      "\r"
     ]
    },
    {
     "data": {
      "text/plain": "<IPython.core.display.HTML object>",
      "text/html": "<video alt=\"test\" autoplay \n                loop controls style=\"height: 400px;\">\n                <source src=\"data:video/mp4;base64,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\" type=\"video/mp4\" />\n             </video>"
     },
     "metadata": {},
     "output_type": "display_data"
    }
   ],
   "source": [
    "# Necesitamos \"envolver\" el ambiente para hacer uso de las funciones definidas anteriormente.\n",
    "env = wrap_env(gym.make(\"MountainCar-v0\",render_mode=\"rgb_array\"))\n",
    "\n",
    "# El resto del código es igual a lo que venimos acostumbrados.\n",
    "observation,_ = env.reset()\n",
    "\n",
    "while True:\n",
    "    env.render()  # Queremos poder ver el ambiente. \n",
    "\n",
    "    action = env.action_space.sample() \n",
    "    observation, reward, done, truncated, info = env.step(action) \n",
    "        \n",
    "    if done or truncated:\n",
    "      break\n",
    "\n",
    "# Cerramos la conexion con el Monitor de ambiente y mostramos el video.\n",
    "env.close()\n",
    "show_video()\n",
    "\n",
    "del env"
   ]
  },
  {
   "cell_type": "markdown",
   "metadata": {
    "id": "cXuu2iiGh-N1"
   },
   "source": [
    "### Interacción con el ambiente\n",
    "\n",
    "El ambiente cuenta con 3 acciones: Acelerar a la izquierda, frenar y acelerar a la derecha. Las recompensas son -1 por cada accion tomada con excepcion de llegar a la cima de la montaña. Un episodio se termina al alcanzar la cima o al luego de 200 interacciones.\n",
    "\n",
    "Lo que podemos observar al interactuar con el es un valor real para su Velocidad (negativa al ir para la izquierda, positiva a la derecha) y un valor real para su Posicion en la línea.\n",
    "\n",
    "Ambos valores son continuos, esto nos representa un problema, ya que queremos modelar una función de valor y una política para todos los estados posibles.\n",
    "\n",
    "Para atacar este problema vamos a **DISCRETIZAR** el ambiente, esto es: convertir la posicion y velocidad del auto en valores discretos dentro de un rango definido.\n",
    "\n",
    "Para ello vamos a definir algunas constantes y una función que nos permite obtener una representacion discreta de las observaciones del ambiente.\n"
   ]
  },
  {
   "cell_type": "code",
   "execution_count": null,
   "metadata": {
    "id": "38xxdT-emM4u"
   },
   "outputs": [],
   "source": [
    "import numpy as np\n",
    "\n",
    "# We will use 40 different values for Position and 40 for velocity (40x40 combinations)\n",
    "NUMBER_STATES = 40\n",
    "\n",
    "def discretization(env, obs):\n",
    "    env_low = env.observation_space.low\n",
    "    env_high = env.observation_space.high\n",
    "    \n",
    "    env_den = (env_high - env_low) / NUMBER_STATES\n",
    "    pos_den = env_den[0]\n",
    "    vel_den = env_den[1]\n",
    "    \n",
    "    pos_low = env_low[0]\n",
    "    vel_low = env_low[1]\n",
    "    \n",
    "    pos_scaled = int((obs[0] - pos_low) / pos_den)\n",
    "    vel_scaled = int((obs[1] - vel_low) / vel_den)\n",
    "    \n",
    "    return pos_scaled, vel_scaled"
   ]
  },
  {
   "cell_type": "markdown",
   "metadata": {
    "id": "1kMCuawcphJr"
   },
   "source": [
    "Una vez tenemos el ambiente discretizado, podemos crear una tabla que contenga el valor esperado para cada estado posible (donde en este caso, cada estado es una terna de: posicion, velocidad y accion a tomar). \n",
    "\n",
    "Esta tabla es normalmente conocida como \"Q table\" por su uso en Q learning (aunque tambien se usa, pero de manera distinta en Sarsa)."
   ]
  },
  {
   "cell_type": "markdown",
   "metadata": {
    "id": "4jL1Gl_ovepE"
   },
   "source": [
    "### Q-Learning\n",
    "\n",
    "Vamos a comenzar implementando Q-learning para el problema actual, la implementacion corre por parte de los estudiantes.\n",
    "\n",
    "Recordamos aquí el algoritmo:\n",
    "\n",
    "![Image](https://leimao.github.io/images/blog/2019-03-14-RL-On-Policy-VS-Off-Policy/q-learning.png)"
   ]
  },
  {
   "cell_type": "code",
   "execution_count": null,
   "metadata": {
    "id": "wiw-__ryvuoJ"
   },
   "outputs": [],
   "source": [
    "def q_learning(env, number_episodes=100, alpha=0.1, gamma=0.9, epsilon_start=0.9, epsilon_min=0.1, epsilon_decay=0.9):\n",
    "\n",
    "  # Initialize Q_table as a matrix of NumberStatesxNumberStatesxNumberActions\n",
    "  \n",
    "  # Initialize epsilon\n",
    "  epsilon = epsilon_start\n",
    "  \n",
    "  # Stat trackers\n",
    "  # Track the accumulated reward per episode\n",
    "  # Track the number of steps taken in each episode\n",
    "  wins = []              # Track the number of times we reach the goal (1 if we do, 0 otherwise)\n",
    "\n",
    "  for ep_idx in tqdm_notebook(range(number_episodes)):\n",
    "\n",
    "    # Reset the environment and get initial position and velocity\n",
    "\n",
    "    done = False\n",
    "    truncated = False\n",
    "    while not (done or truncated):\n",
    "\n",
    "      # Epsilon greedy policy.\n",
    "      action = np.argmax(q_table[position][velocity])\n",
    "      if np.random.uniform() < epsilon:\n",
    "        action = np.random.choice(env.action_space.n)\n",
    "      \n",
    "      # Take action on env and observe result.\n",
    "\n",
    "      # Q-Learning Update rule.\n",
    "      \n",
    "      # Move the state forward.\n",
    "    \n",
    "    # Count number of \"wins\" for mountain car env.\n",
    "    if done:\n",
    "      wins.append(1)\n",
    "    else:\n",
    "      wins.append(0)\n",
    "\n",
    "    # Update epsilon\n",
    "    epsilon = max(epsilon_min, epsilon * epsilon_decay)\n",
    "\n",
    "  return q_table, episode_rewards, episode_steps, wins"
   ]
  },
  {
   "cell_type": "code",
   "execution_count": null,
   "metadata": {
    "colab": {
     "base_uri": "https://localhost:8080/",
     "height": 336
    },
    "id": "U4iL6nS5t2I5",
    "outputId": "13fdcf75-1a17-4954-81dc-70b3081f361d"
   },
   "outputs": [],
   "source": [
    "env = gym.make(\"MountainCar-v0\")\n",
    "NUMBER_EPISODES = 4000\n",
    "q_table, rewards, steps, wins = q_learning(env, number_episodes=NUMBER_EPISODES, alpha=0.3, epsilon_decay=0.5)"
   ]
  },
  {
   "cell_type": "code",
   "execution_count": null,
   "metadata": {
    "colab": {
     "base_uri": "https://localhost:8080/",
     "height": 851
    },
    "id": "45FgL2C3TRql",
    "outputId": "3562b607-2a48-4752-8368-48eafef79fa2"
   },
   "outputs": [],
   "source": [
    "import matplotlib.pyplot as plt\n",
    "\n",
    "# Average results every N timesteps for better visualization.\n",
    "average_range = 100\n",
    "episode_ticks = int(NUMBER_EPISODES / average_range)\n",
    "\n",
    "avg_rewards = np.array(rewards).reshape((episode_ticks, average_range))\n",
    "avg_rewards = np.mean(avg_rewards, axis=1)\n",
    "\n",
    "avg_steps = np.array(steps).reshape((episode_ticks, average_range))\n",
    "avg_steps = np.mean(avg_steps, axis=1)\n",
    "\n",
    "avg_wins = np.array(wins).reshape((episode_ticks, average_range))\n",
    "avg_wins = np.mean(avg_wins, axis=1)\n",
    "\n",
    "# Plot\n",
    "\n",
    "plt.plot(range(episode_ticks), avg_rewards)\n",
    "plt.title(\"Episode Accumulated Reward\")\n",
    "plt.xlabel(\"Episode Number\")\n",
    "plt.ylabel(\"Reward\")\n",
    "plt.show()\n",
    "\n",
    "\n",
    "plt.plot(range(episode_ticks), avg_steps)\n",
    "plt.title(\"Steps needed per episode\")\n",
    "plt.xlabel(\"Episode Number\")\n",
    "plt.ylabel(\"Number Steps\")\n",
    "plt.show()\n",
    "\n",
    "\n",
    "plt.plot(range(episode_ticks), avg_wins)\n",
    "plt.title(\"Win breakdown\")\n",
    "plt.xlabel(\"Episode Number\")\n",
    "plt.ylabel(\"Win\")\n",
    "plt.show()"
   ]
  },
  {
   "cell_type": "markdown",
   "metadata": {
    "id": "WhCCsW_iJIfH"
   },
   "source": [
    "## Visualizacion del agente\n",
    "\n",
    "Vamos a ejecutar una política completamente greedy para observar lo aprendido por el algoritmo, usando la q_table retornada por el mismo para decidir la mejor accion.\n"
   ]
  },
  {
   "cell_type": "code",
   "execution_count": null,
   "metadata": {
    "colab": {
     "base_uri": "https://localhost:8080/",
     "height": 337
    },
    "id": "rXDjSNfPt2M5",
    "outputId": "a35db66f-f3f3-42ee-d145-90ade034d9f9"
   },
   "outputs": [],
   "source": [
    "env = wrap_env(gym.make(\"MountainCar-v0\",render_mode=\"rgb_array\"))\n",
    "\n",
    "observation,_ = env.reset()\n",
    "position, velocity = discretization(env, observation)\n",
    "\n",
    "while True:\n",
    "    env.render()\n",
    "\n",
    "    action = np.argmax(q_table[position][velocity])\n",
    "    observation, reward, done, truncated, info = env.step(action) \n",
    "    \n",
    "    position, velocity = discretization(env, observation)\n",
    "\n",
    "    if done or truncated:\n",
    "      break\n",
    "\n",
    "# Cerramos la conexion con el Monitor de ambiente y mostramos el video.\n",
    "env.close()\n",
    "show_video()\n",
    "\n",
    "del env"
   ]
  },
  {
   "cell_type": "code",
   "execution_count": null,
   "metadata": {
    "id": "BfYj49u7eseK"
   },
   "outputs": [],
   "source": []
  },
  {
   "cell_type": "markdown",
   "metadata": {
    "id": "18GiSLEeKKtc"
   },
   "source": [
    "### Implementación de Sarsa\n",
    "\n",
    "\n",
    "![Image](https://miro.medium.com/max/2612/1*Wim9wr-jYJtZyZ_4ZJRHNg.jpeg)"
   ]
  },
  {
   "cell_type": "code",
   "execution_count": null,
   "metadata": {
    "id": "EeopCSvcUtt_"
   },
   "outputs": [],
   "source": [
    "def sarsa(env, number_episodes=100, alpha=0.1, gamma=0.9, epsilon_start=0.9, epsilon_min=0.1, epsilon_decay=0.9):\n",
    "\n",
    "  ## Your code here\n",
    "\n",
    "  return q_table, episode_rewards, episode_steps, wins"
   ]
  },
  {
   "cell_type": "code",
   "execution_count": null,
   "metadata": {
    "id": "z0raz4aUUuI7"
   },
   "outputs": [],
   "source": [
    "env = gym.make(\"MountainCar-v0\")\n",
    "NUMBER_EPISODES = 4000\n",
    "q_table, rewards, steps, wins = sarsa(env, number_episodes=NUMBER_EPISODES, alpha=0.3, epsilon_decay=0.5)"
   ]
  },
  {
   "cell_type": "code",
   "execution_count": null,
   "metadata": {
    "colab": {
     "base_uri": "https://localhost:8080/",
     "height": 851
    },
    "id": "xhTXraYchNoY",
    "outputId": "d253b713-67c8-49c4-f58c-6f10fd517184"
   },
   "outputs": [],
   "source": [
    "# Average results every N timesteps for better visualization.\n",
    "average_range = 100\n",
    "episode_ticks = int(NUMBER_EPISODES / average_range)\n",
    "\n",
    "avg_rewards = np.array(rewards).reshape((episode_ticks, average_range))\n",
    "avg_rewards = np.mean(avg_rewards, axis=1)\n",
    "\n",
    "avg_steps = np.array(steps).reshape((episode_ticks, average_range))\n",
    "avg_steps = np.mean(avg_steps, axis=1)\n",
    "\n",
    "avg_wins = np.array(wins).reshape((episode_ticks, average_range))\n",
    "avg_wins = np.mean(avg_wins, axis=1)\n",
    "\n",
    "# Plot\n",
    "\n",
    "plt.plot(range(episode_ticks), avg_rewards)\n",
    "plt.title(\"Episode Accumulated Reward\")\n",
    "plt.xlabel(\"Episode Number\")\n",
    "plt.ylabel(\"Reward\")\n",
    "plt.show()\n",
    "\n",
    "\n",
    "plt.plot(range(episode_ticks), avg_steps)\n",
    "plt.title(\"Steps needed per episode\")\n",
    "plt.xlabel(\"Episode Number\")\n",
    "plt.ylabel(\"Number Steps\")\n",
    "plt.show()\n",
    "\n",
    "\n",
    "plt.plot(range(episode_ticks), avg_wins)\n",
    "plt.title(\"Win breakdown\")\n",
    "plt.xlabel(\"Episode Number\")\n",
    "plt.ylabel(\"Win\")\n",
    "plt.show()"
   ]
  },
  {
   "cell_type": "code",
   "execution_count": null,
   "metadata": {
    "colab": {
     "base_uri": "https://localhost:8080/",
     "height": 421
    },
    "id": "pH4zGMaIhNqe",
    "outputId": "a01e976e-ee64-49f0-aa1d-de84774721e0"
   },
   "outputs": [],
   "source": [
    "env = wrap_env(gym.make(\"MountainCar-v0\",render_mode=\"rgb_array\"))\n",
    "\n",
    "observation,_ = env.reset()\n",
    "position, velocity = discretization(env, observation)\n",
    "\n",
    "while True:\n",
    "    env.render()\n",
    "\n",
    "    action = np.argmax(q_table[position][velocity])\n",
    "    observation, reward, done, truncated, info = env.step(action) \n",
    "    \n",
    "    position, velocity = discretization(env, observation)\n",
    "\n",
    "    if done or truncated:\n",
    "      break\n",
    "\n",
    "# Cerramos la conexion con el Monitor de ambiente y mostramos el video.\n",
    "env.close()\n",
    "show_video()\n",
    "\n",
    "del env"
   ]
  }
 ],
 "metadata": {
  "colab": {
   "provenance": []
  },
  "kernelspec": {
   "display_name": "Python 3 (ipykernel)",
   "language": "python",
   "name": "python3"
  },
  "language_info": {
   "codemirror_mode": {
    "name": "ipython",
    "version": 3
   },
   "file_extension": ".py",
   "mimetype": "text/x-python",
   "name": "python",
   "nbconvert_exporter": "python",
   "pygments_lexer": "ipython3",
   "version": "3.9.7"
  }
 },
 "nbformat": 4,
 "nbformat_minor": 1
}
