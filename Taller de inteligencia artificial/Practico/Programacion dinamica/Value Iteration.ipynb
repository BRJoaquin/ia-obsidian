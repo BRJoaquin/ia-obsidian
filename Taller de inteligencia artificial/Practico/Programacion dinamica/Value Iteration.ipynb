{
 "cells": [
  {
   "cell_type": "markdown",
   "metadata": {},
   "source": [
    "# Value Iteration\n",
    "\n",
    "Vamos a ver como la programación dinamica se puede utilizar para derivar políticas óptimas para algunos ambientes. En este caso particular vamos a utilizar dos ambientes definidos en el libro de Sutton y Barto. \n",
    "\n",
    "Es recomendable leer el capítulo 4 del libro para entender a fondo todos los conceptos.\n",
    "\n",
    "## A entregar:\n",
    "\n",
    "- Notebook con el algoritmo de value iteration implementado (hecho en clase)\n",
    "- Comentarios sobre funciones implementadas en clase, que hacen y que es cada parametro.\n",
    "- Reporte con funciones de valor para diferentes tamaños de ambiente.\n",
    "- Reporte con graficas sobre el numero de iteraciones del algoritmo para diferentes tamaños de ambiente.\n"
   ]
  },
  {
   "cell_type": "markdown",
   "metadata": {},
   "source": [
    "## Definicion del ambiente\n",
    "\n",
    "En este caso vamos a usar como ambiente algo muy sencillo, Gridworld (del libro de Sutton y Barto). Basicamente se trata de una grilla rectangular de posibles posiciones donde los estados terminales se encuentran en la esquina superior izquierda ([0,0] en coordenadas) y en la esquina inferior derecha ([largo - 1, ancho - 1] en coordenadas). \n",
    "\n",
    "El objetivo es obtener la función de valor óptima para el entorno en el que estamos.\n",
    "\n",
    "Comenzamos definiendo el ambiente como una clase Python abajo, esto nos va a permitir crear varios ambientes de prueba para probar nuestro algoritmo y encontrar la función optima para todos."
   ]
  },
  {
   "cell_type": "code",
   "execution_count": 1,
   "metadata": {},
   "outputs": [],
   "source": [
    "# Necessary imports\n",
    "import io\n",
    "import sys\n",
    "import numpy as np\n",
    "#from gym.envs.toy_text import discrete\n",
    "from DiscreteEnv import DiscreteEnv\n",
    "\n",
    "# Possible Actions\n",
    "UP = 0\n",
    "RIGHT = 1\n",
    "DOWN = 2\n",
    "LEFT = 3"
   ]
  },
  {
   "cell_type": "code",
   "execution_count": 2,
   "metadata": {},
   "outputs": [],
   "source": [
    "class GridworldEnv(DiscreteEnv):\n",
    "    \"\"\"\n",
    "    ****\n",
    "    Forked from: https://github.com/dennybritz/reinforcement-learning/blob/master/lib/envs/gridworld.py\n",
    "    ****\n",
    "    Grid World environment from Sutton's Reinforcement Learning book chapter 4.\n",
    "    You are an agent on an MxN grid and your goal is to reach the terminal\n",
    "    state at the top left or the bottom right corner.\n",
    "\n",
    "    For example, a 4x4 grid looks as follows:\n",
    "\n",
    "    T  o  o  o\n",
    "    o  x  o  o\n",
    "    o  o  o  o\n",
    "    o  o  o  T\n",
    "\n",
    "    x is your position and T are the two terminal states.\n",
    "\n",
    "    You can take actions in each direction (UP=0, RIGHT=1, DOWN=2, LEFT=3).\n",
    "    Actions going off the edge leave you in your current state.\n",
    "    You receive a reward of -1 at each step until you reach a terminal state.\n",
    "    \"\"\"\n",
    "\n",
    "    def __init__(self, shape=[4,4]):\n",
    "        if not isinstance(shape, (list, tuple)) or not len(shape) == 2:\n",
    "            raise ValueError('Shape argument must be a list/tuple of length 2')\n",
    "\n",
    "        self.shape = shape\n",
    "\n",
    "        number_states = np.prod(shape)\n",
    "        number_actions = 4\n",
    "        \n",
    "        self.number_actions = number_actions\n",
    "        self.number_states = number_states\n",
    "\n",
    "        MAX_Y = shape[0]\n",
    "        MAX_X = shape[1]\n",
    "\n",
    "        transition_probabilities = {}\n",
    "        grid = np.arange(number_states).reshape(shape)\n",
    "        it = np.nditer(grid, flags=['multi_index'])\n",
    "\n",
    "        while not it.finished:\n",
    "            s = it.iterindex\n",
    "            y, x = it.multi_index\n",
    "\n",
    "            transition_probabilities[s] = {a : [] for a in range(number_actions)}\n",
    "\n",
    "            is_done = lambda s: s == 0 or s == (number_states - 1)\n",
    "            reward = 0.0 if is_done(s) else -1.0\n",
    "\n",
    "            # We're stuck in a terminal state\n",
    "            if is_done(s):\n",
    "                transition_probabilities[s][UP] = [(1.0, s, reward, True)]\n",
    "                transition_probabilities[s][RIGHT] = [(1.0, s, reward, True)]\n",
    "                transition_probabilities[s][DOWN] = [(1.0, s, reward, True)]\n",
    "                transition_probabilities[s][LEFT] = [(1.0, s, reward, True)]\n",
    "            # Not a terminal state\n",
    "            else:\n",
    "                ns_up = s if y == 0 else s - MAX_X\n",
    "                ns_right = s if x == (MAX_X - 1) else s + 1\n",
    "                ns_down = s if y == (MAX_Y - 1) else s + MAX_X\n",
    "                ns_left = s if x == 0 else s - 1\n",
    "                transition_probabilities[s][UP] = [(1.0, ns_up, reward, is_done(ns_up))]\n",
    "                transition_probabilities[s][RIGHT] = [(1.0, ns_right, reward, is_done(ns_right))]\n",
    "                transition_probabilities[s][DOWN] = [(1.0, ns_down, reward, is_done(ns_down))]\n",
    "                transition_probabilities[s][LEFT] = [(1.0, ns_left, reward, is_done(ns_left))]\n",
    "\n",
    "            it.iternext()\n",
    "\n",
    "        # Initial state distribution is uniform\n",
    "        isd = np.ones(number_states) / number_states\n",
    "\n",
    "        # We expose the model of the environment for educational purposes\n",
    "        # This should not be used in any model-free learning algorithm\n",
    "        self.transition_probabilities = transition_probabilities\n",
    "\n",
    "        super(GridworldEnv, self).__init__(number_states, number_actions, transition_probabilities, isd)"
   ]
  },
  {
   "cell_type": "markdown",
   "metadata": {},
   "source": [
    "## Inicializando una nueva instancia del ambiente\n",
    "\n",
    "En la celda de abajo vamos a crear una nueva instancia del ambiente definido arriba. En este caso, y por ser un ejemplo, conocemos la funcion de transición del ambiente (llamada `transition_probabilities`). Esta función nos dice, para cada estado, el resultado de tomar cada accion posible.\n",
    "\n",
    "*** \n",
    "\n",
    "Esta funcion esta representada por tuplas de la forma: `(Probabilidad, estado_siguiente, recompensa, estado_final)`. \n",
    "\n",
    "- Al ser un ambiente deterministico las **probabilidades** son siempre 1 (al tomar una accion tenemos 100% de chances de caer en el siguiente estado, otros casos una acción podría tener una distribuccion de probabilidades sobre todos los estados posibles).\n",
    "\n",
    "- Los **estados_siguientes** apuntan a dónde mirar en la funcion de transición.\n",
    "\n",
    "- Las **recompensas** como se mencionó arriba son siempre -1 por cada movimiento, excepto cuando estamos en un estado final.\n",
    "\n",
    "- El **estad_final** es un flag booleano (Verdadero o Falso) que nos dice si el estado al que nos movemos es final o no.\n",
    "\n",
    "***\n",
    "\n",
    "Por ejemplo: si estamos en el estado 0, tomar cualquier accion tiene recompensa 0, con probabilidad 100% (es un ambiente determinístico) y "
   ]
  },
  {
   "cell_type": "code",
   "execution_count": 3,
   "metadata": {
    "scrolled": true
   },
   "outputs": [
    {
     "data": {
      "text/plain": "{0: {0: [(1.0, 0, 0.0, True)],\n  1: [(1.0, 0, 0.0, True)],\n  2: [(1.0, 0, 0.0, True)],\n  3: [(1.0, 0, 0.0, True)]},\n 1: {0: [(1.0, 1, -1.0, False)],\n  1: [(1.0, 2, -1.0, False)],\n  2: [(1.0, 5, -1.0, False)],\n  3: [(1.0, 0, -1.0, True)]},\n 2: {0: [(1.0, 2, -1.0, False)],\n  1: [(1.0, 3, -1.0, False)],\n  2: [(1.0, 6, -1.0, False)],\n  3: [(1.0, 1, -1.0, False)]},\n 3: {0: [(1.0, 3, -1.0, False)],\n  1: [(1.0, 3, -1.0, False)],\n  2: [(1.0, 7, -1.0, False)],\n  3: [(1.0, 2, -1.0, False)]},\n 4: {0: [(1.0, 0, -1.0, True)],\n  1: [(1.0, 5, -1.0, False)],\n  2: [(1.0, 8, -1.0, False)],\n  3: [(1.0, 4, -1.0, False)]},\n 5: {0: [(1.0, 1, -1.0, False)],\n  1: [(1.0, 6, -1.0, False)],\n  2: [(1.0, 9, -1.0, False)],\n  3: [(1.0, 4, -1.0, False)]},\n 6: {0: [(1.0, 2, -1.0, False)],\n  1: [(1.0, 7, -1.0, False)],\n  2: [(1.0, 10, -1.0, False)],\n  3: [(1.0, 5, -1.0, False)]},\n 7: {0: [(1.0, 3, -1.0, False)],\n  1: [(1.0, 7, -1.0, False)],\n  2: [(1.0, 11, -1.0, False)],\n  3: [(1.0, 6, -1.0, False)]},\n 8: {0: [(1.0, 4, -1.0, False)],\n  1: [(1.0, 9, -1.0, False)],\n  2: [(1.0, 12, -1.0, False)],\n  3: [(1.0, 8, -1.0, False)]},\n 9: {0: [(1.0, 5, -1.0, False)],\n  1: [(1.0, 10, -1.0, False)],\n  2: [(1.0, 13, -1.0, False)],\n  3: [(1.0, 8, -1.0, False)]},\n 10: {0: [(1.0, 6, -1.0, False)],\n  1: [(1.0, 11, -1.0, False)],\n  2: [(1.0, 14, -1.0, False)],\n  3: [(1.0, 9, -1.0, False)]},\n 11: {0: [(1.0, 7, -1.0, False)],\n  1: [(1.0, 11, -1.0, False)],\n  2: [(1.0, 15, -1.0, True)],\n  3: [(1.0, 10, -1.0, False)]},\n 12: {0: [(1.0, 8, -1.0, False)],\n  1: [(1.0, 13, -1.0, False)],\n  2: [(1.0, 12, -1.0, False)],\n  3: [(1.0, 12, -1.0, False)]},\n 13: {0: [(1.0, 9, -1.0, False)],\n  1: [(1.0, 14, -1.0, False)],\n  2: [(1.0, 13, -1.0, False)],\n  3: [(1.0, 12, -1.0, False)]},\n 14: {0: [(1.0, 10, -1.0, False)],\n  1: [(1.0, 15, -1.0, True)],\n  2: [(1.0, 14, -1.0, False)],\n  3: [(1.0, 13, -1.0, False)]},\n 15: {0: [(1.0, 15, 0.0, True)],\n  1: [(1.0, 15, 0.0, True)],\n  2: [(1.0, 15, 0.0, True)],\n  3: [(1.0, 15, 0.0, True)]}}"
     },
     "execution_count": 3,
     "metadata": {},
     "output_type": "execute_result"
    }
   ],
   "source": [
    "grid = GridworldEnv()   # Create a new gridworld object\n",
    "grid.transition_probabilities\n",
    "\n",
    "# Recordar: \n",
    "# UP = 0\n",
    "# RIGHT = 1\n",
    "# DOWN = 2\n",
    "# LEFT = 3"
   ]
  },
  {
   "cell_type": "markdown",
   "metadata": {},
   "source": [
    "## Recordando Value Iteration del libro de Sutton y Barto:\n",
    "\n",
    "![Image](https://i.imgur.com/PBtFBCG.png)\n",
    "\n",
    "\n",
    "Este es el algoritmo que vamos a implementar en las celdas siguientes.\n",
    "\n",
    "La función de valor del ambiente anterior debería ser:\n",
    "[ 0. -1. -2. -3. -1. -2. -3. -2. -2. -3. -2. -1. -3. -2. -1.  0.]"
   ]
  },
  {
   "cell_type": "code",
   "execution_count": 21,
   "metadata": {},
   "outputs": [],
   "source": [
    "def compute_action_values(env, state, V, discount_factor=1.0):\n",
    "    \"\"\"\n",
    "    Helper function to calculate the value for all actions in a given state.\n",
    "    \n",
    "    Args:\n",
    "        env: openAI.gym environment\n",
    "        state: The state to consider (int)\n",
    "        V: The value to use as an estimator, Vector of length env.number_states\n",
    "    \n",
    "    Returns:\n",
    "        A vector of length env.number_actions containing the expected value of each action.\n",
    "    \"\"\"\n",
    "\n",
    "    # Inicializa un vector de ceros con la misma longitud que el número de acciones en el entorno.\n",
    "    action_value = np.zeros(env.number_actions)\n",
    "    # Itera sobre todas las acciones posibles en el entorno.\n",
    "    for a in range(env.number_actions):\n",
    "        # Itera sobre todas las transiciones posibles dada una acción en un estado específico.\n",
    "        for prob, next_state, reward, done in env.transition_probabilities[state][a]:\n",
    "            # Acumula el valor esperado de la acción, utilizando la probabilidad de transición, la recompensa y el valor del siguiente estado.\n",
    "            action_value[a] += prob * (reward + discount_factor * V[next_state])\n",
    "    # Retorna el vector de valores esperados para cada acción en el estado dado.\n",
    "    return action_value"
   ]
  },
  {
   "cell_type": "code",
   "execution_count": 22,
   "metadata": {},
   "outputs": [],
   "source": [
    "def value_iteration(env, theta=0.0001, discount_factor=1.0):\n",
    "    \"\"\"\n",
    "    Value Iteration Algorithm.\n",
    "    \n",
    "    Args:\n",
    "        env: OpenAI env. env.transition_probabilities represents the transition probabilities of the environment.\n",
    "            env.transition_probabilities[s][a] is a list of transition tuples (prob, next_state, reward, done).\n",
    "            env.number_states is a number of states in the environment. \n",
    "            env.number_actions is a number of actions in the environment.\n",
    "        theta: We stop evaluation once our value function change is less than theta for all states.\n",
    "        discount_factor: Gamma discount factor.\n",
    "        \n",
    "    Returns:\n",
    "        A tuple (policy, V, count) of the optimal policy, the optimal value function, and the number of iterations.\n",
    "    \"\"\"\n",
    "    # Inicializa la función de valor con un vector de ceros de longitud igual al número de estados en el entorno.\n",
    "    V = np.zeros(env.number_states)\n",
    "    # Inicializa un contador de iteraciones.\n",
    "    count = 0\n",
    "    # Bucle principal para la iteración de valor.\n",
    "    while True:\n",
    "        # Inicializa la variable delta, que medirá la magnitud del cambio en la función de valor en una iteración.\n",
    "        delta = 0\n",
    "        # Itera sobre todos los estados en el entorno.\n",
    "        for s in range(env.number_states):\n",
    "            # Almacena el valor actual del estado.\n",
    "            v = V[s]\n",
    "            # Calcula el valor máximo de las acciones en el estado actual y actualiza el valor del estado.\n",
    "            V[s] = max(compute_action_values(env, s, V, discount_factor))\n",
    "            # Actualiza delta con el cambio máximo en la función de valor en esta iteración.\n",
    "            delta = max(delta, abs(v - V[s]))\n",
    "            # Incrementa el contador de iteraciones.\n",
    "            count += 1\n",
    "        # Si delta es menor que theta, la función de valor ha convergido y se rompe el bucle.\n",
    "        if delta < theta:\n",
    "            break\n",
    "    # Inicializa la política óptima como una matriz de ceros con el número de estados y acciones en el entorno.\n",
    "    policy = np.zeros([env.number_states, env.number_actions])\n",
    "    # Itera sobre todos los estados en el entorno.\n",
    "    for s in range(env.number_states):\n",
    "        # Calcula los valores de las acciones en el estado actual usando la función de valor óptima.\n",
    "        action_values = compute_action_values(env, s, V, discount_factor)\n",
    "        # Encuentra la acción óptima y actualiza la política.\n",
    "        best_action = np.argmax(action_values)\n",
    "        policy[s][best_action] = 1.0\n",
    "\n",
    "    # Retorna la política óptima, la función de valor óptima y el número de iteraciones.\n",
    "    return policy, V, count"
   ]
  },
  {
   "cell_type": "code",
   "execution_count": 23,
   "metadata": {},
   "outputs": [
    {
     "name": "stdout",
     "output_type": "stream",
     "text": [
      "For env size 4 the number of iterations was 64\n"
     ]
    }
   ],
   "source": [
    "env = GridworldEnv()\n",
    "policy, v, count = value_iteration(env)   # get the count as well\n",
    "\n",
    "print(f\"For env size 4 the number of iterations was {count}\")"
   ]
  },
  {
   "cell_type": "code",
   "execution_count": 24,
   "metadata": {},
   "outputs": [
    {
     "name": "stdout",
     "output_type": "stream",
     "text": [
      "Policy Probability Distribution:\n",
      "[[1. 0. 0. 0.]\n",
      " [0. 0. 0. 1.]\n",
      " [0. 0. 0. 1.]\n",
      " [0. 0. 1. 0.]\n",
      " [1. 0. 0. 0.]\n",
      " [1. 0. 0. 0.]\n",
      " [1. 0. 0. 0.]\n",
      " [0. 0. 1. 0.]\n",
      " [1. 0. 0. 0.]\n",
      " [1. 0. 0. 0.]\n",
      " [0. 1. 0. 0.]\n",
      " [0. 0. 1. 0.]\n",
      " [1. 0. 0. 0.]\n",
      " [0. 1. 0. 0.]\n",
      " [0. 1. 0. 0.]\n",
      " [1. 0. 0. 0.]]\n",
      "\n"
     ]
    }
   ],
   "source": [
    "print(\"Policy Probability Distribution:\")\n",
    "print(policy)\n",
    "print(\"\")"
   ]
  },
  {
   "cell_type": "code",
   "execution_count": 25,
   "metadata": {},
   "outputs": [
    {
     "name": "stdout",
     "output_type": "stream",
     "text": [
      "Reshaped Grid Policy (0=up, 1=right, 2=down, 3=left):\n",
      "[[0 3 3 2]\n",
      " [0 0 0 2]\n",
      " [0 0 1 2]\n",
      " [0 1 1 0]]\n",
      "\n"
     ]
    }
   ],
   "source": [
    "print(\"Reshaped Grid Policy (0=up, 1=right, 2=down, 3=left):\")\n",
    "print(np.reshape(np.argmax(policy, axis=1), env.shape))\n",
    "print(\"\")"
   ]
  },
  {
   "cell_type": "code",
   "execution_count": 26,
   "metadata": {},
   "outputs": [
    {
     "name": "stdout",
     "output_type": "stream",
     "text": [
      "Value Function:\n",
      "[ 0. -1. -2. -3. -1. -2. -3. -2. -2. -3. -2. -1. -3. -2. -1.  0.]\n",
      "\n"
     ]
    }
   ],
   "source": [
    "print(\"Value Function:\")\n",
    "print(v)\n",
    "print(\"\")"
   ]
  },
  {
   "cell_type": "code",
   "execution_count": 27,
   "metadata": {},
   "outputs": [
    {
     "name": "stdout",
     "output_type": "stream",
     "text": [
      "Algunas funciones de valor:\n",
      "Ambiente 5x5: [ 0. -1. -2. -3. -4. -5. -1. -2. -3. -4. -5. -4. -2. -3. -4. -5. -4. -3.\n",
      " -3. -4. -5. -4. -3. -2. -4. -5. -4. -3. -2. -1. -5. -4. -3. -2. -1.  0.]\n",
      "Ambiente 25x25: [  0.  -1.  -2.  -3.  -4.  -5.  -6.  -7.  -8.  -9. -10. -11. -12. -13.\n",
      " -14. -15. -16. -17. -18. -19. -20. -21. -22. -23. -24. -25.  -1.  -2.\n",
      "  -3.  -4.  -5.  -6.  -7.  -8.  -9. -10. -11. -12. -13. -14. -15. -16.\n",
      " -17. -18. -19. -20. -21. -22. -23. -24. -25. -24.  -2.  -3.  -4.  -5.\n",
      "  -6.  -7.  -8.  -9. -10. -11. -12. -13. -14. -15. -16. -17. -18. -19.\n",
      " -20. -21. -22. -23. -24. -25. -24. -23.  -3.  -4.  -5.  -6.  -7.  -8.\n",
      "  -9. -10. -11. -12. -13. -14. -15. -16. -17. -18. -19. -20. -21. -22.\n",
      " -23. -24. -25. -24. -23. -22.  -4.  -5.  -6.  -7.  -8.  -9. -10. -11.\n",
      " -12. -13. -14. -15. -16. -17. -18. -19. -20. -21. -22. -23. -24. -25.\n",
      " -24. -23. -22. -21.  -5.  -6.  -7.  -8.  -9. -10. -11. -12. -13. -14.\n",
      " -15. -16. -17. -18. -19. -20. -21. -22. -23. -24. -25. -24. -23. -22.\n",
      " -21. -20.  -6.  -7.  -8.  -9. -10. -11. -12. -13. -14. -15. -16. -17.\n",
      " -18. -19. -20. -21. -22. -23. -24. -25. -24. -23. -22. -21. -20. -19.\n",
      "  -7.  -8.  -9. -10. -11. -12. -13. -14. -15. -16. -17. -18. -19. -20.\n",
      " -21. -22. -23. -24. -25. -24. -23. -22. -21. -20. -19. -18.  -8.  -9.\n",
      " -10. -11. -12. -13. -14. -15. -16. -17. -18. -19. -20. -21. -22. -23.\n",
      " -24. -25. -24. -23. -22. -21. -20. -19. -18. -17.  -9. -10. -11. -12.\n",
      " -13. -14. -15. -16. -17. -18. -19. -20. -21. -22. -23. -24. -25. -24.\n",
      " -23. -22. -21. -20. -19. -18. -17. -16. -10. -11. -12. -13. -14. -15.\n",
      " -16. -17. -18. -19. -20. -21. -22. -23. -24. -25. -24. -23. -22. -21.\n",
      " -20. -19. -18. -17. -16. -15. -11. -12. -13. -14. -15. -16. -17. -18.\n",
      " -19. -20. -21. -22. -23. -24. -25. -24. -23. -22. -21. -20. -19. -18.\n",
      " -17. -16. -15. -14. -12. -13. -14. -15. -16. -17. -18. -19. -20. -21.\n",
      " -22. -23. -24. -25. -24. -23. -22. -21. -20. -19. -18. -17. -16. -15.\n",
      " -14. -13. -13. -14. -15. -16. -17. -18. -19. -20. -21. -22. -23. -24.\n",
      " -25. -24. -23. -22. -21. -20. -19. -18. -17. -16. -15. -14. -13. -12.\n",
      " -14. -15. -16. -17. -18. -19. -20. -21. -22. -23. -24. -25. -24. -23.\n",
      " -22. -21. -20. -19. -18. -17. -16. -15. -14. -13. -12. -11. -15. -16.\n",
      " -17. -18. -19. -20. -21. -22. -23. -24. -25. -24. -23. -22. -21. -20.\n",
      " -19. -18. -17. -16. -15. -14. -13. -12. -11. -10. -16. -17. -18. -19.\n",
      " -20. -21. -22. -23. -24. -25. -24. -23. -22. -21. -20. -19. -18. -17.\n",
      " -16. -15. -14. -13. -12. -11. -10.  -9. -17. -18. -19. -20. -21. -22.\n",
      " -23. -24. -25. -24. -23. -22. -21. -20. -19. -18. -17. -16. -15. -14.\n",
      " -13. -12. -11. -10.  -9.  -8. -18. -19. -20. -21. -22. -23. -24. -25.\n",
      " -24. -23. -22. -21. -20. -19. -18. -17. -16. -15. -14. -13. -12. -11.\n",
      " -10.  -9.  -8.  -7. -19. -20. -21. -22. -23. -24. -25. -24. -23. -22.\n",
      " -21. -20. -19. -18. -17. -16. -15. -14. -13. -12. -11. -10.  -9.  -8.\n",
      "  -7.  -6. -20. -21. -22. -23. -24. -25. -24. -23. -22. -21. -20. -19.\n",
      " -18. -17. -16. -15. -14. -13. -12. -11. -10.  -9.  -8.  -7.  -6.  -5.\n",
      " -21. -22. -23. -24. -25. -24. -23. -22. -21. -20. -19. -18. -17. -16.\n",
      " -15. -14. -13. -12. -11. -10.  -9.  -8.  -7.  -6.  -5.  -4. -22. -23.\n",
      " -24. -25. -24. -23. -22. -21. -20. -19. -18. -17. -16. -15. -14. -13.\n",
      " -12. -11. -10.  -9.  -8.  -7.  -6.  -5.  -4.  -3. -23. -24. -25. -24.\n",
      " -23. -22. -21. -20. -19. -18. -17. -16. -15. -14. -13. -12. -11. -10.\n",
      "  -9.  -8.  -7.  -6.  -5.  -4.  -3.  -2. -24. -25. -24. -23. -22. -21.\n",
      " -20. -19. -18. -17. -16. -15. -14. -13. -12. -11. -10.  -9.  -8.  -7.\n",
      "  -6.  -5.  -4.  -3.  -2.  -1. -25. -24. -23. -22. -21. -20. -19. -18.\n",
      " -17. -16. -15. -14. -13. -12. -11. -10.  -9.  -8.  -7.  -6.  -5.  -4.\n",
      "  -3.  -2.  -1.   0.]\n"
     ]
    },
    {
     "data": {
      "text/plain": "<Figure size 640x480 with 1 Axes>",
      "image/png": "[encoded data removed]"
     },
     "metadata": {},
     "output_type": "display_data"
    }
   ],
   "source": [
    "import matplotlib.pyplot as plt\n",
    "\n",
    "\n",
    "env_sizes = range(1, 50)  # Explore some size range  \n",
    "counts = []\n",
    "value_functions = []\n",
    "\n",
    "for size in env_sizes:\n",
    "    env = GridworldEnv(shape=[size, size])\n",
    "    policy, v, count = value_iteration(env)\n",
    "    counts.append(count)\n",
    "    value_functions.append(v)\n",
    "\n",
    "    \n",
    "print(\"Algunas funciones de valor:\")\n",
    "print(f\"Ambiente 5x5: {value_functions[5]}\")\n",
    "print(f\"Ambiente 25x25: {value_functions[25]}\")\n",
    "\n",
    "\n",
    "plt.plot(env_sizes, counts)\n",
    "plt.xlabel(\"Tamaño de ambiente\")\n",
    "plt.ylabel(\"Iteraciones\")\n",
    "plt.title(\"Iteraciones para distintos tamaños de ambiente\")\n",
    "plt.show()"
   ]
  },
  {
   "cell_type": "markdown",
   "source": [
    "## Conclusión de la grafica anterior:\n",
    "Esta gráfica cambia radicalmente si usamos el count dentro o fuera del bucle for (línea 25 de la función `value_iteration`). Si lo ponemos fuera, pero dentro del while (línea 21), la gráfica se ve lineal, es decir que crece con un orden lineal (O(N)) siendo N una de las dimensiones de la matriz (cualquiera porque es cuadrada). Si lo ponemos dentro del for, la gráfica se ve como la que se muestra arriba, se ve un comportamiento mas cercano al cuadratico. Tiene sentido ya que el for itera sobre todos los estados (`N^2`) y dentro de ese for se itera N veces sobre las acciones posibles en cada estado, por lo que el count crece con un orden `N^3`."
   ],
   "metadata": {
    "collapsed": false
   }
  },
  {
   "cell_type": "code",
   "execution_count": null,
   "outputs": [],
   "source": [],
   "metadata": {
    "collapsed": false
   }
  }
 ],
 "metadata": {
  "kernelspec": {
   "display_name": "Python 3",
   "language": "python",
   "name": "python3"
  },
  "language_info": {
   "codemirror_mode": {
    "name": "ipython",
    "version": 3
   },
   "file_extension": ".py",
   "mimetype": "text/x-python",
   "name": "python",
   "nbconvert_exporter": "python",
   "pygments_lexer": "ipython3",
   "version": "3.6.9"
  }
 },
 "nbformat": 4,
 "nbformat_minor": 4
}
